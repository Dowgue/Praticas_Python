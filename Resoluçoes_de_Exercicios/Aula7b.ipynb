{
  "nbformat": 4,
  "nbformat_minor": 0,
  "metadata": {
    "colab": {
      "name": "Aula7b.ipynb",
      "provenance": [],
      "authorship_tag": "ABX9TyMaN7mohRPPqrUarBxuL1n1",
      "include_colab_link": true
    },
    "kernelspec": {
      "name": "python3",
      "display_name": "Python 3"
    },
    "language_info": {
      "name": "python"
    }
  },
  "cells": [
    {
      "cell_type": "markdown",
      "metadata": {
        "id": "view-in-github",
        "colab_type": "text"
      },
      "source": [
        "<a href=\"https://colab.research.google.com/github/Dowgue/Praticas_Python/blob/main/Resolu%C3%A7oes_de_Exercicios/Aula7b.ipynb\" target=\"_parent\"><img src=\"https://colab.research.google.com/assets/colab-badge.svg\" alt=\"Open In Colab\"/></a>"
      ]
    },
    {
      "cell_type": "markdown",
      "metadata": {
        "id": "ukcGc6MUtXl4"
      },
      "source": [
        "## Exercícios Parte 2\n",
        "https://penseallen.github.io/PensePython2e/05-cond-recur.html\n",
        "\n",
        "1) O módulo time fornece uma função, também chamada time, que devolve a Hora Média de Greenwich na “época”, que é um momento arbitrário usado como ponto de referência. Em sistemas UNIX, a época é primeiro de janeiro de 1970."
      ]
    },
    {
      "cell_type": "code",
      "metadata": {
        "id": "_vNAy-wRtXl5",
        "colab": {
          "base_uri": "https://localhost:8080/"
        },
        "outputId": "c1afca92-239b-4f51-849e-1b1d9824f60f"
      },
      "source": [
        "import time\n",
        "time.time()"
      ],
      "execution_count": 1,
      "outputs": [
        {
          "output_type": "execute_result",
          "data": {
            "text/plain": [
              "1634237625.5231616"
            ]
          },
          "metadata": {},
          "execution_count": 1
        }
      ]
    },
    {
      "cell_type": "markdown",
      "metadata": {
        "id": "6PCPU7YnCYZV"
      },
      "source": [
        "Escreva um script que leia a hora atual e a converta em um tempo em horas, minutos e segundos, mais o número de dias desde a época."
      ]
    },
    {
      "cell_type": "markdown",
      "metadata": {
        "id": "0GPsuxs0CZ2f"
      },
      "source": [
        "2) O último teorema de Fermat diz que não existem números inteiros a, b e c tais que `a**n + b**n == c**n` para quaisquer valores de n maiores que 2.\n",
        "   1. Escreva uma função chamada `check_fermat` que receba quatro parâmetros – a, b, c e n – e verifique se o teorema de Fermat se mantém. Se n for maior que 2 e `a**n + b**n == c**n` o programa deve imprimir, “Holy smokes, Fermat was wrong!” Senão o programa deve exibir “No, that doesn’t work.”\n",
        "\n",
        "   1. Escreva uma função que peça ao usuário para digitar valores para a, b, c e n, os converta em números inteiros e use `check_fermat` para verificar se violam o teorema de Fermat."
      ]
    },
    {
      "cell_type": "markdown",
      "metadata": {
        "id": "Ccx6RkOjCoG0"
      },
      "source": [
        "3) Há um teste simples para ver se é possível formar um triângulo para quaisquer três comprimentos: Se algum dos três comprimentos for maior que a soma dos outros dois, então você não pode formar um triângulo. Senão, você pode. (Se a soma de dois comprimentos igualar o terceiro, eles formam um triângulo chamado “degenerado”.)\n",
        "   1. Escreva uma função chamada `is_triangle` que receba três números inteiros como argumentos, e que imprima “Yes” ou “No”, dependendo da possibilidade de formar ou não um triângulo de gravetos com os comprimentos dados.\n",
        "   1. Escreva uma função que peça ao usuário para digitar três comprimentos de gravetos, os converta em números inteiros e use `is_triangle` para verificar se os gravetos com os comprimentos dados podem formar um triângulo."
      ]
    },
    {
      "cell_type": "markdown",
      "metadata": {
        "id": "y_tsQq67C73t"
      },
      "source": [
        "4) Leia a próxima função e veja se consegue compreender o que ela faz (veja os exemplos no Capítulo 4). Então execute-a e veja se acertou."
      ]
    },
    {
      "cell_type": "code",
      "metadata": {
        "id": "p1LUrtA2C99E"
      },
      "source": [
        "def draw(t, length, n):\n",
        "    '''\n",
        "    t: turtle ou ColabTurtle\n",
        "    length: comprimento da linha\n",
        "    n: número de iterações. deve ser maior que zero.\n",
        "    '''\n",
        "    if n == 0:\n",
        "        return\n",
        "    angle = 50\n",
        "    t.forward(length * n)\n",
        "    t.left(angle)\n",
        "    draw(t, length, n-1)\n",
        "    t.right(2 * angle)\n",
        "    draw(t, length, n-1)\n",
        "    t.left(angle)\n",
        "    t.backward(length * n)"
      ],
      "execution_count": null,
      "outputs": []
    },
    {
      "cell_type": "markdown",
      "metadata": {
        "id": "WpeZVhIBElfQ"
      },
      "source": [
        "5) A curva de Koch é um fractal que parece com o da Figura abaixo. \n",
        "![](https://github.com/PenseAllen/PensePython2e/raw/master/fig/tnkp_0502.png)\n",
        "\n",
        "Para desenhar uma curva de Koch com o comprimento x, tudo o que você tem que fazer é:\n",
        "\n",
        "1. Desenhe uma curva de Koch com o comprimento x/3.\n",
        "\n",
        "1. Vire 60 graus à esquerda.\n",
        "\n",
        "1. Desenhe uma curva de Koch com o comprimento x/3.\n",
        "\n",
        "1. Vire 120 graus à direita.\n",
        "\n",
        "1. Desenhe uma curva de Koch com o comprimento x/3.\n",
        "\n",
        "1. Vire 60 graus à esquerda.\n",
        "\n",
        "1. Desenhe uma curva de Koch com o comprimento x/3.\n",
        "\n",
        "\n",
        "A exceção é se x for menor que 3: neste caso, você pode desenhar apenas uma linha reta com o comprimento x.\n",
        "\n",
        "1. Escreva uma função chamada `koch` que receba um `turtle` (usar [trinket](https://trinket.io/turtle)) e um comprimento como parâmetros, e use o `turtle` para desenhar uma curva de Koch com o comprimento dado.\n",
        "\n",
        "1. Escreva uma função chamada `snowflake` que desenhe três curvas de Koch para fazer o traçado de um floco de neve.\n",
        "\n",
        "1. A curva de Koch pode ser generalizada de vários modos. Veja exemplos em http://en.wikipedia.org/wiki/Koch_snowflake e implemente o seu favorito."
      ]
    },
    {
      "cell_type": "code",
      "metadata": {
        "id": "rtrV704cqznt"
      },
      "source": [
        "#Exercício 1\n",
        "from datetime import datetime\n",
        "import time\n",
        "\n",
        "date = {\n",
        "    0: datetime.fromtimestamp(0),\n",
        "    1: datetime.fromtimestamp(time.time())\n",
        "}\n",
        "\n",
        "delta = {\n",
        "    'segundos': (date1 - date0).seconds,\n",
        "    'minutos': ((date1 - date0).seconds//60)%60,\n",
        "    'horas': ((date1 - date0).seconds//3600),\n",
        "    'dias': (date1 - date0).days\n",
        "}\n",
        "\n",
        "print(\"Diferença de agora para\", datetime.fromtimestamp(0).strftime('%d/%m/%Y %H:%M:%S'))\n",
        "print(\"{:n} segundos, {:n} minutos, {:n} horas e {:n} dias de diferença\".format(delta['segundos'], delta['minutos'], delta['horas'], delta['dias']))"
      ],
      "execution_count": null,
      "outputs": []
    },
    {
      "cell_type": "code",
      "metadata": {
        "colab": {
          "base_uri": "https://localhost:8080/"
        },
        "id": "fBYR4VcJq3r-",
        "outputId": "8a5c0a93-da9e-46e8-af1f-4e4b8ad5ca2b"
      },
      "source": [
        "#Exercício 2\n",
        "def check_fermat(a, b, c, n):\n",
        "    #Filtra o teorema\n",
        "    if (n <= 2):\n",
        "        print('O valor de n tem que ser maior que 2 (n > 2) :P')\n",
        "        return\n",
        "\n",
        "    #Verificar o teorema\n",
        "    if (a**n + b**n == c**n):\n",
        "        print('Caramba, Fermat estava errado!')\n",
        "        return True\n",
        "    else:\n",
        "        print('Não, não funciona')\n",
        "        return False\n",
        "\n",
        "#Inserção de valores\n",
        "print('Insira os valores para testara igualdade a**n + b**n == c**n')\n",
        "a = int(input('a: '))\n",
        "b = int(input('b: '))\n",
        "c = int(input('c: '))\n",
        "n = int(input('n: '))\n",
        "\n",
        "check_fermat(a, b, c, n)"
      ],
      "execution_count": 3,
      "outputs": [
        {
          "output_type": "stream",
          "name": "stdout",
          "text": [
            "Insira os valores para testara igualdade a**n + b**n == c**n\n",
            "a: 1\n",
            "b: 2\n",
            "c: 2\n",
            "n: 3\n",
            "Não, não funciona\n"
          ]
        },
        {
          "output_type": "execute_result",
          "data": {
            "text/plain": [
              "False"
            ]
          },
          "metadata": {},
          "execution_count": 3
        }
      ]
    },
    {
      "cell_type": "code",
      "metadata": {
        "colab": {
          "base_uri": "https://localhost:8080/"
        },
        "id": "D7ic-C_urcny",
        "outputId": "6039c75c-24f9-4435-f3eb-b60fea5d839d"
      },
      "source": [
        "#Exercício 3\n",
        "\n",
        "def is_triangle(a, b, c):\n",
        "    triangle = True\n",
        "\n",
        "    #Testes para verificar se são triângulos\n",
        "    if (a + b < c or b + c < a or c + a < b):\n",
        "        triangle = False\n",
        "\n",
        "    #Retorna o resultado\n",
        "    if (triangle):\n",
        "        print('Este triângulo existe')\n",
        "    else:\n",
        "        print('Este triângulo não existe')\n",
        "\n",
        "    return triangle\n",
        "\n",
        "#Inserção de valores\n",
        "print('Um triângulo de 3 lados. Digite o comprimento dos seus lados')\n",
        "a = int(input('a: '))\n",
        "b = int(input('b: '))\n",
        "c = int(input('c: '))\n",
        "\n",
        "is_triangle(a, b, c)"
      ],
      "execution_count": 4,
      "outputs": [
        {
          "output_type": "stream",
          "name": "stdout",
          "text": [
            "Um triângulo de 3 lados. Digite o comrprimento dos seus lados\n",
            "a: 2\n",
            "b: 3\n",
            "c: 5\n",
            "Este triângulo existe\n"
          ]
        },
        {
          "output_type": "execute_result",
          "data": {
            "text/plain": [
              "True"
            ]
          },
          "metadata": {},
          "execution_count": 4
        }
      ]
    },
    {
      "cell_type": "code",
      "metadata": {
        "id": "qZVo3K97tKvV"
      },
      "source": [
        "#Exercício 4 (trinket)\n",
        "import turtle\n",
        "\n",
        "ds = turtle.Screen()\n",
        "douglas = turtle.Turtle()\n",
        "douglas.shape('turtle')\n",
        "type(douglas)\n",
        "\n",
        "a = input('Insira a cor de fundo:')\n",
        "b = input('Insira a cor da tartatura:')\n",
        "c = input('Insira o tamanho do traço:')\n",
        "d = input('Insira velocidade da tartatura:')\n",
        "\n",
        "ds.bgcolor(a)\n",
        "douglas.color(b)\n",
        "douglas.pensize(c)\n",
        "douglas.speed(d)\n",
        "\n",
        "def draw(t, length, n):\n",
        "    '''\n",
        "    t: turtle ou ColabTurtle\n",
        "    length: comprimento da linha\n",
        "    n: número de iterações. deve ser maior que zero.\n",
        "    '''\n",
        "    if n == 0:\n",
        "        return\n",
        "    angle = 50\n",
        "    t.forward(length * n)\n",
        "    t.left(angle)\n",
        "    draw(t, length, n-1)\n",
        "    t.right(2 * angle)\n",
        "    draw(t, length, n-1)\n",
        "    t.left(angle)\n",
        "    t.backward(length * n)\n",
        "    \n",
        "draw(douglas,10,5)"
      ],
      "execution_count": null,
      "outputs": []
    },
    {
      "cell_type": "code",
      "metadata": {
        "id": "V8v_x9dKtPDF"
      },
      "source": [
        "#Exercício 5(trinket)\n",
        "import turtle\n",
        "\n",
        "ds = turtle.Screen()\n",
        "douglas = turtle.Turtle()\n",
        "douglas.shape('turtle')\n",
        "type(douglas)\n",
        "\n",
        "a = input('Insira a cor de fundo:')\n",
        "b = input('Insira a cor da tartatura:')\n",
        "c = input('Insira o tamanho do traço:')\n",
        "d = input('Insira velocidade da tartatura:')\n",
        "\n",
        "ds.bgcolor(a)\n",
        "douglas.color(b)\n",
        "douglas.pensize(c)\n",
        "douglas.speed(d)\n",
        "\n",
        "def koch(turtle, length, min_length = 3):\n",
        "    if length > min_length or length >= 3:\n",
        "        koch(turtle, length/3, min_length)\n",
        "        turtle.left(60)\n",
        "        koch(turtle, length/3, min_length)\n",
        "        turtle.right(120)\n",
        "        koch(turtle, length/3, min_length)\n",
        "        turtle.left(60)\n",
        "        koch(turtle, length/3, min_length)\n",
        "    else:\n",
        "        turtle.forward(int(length))\n",
        "\n",
        "def snowflake(turtle, length, resolution):\n",
        "    min_length = length/(3**resolution)\n",
        "    koch(turtle, length, min_length)\n",
        "    turtle.right(120)\n",
        "    koch(turtle, length, min_length)\n",
        "    turtle.right(120)\n",
        "    koch(turtle, length, min_length)\n",
        "\n",
        "douglas.penup()\n",
        "douglas.goto(-200, -200)\n",
        "douglas.pendown()\n",
        "snowflake(douglas, 250, 3)"
      ],
      "execution_count": null,
      "outputs": []
    }
  ]
}