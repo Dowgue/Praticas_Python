{
  "nbformat": 4,
  "nbformat_minor": 0,
  "metadata": {
    "colab": {
      "name": "Aula3.ipynb",
      "provenance": [],
      "collapsed_sections": [],
      "authorship_tag": "ABX9TyM7o2euHwGw9p4fDOBF0Szo",
      "include_colab_link": true
    },
    "kernelspec": {
      "name": "python3",
      "display_name": "Python 3"
    },
    "language_info": {
      "name": "python"
    }
  },
  "cells": [
    {
      "cell_type": "markdown",
      "metadata": {
        "id": "view-in-github",
        "colab_type": "text"
      },
      "source": [
        "<a href=\"https://colab.research.google.com/github/Dowgue/Praticas_Python/blob/main/Resolu%C3%A7oes_de_Exercicios/Aula3.ipynb\" target=\"_parent\"><img src=\"https://colab.research.google.com/assets/colab-badge.svg\" alt=\"Open In Colab\"/></a>"
      ]
    },
    {
      "cell_type": "markdown",
      "metadata": {
        "id": "TD6ivmvdUoDZ"
      },
      "source": [
        ""
      ]
    },
    {
      "cell_type": "markdown",
      "metadata": {
        "id": "kAzo_U0J1QC4"
      },
      "source": [
        "Exercício 1 -\n",
        "1 Crie uma funcão que tome um argumento e imprima o valor e o tipo dele."
      ]
    },
    {
      "cell_type": "code",
      "metadata": {
        "id": "C8-P6RncU2EI",
        "colab": {
          "base_uri": "https://localhost:8080/"
        },
        "outputId": "d924b50c-c221-4966-a8d5-cabdd2b89d61"
      },
      "source": [
        "def função_inteiro():\n",
        "  y = 1\n",
        "  print('O argumento é y, com valor ', y ,'e tipo', type(y) )\n",
        "\n",
        "função_inteiro()"
      ],
      "execution_count": null,
      "outputs": [
        {
          "output_type": "stream",
          "text": [
            "O argumento é y, com valor  1 e tipo <class 'int'>\n"
          ],
          "name": "stdout"
        }
      ]
    },
    {
      "cell_type": "markdown",
      "metadata": {
        "id": "Ghd2kKVM8l-E"
      },
      "source": [
        "Exercício 2- Crie uma função que calcule e imprima velocidade media de um objeto a partir de uma posição inicial, a final e o tempo transcorrido para um objeto em MRU. Também crie uma funcão que calcule e imprima a velocidade de um objeto a partir da aceleração constante e o tempo (MRUA) (p.ex. queda libre).\n",
        "\n"
      ]
    },
    {
      "cell_type": "code",
      "metadata": {
        "colab": {
          "base_uri": "https://localhost:8080/"
        },
        "id": "Y24jKW318ruf",
        "outputId": "cb3022db-49b7-4f87-d3cd-ed8dc04aa6e3"
      },
      "source": [
        "def MRU():\n",
        "     S_0 = 0    #Posição inicial em m\n",
        "     S_f = 100  #Posição final em m\n",
        "     t = 2         #Tempo em s\n",
        "     v = (S_f - S_0)/t #Velocidade média em m/s\n",
        "\n",
        "     print('A velocidade média é',\"{0:.0f}\".format(v),'m/s')\n",
        "\n",
        "MRU()"
      ],
      "execution_count": null,
      "outputs": [
        {
          "output_type": "stream",
          "text": [
            "A velocidade média é 50 m/s\n"
          ],
          "name": "stdout"
        }
      ]
    },
    {
      "cell_type": "code",
      "metadata": {
        "colab": {
          "base_uri": "https://localhost:8080/"
        },
        "id": "a1j6rSpyBAC2",
        "outputId": "9c344b72-0c9f-4a56-9265-d72fff28ad40"
      },
      "source": [
        "def MRUA():\n",
        "     t = 4    #Tempo em s\n",
        "     g = 9.8  #Aceleração em m/s^2\n",
        "     v = g*t # Velocidade em m/s\n",
        "\n",
        "     print('A velocidade média é',v, 'm/s')\n",
        "\n",
        "MRUA()    "
      ],
      "execution_count": null,
      "outputs": [
        {
          "output_type": "stream",
          "text": [
            "A velocidade média é 39.2 m/s\n"
          ],
          "name": "stdout"
        }
      ]
    },
    {
      "cell_type": "markdown",
      "metadata": {
        "id": "hYvx5bxfAaOf"
      },
      "source": [
        "Exercício 3 - Crie uma funcão para calcular o ángulo zenital do sol (da semana passada) tomando como argumento as medidas da altura e o comprimento da sombra."
      ]
    },
    {
      "cell_type": "code",
      "metadata": {
        "colab": {
          "base_uri": "https://localhost:8080/"
        },
        "id": "cM4CVn_eCDQY",
        "outputId": "0dc02505-39ae-45f4-82c8-e155ae16e76b"
      },
      "source": [
        "import math\n",
        "\n",
        "def zenital():\n",
        "     sombra = 0.5 #Sombra em m\n",
        "     altura = 5     #Altura do poste em m\n",
        "     angulo = math.degrees(math.atan(sombra/altura))\n",
        "\n",
        "     print('O ângulo zenital é',angulo,'°')\n",
        "\n",
        "zenital()"
      ],
      "execution_count": null,
      "outputs": [
        {
          "output_type": "stream",
          "text": [
            "O ângulo zenital é 5.710593137499643 °\n"
          ],
          "name": "stdout"
        }
      ]
    },
    {
      "cell_type": "markdown",
      "metadata": {
        "id": "yciBu9IYDGcx"
      },
      "source": [
        "Exercício 4 - Crie uma função que faça a conversão de uma medida inicialmente em milhas para m, e outra para o inverso; uma de horas para segundos, e o inverso. Utilize estas funções para resolver novamente o primeiro exercício da semana passada (da corrida). Se uma pessoa demora 30 minutos em 4 milhas, qual velocidade media em km/h ? e o tempo medio por kilometro?"
      ]
    },
    {
      "cell_type": "code",
      "metadata": {
        "colab": {
          "base_uri": "https://localhost:8080/"
        },
        "id": "5HebUiCzKqts",
        "outputId": "014bb2f6-b219-427d-9c1f-31f51015f596"
      },
      "source": [
        "import math\n",
        "\n",
        "def km_para_milhas(km):\n",
        "    milha = km/1.61   \n",
        "    return milha \n",
        "\n",
        "def milhas_para_km(milho):\n",
        "    km = milha*1.61    \n",
        "    return km\n",
        "\n",
        "def h_para_s(h):\n",
        "    s = 60*60*h\n",
        "    return s    \n",
        "\n",
        "def s_para_h(s):\n",
        "    h = s/(60*60)\n",
        "    return h   \n",
        "\n",
        "# Exercício semana passada \n",
        "\n",
        "t_medio_milha = 43.5/km_para_milhas(10)\n",
        "v_media = km_para_milhas(10)/s_para_h(60*43.5) \n",
        "\n",
        "print('No exercício da semana passada, o tempo médio por milha é ', \n",
        "      \"{0:.0f}\".format(t_medio_milha), 'min e a velocidade média será de',\n",
        "      \"{0:.1f}\".format(v_media), 'milhas/h.' )\n",
        "\n",
        "print()\n",
        "# Exercício dessa semana\n",
        "\n",
        "t_medio_h = 0.5/milhas_para_km(4)\n",
        "v_media_h = milhas_para_km(4)/0.5\n",
        "\n",
        "print('No exercício dessa semana, o tempo médio por km é',\"{0:.2f}\".format(t_medio_h),\n",
        "      'h/km e a velocidade média é',\"{0:.2f}\".format(v_media_h),'km/h.')"
      ],
      "execution_count": null,
      "outputs": [
        {
          "output_type": "stream",
          "text": [
            "No exercício da semana passada, o tempo médio por milha é  7 min e a velocidade média será de 8.6 milhas/h.\n",
            "\n",
            "No exercício dessa semana, o tempo médio por km é 0.03 h/km e a velocidade média é 32.20 km/h.\n"
          ],
          "name": "stdout"
        }
      ]
    },
    {
      "cell_type": "markdown",
      "metadata": {
        "id": "HmSq-WNkUMze"
      },
      "source": [
        "Exercício 5 - Crie funções para calcular os outros exemplos das aulas anteriores: IMC, volume de uma esfera, distancia entre pontos de máximos de difração. Decida quais serão os argumentos e o valor retornado."
      ]
    },
    {
      "cell_type": "code",
      "metadata": {
        "colab": {
          "base_uri": "https://localhost:8080/"
        },
        "id": "-wFZ6pOkUiH2",
        "outputId": "a45dbb96-2852-4e7f-df56-8d594e52f827"
      },
      "source": [
        "import math\n",
        "\n",
        "#IMC\n",
        "\n",
        "def IMC(massa,altura):\n",
        "    IMC = massa/((altura)**2)\n",
        "    print(\"O IMC será de \", \"{0:.2f}\".format(IMC),\"kg/m^2\")\n",
        "\n",
        "IMC(11,0.7)\n",
        "print()\n",
        "\n",
        "#Volume da esfera\n",
        "\n",
        "def V_esfera(raio):\n",
        "     v_esfera = (4/3)*math.pi*(raio**3)\n",
        "     print(\"O volume da esfera será de\", \"{0:.1f}\".format(v_esfera),\"m^3\")\n",
        "\n",
        "V_esfera(5)\n",
        "print()\n",
        "\n",
        "#Distância entre os máximos de difração\n",
        "\n",
        "def Difracao(comp_onda,D,d):\n",
        "    delta_y = (comp_onda*D)/d\n",
        "    print(\"A distancia entre pontos de máximos de difração será de\", \"{0:.3f}\".format(delta_y),\"m\")\n",
        "\n",
        "Difracao(632.8*10**-9,1.98, 0.250*10**-3)\n"
      ],
      "execution_count": 40,
      "outputs": [
        {
          "output_type": "stream",
          "text": [
            "O IMC será de  22.45 kg/m^2\n",
            "\n",
            "O volume da esfera será de 523.6 m^3\n",
            "\n",
            "A distancia entre pontos de máximos de difração será de 0.005 m\n"
          ],
          "name": "stdout"
        }
      ]
    }
  ]
}