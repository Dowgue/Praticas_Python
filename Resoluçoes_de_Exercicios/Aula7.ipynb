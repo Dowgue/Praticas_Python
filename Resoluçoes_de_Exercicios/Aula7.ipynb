{
  "nbformat": 4,
  "nbformat_minor": 0,
  "metadata": {
    "colab": {
      "name": "Aula7.ipynb",
      "provenance": [],
      "authorship_tag": "ABX9TyOMhtDWtUtzkpVd4O70asld",
      "include_colab_link": true
    },
    "kernelspec": {
      "name": "python3",
      "display_name": "Python 3"
    },
    "language_info": {
      "name": "python"
    }
  },
  "cells": [
    {
      "cell_type": "markdown",
      "metadata": {
        "id": "view-in-github",
        "colab_type": "text"
      },
      "source": [
        "<a href=\"https://colab.research.google.com/github/Dowgue/Praticas_Python/blob/main/Resolu%C3%A7oes_de_Exercicios/Aula7.ipynb\" target=\"_parent\"><img src=\"https://colab.research.google.com/assets/colab-badge.svg\" alt=\"Open In Colab\"/></a>"
      ]
    },
    {
      "cell_type": "markdown",
      "metadata": {
        "id": "ZZQhHAEdHUVO"
      },
      "source": [
        "## Exercícios Parte 1\n",
        "\n",
        "1) A **conjectura de Collatz**, diz que \"Todos os inteiros positivos irão eventualmente convergir para 1 usando as regras do Collatz\". Faça um programa que ___verifique___ a conjectura de Collatz para alguns valores. As regras de Collatz são: \n",
        "\n",
        "Dado um número ***n***: \n",
        "   * se ***n*** for par, divida-o por ***2***;\n",
        "   * se ***n*** for ímpar, atualize-o para 3*n + 1;\n",
        "   * repetir até chegar ao valor 1.\n",
        "  \n",
        "  \n",
        "2) Modifique a função ```counter``` para contar o número de vezes que os dígitos 0 e 5 aparecem em um dado número n. Por exemplo, n = 10568, tem 2 dígitos 0 ou 5. \n",
        "\n",
        "3) Encapsule e generalize a seguinte declaração:\n",
        "\n",
        "\n",
        "\n",
        "```python\n",
        "for i in [12, 16, 17, 24, 29]:\n",
        "    if i % 2 == 1:  # If the number is odd\n",
        "       break        #  ... immediately exit the loop\n",
        "    print(i)\n",
        "print(\"done\")\n",
        "```"
      ]
    },
    {
      "cell_type": "code",
      "metadata": {
        "colab": {
          "base_uri": "https://localhost:8080/"
        },
        "id": "T4LBze7iHf96",
        "outputId": "d07b6cb2-d6ec-434d-fedc-7e81763e1943"
      },
      "source": [
        "#Exercício 1\n",
        "\n",
        "def collatz(n, show_print = True):\n",
        "    loops = 0\n",
        "    n_i = n\n",
        "    while n!= 1:\n",
        "        if (n % 2 == 0):\n",
        "            n = n/2\n",
        "        else:\n",
        "            n = 3*n + 1\n",
        "        loops += 1\n",
        "    if (show_print):\n",
        "        print(\"Para o número {:n} foram necessários {:n} loops na conjectura de collatz para chegar a 1.\".format(n_i, loops))\n",
        "    return loops\n",
        "\n",
        "collatz(22)\n"
      ],
      "execution_count": null,
      "outputs": [
        {
          "output_type": "stream",
          "name": "stdout",
          "text": [
            "Para o número 22 foram necessários 15 loops na conjectura de collatz para chegar a 1.\n"
          ]
        },
        {
          "output_type": "execute_result",
          "data": {
            "text/plain": [
              "15"
            ]
          },
          "metadata": {},
          "execution_count": 4
        }
      ]
    },
    {
      "cell_type": "code",
      "metadata": {
        "id": "SZzI0hZrI9pZ",
        "colab": {
          "base_uri": "https://localhost:8080/"
        },
        "outputId": "bfb7a310-5899-4ca1-de9b-82a51897c4d8"
      },
      "source": [
        "#Exercício 2\n",
        "\n",
        "def quantos_digitos(numero, digitos, show_print = True):\n",
        "\n",
        "    #Transforma \"digitos\" em lista caso não seja\n",
        "    if not isinstance(digitos, list):\n",
        "        digitos = [digitos]\n",
        "\n",
        "    #Checa se pode haver erros\n",
        "    for digito in digitos:\n",
        "        if not isinstance(digito, int):\n",
        "            print(\"ERRO: os dígitos devem ser números inteiros\")\n",
        "            return False\n",
        "        if digito > 10:\n",
        "            print(\"ERRO: os dígitos não podem ser maiores que 9\")\n",
        "            return False\n",
        "        if digito < 0:\n",
        "            print(\"ERRO: os dígitos não podem ser menores que 0\")\n",
        "            return False\n",
        "\n",
        "    #Converte tudo para string\n",
        "    numero = str(numero)\n",
        "    for i in range(len(digitos)):\n",
        "        digitos[i] = str(digitos[i])\n",
        "\n",
        "    #Conta cada digito\n",
        "    contador = 0\n",
        "    for digito in digitos:\n",
        "        for n in numero:\n",
        "            if (n == digito):\n",
        "                contador += 1\n",
        "    if (show_print):\n",
        "        print(\"O número {} contém {:n} dos digitos selecionados.\".format(numero, contador))\n",
        "    return contador\n",
        "\n",
        "quantos_digitos(10568, [0,5])\n",
        "quantos_digitos(105154668, [6,5,0])"
      ],
      "execution_count": null,
      "outputs": [
        {
          "output_type": "stream",
          "name": "stdout",
          "text": [
            "O número 10568 contém 2 dos digitos selecionados.\n",
            "O número 105154668 contém 5 dos digitos selecionados.\n"
          ]
        },
        {
          "output_type": "execute_result",
          "data": {
            "text/plain": [
              "5"
            ]
          },
          "metadata": {},
          "execution_count": 5
        }
      ]
    },
    {
      "cell_type": "code",
      "metadata": {
        "colab": {
          "base_uri": "https://localhost:8080/"
        },
        "id": "yeHp1i4OInI9",
        "outputId": "f30328a8-4aab-4649-8d24-0a8f29a9d6e4"
      },
      "source": [
        "#Exercício 3\n",
        "\n",
        "def has_odd(numbers):\n",
        "    for number in numbers:\n",
        "        if number % 2 == 1:\n",
        "            break\n",
        "        print(\"Number {:n} is odd.\".format(number))\n",
        "    print(\"Done\")\n",
        "\n",
        "has_odd([12, 16, 17, 24, 29])"
      ],
      "execution_count": 1,
      "outputs": [
        {
          "output_type": "stream",
          "name": "stdout",
          "text": [
            "Number 12 is odd.\n",
            "Number 16 is odd.\n",
            "Done\n"
          ]
        }
      ]
    }
  ]
}