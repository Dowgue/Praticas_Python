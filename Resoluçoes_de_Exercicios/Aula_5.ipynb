{
  "nbformat": 4,
  "nbformat_minor": 0,
  "metadata": {
    "colab": {
      "name": "Aula_5.ipynb",
      "provenance": [],
      "authorship_tag": "ABX9TyNiPDyl3PDvEb5RruJQYm/e",
      "include_colab_link": true
    },
    "kernelspec": {
      "name": "python3",
      "display_name": "Python 3"
    },
    "language_info": {
      "name": "python"
    }
  },
  "cells": [
    {
      "cell_type": "markdown",
      "metadata": {
        "id": "view-in-github",
        "colab_type": "text"
      },
      "source": [
        "<a href=\"https://colab.research.google.com/github/Dowgue/Praticas_Python/blob/main/Resolu%C3%A7oes_de_Exercicios/Aula_5.ipynb\" target=\"_parent\"><img src=\"https://colab.research.google.com/assets/colab-badge.svg\" alt=\"Open In Colab\"/></a>"
      ]
    },
    {
      "cell_type": "markdown",
      "metadata": {
        "id": "Gs2gS6U0ERi6"
      },
      "source": [
        "Exercício 1 - Modifique o programa da tartaruga (primeiro exemplo) para que, antes de criar a janela, ele solicite que o usuário insira a cor de fundo desejada. Ele deve armazenar as respostas do usuário em uma variável e modificar a cor da janela de acordo com os desejos do usuário. \n",
        "   * ***Dicas***: faça uso da função ***input***, built-in do python\n",
        "   * você pode encontrar uma lista de nomes de cores permitidos em http://www.tcl.tk/man/tcl8.4/TkCmd/colors.htm. Inclui alguns bem incomuns, como “peach puff” e “HotPink” ”***"
      ]
    },
    {
      "cell_type": "code",
      "metadata": {
        "id": "0RrIKYc1GtpS"
      },
      "source": [
        "import turtle\n",
        "ds = turtle.Screen()\n",
        "douglas = turtle.Turtle()\n",
        "\n",
        "a = input('Insira a cor de fundo:')\n",
        "\n",
        "ds.bgcolor(a)\n",
        "for i in range(4):\n",
        "    douglas.forward(50)          \n",
        "    douglas.left(90)\n",
        "\n",
        "ds.mainloop()"
      ],
      "execution_count": null,
      "outputs": []
    },
    {
      "cell_type": "markdown",
      "metadata": {
        "id": "EeKmMVYMGuti"
      },
      "source": [
        "Exercício 2 - a) Faça modificações similares para permitir que o usuário mude a cor da tartaruga durante a execução do programa.\n",
        "   b) Faça o mesmo para a largura da caneta da tartaruga. *Dica: seu diálogo com o usuário retornará uma string, mas o método **pensize** espera que seu argumento seja um **int**. Então, você precisará converter a **string** em um **int** antes de passá-la para **pensize**.* "
      ]
    },
    {
      "cell_type": "code",
      "metadata": {
        "id": "RdP3T6ADHXM2"
      },
      "source": [
        "import turtle\n",
        "ds = turtle.Screen()\n",
        "douglas = turtle.Turtle()\n",
        "type(douglas)\n",
        "\n",
        "a = input('Insira a cor de fundo:')\n",
        "b = input('Insira a cor da tartatura:')\n",
        "c = input('Insira o tamanho do traço:')\n",
        "\n",
        "ds.bgcolor(a)\n",
        "douglas.color(b)\n",
        "douglas.pensize(c)\n",
        "\n",
        "for i in range(4):\n",
        "    douglas.forward(50)          \n",
        "    douglas.left(90)\n",
        "\n",
        "ds.mainloop()"
      ],
      "execution_count": null,
      "outputs": []
    },
    {
      "cell_type": "markdown",
      "metadata": {
        "id": "3jGmy4rIIql7"
      },
      "source": [
        "Exercício 3 - Investiguem os métodos e tipos do módulo turtle;"
      ]
    },
    {
      "cell_type": "markdown",
      "metadata": {
        "id": "B5tziVS-Jb5B"
      },
      "source": [
        "Exercício 4 - A) Desenhe um quadrado, usando a forma de tartaruga, ao invés da flecha, para desenhar.\n",
        "   B) mude a velocidade com que a tartaruga faz o desenho"
      ]
    },
    {
      "cell_type": "code",
      "metadata": {
        "id": "xuFP8DaUJjFh"
      },
      "source": [
        "import turtle\n",
        "ds = turtle.Screen()\n",
        "douglas = turtle.Turtle()\n",
        "douglas.shape('turtle')\n",
        "type(douglas)\n",
        "\n",
        "a = input('Insira a cor de fundo:')\n",
        "b = input('Insira a cor da tartatura:')\n",
        "c = input('Insira o tamanho do traço:')\n",
        "d = input('Insira velocidade da tartatura:')\n",
        "\n",
        "ds.bgcolor(a)\n",
        "douglas.color(b)\n",
        "douglas.pensize(c)\n",
        "douglas.speed(d)\n",
        "\n",
        "for i in range(4):\n",
        "    douglas.forward(50)          \n",
        "    douglas.left(90)\n",
        "\n",
        "ds.mainloop()"
      ],
      "execution_count": null,
      "outputs": []
    },
    {
      "cell_type": "markdown",
      "metadata": {
        "id": "blrrJEANMJJI"
      },
      "source": [
        "Exercício 5 -  Sabendo que o ângulo interno da ponta de uma estrela de 5 pontas é de 36 graus, desenhe uma estrela em uma janela.\n",
        "![title](https://github.com/malbouis/Python_intro/blob/master/aulas_2019/pics/estrela.png?raw=1)"
      ]
    },
    {
      "cell_type": "code",
      "metadata": {
        "id": "rA0DVYFQMNIh"
      },
      "source": [
        "import turtle\n",
        "ds = turtle.Screen()\n",
        "douglas = turtle.Turtle()\n",
        "douglas.shape('turtle')\n",
        "type(douglas)\n",
        "\n",
        "a = input('Insira a cor de fundo:')\n",
        "b = input('Insira a cor da tartatura:')\n",
        "c = input('Insira o tamanho do traço:')\n",
        "d = input('Insira velocidade da tartatura:')\n",
        "\n",
        "ds.bgcolor(a)\n",
        "douglas.color(b)\n",
        "douglas.pensize(c)\n",
        "douglas.speed(d)\n",
        "\n",
        "for i in range(5):\n",
        "    douglas.left(-144)   \n",
        "    douglas.forward(150)\n",
        "\n",
        "ds.mainloop()"
      ],
      "execution_count": null,
      "outputs": []
    },
    {
      "cell_type": "markdown",
      "metadata": {
        "id": "4qKKP0_NM2BA"
      },
      "source": [
        "Exercício 6 - Sabendo o ângulo interno da ponta de uma estrela, desenhe quatro estrelas em uma janela, com uma certa distância entre elas. Dica: use a função penup() e pendown() do módulo turtle"
      ]
    },
    {
      "cell_type": "code",
      "metadata": {
        "id": "qOIW1aFsNEsr"
      },
      "source": [
        "import turtle\n",
        "ds = turtle.Screen()\n",
        "douglas = turtle.Turtle()\n",
        "douglas.shape('turtle')\n",
        "type(douglas)\n",
        "\n",
        "a = input('Insira a cor de fundo:')\n",
        "b = input('Insira a cor da tartatura:')\n",
        "c = input('Insira o tamanho do traço:')\n",
        "d = input('Insira velocidade da tartatura:')\n",
        "\n",
        "ds.bgcolor(a)\n",
        "douglas.color(b)\n",
        "douglas.pensize(c)\n",
        "douglas.speed(d)\n",
        "\n",
        "def star(x, y):\n",
        "    douglas.penup()\n",
        "    douglas.goto(x, y)\n",
        "    douglas.pendown() \n",
        "    for i in range(5):\n",
        "        douglas.left(-144)   \n",
        "        douglas.forward(150)\n",
        " \n",
        "star(150, -80) \n",
        "star(-45, -80)\n",
        "star(-45, 90)\n",
        "star(150, 90)\n",
        "\n",
        "ds.mainloop()"
      ],
      "execution_count": null,
      "outputs": []
    },
    {
      "cell_type": "markdown",
      "metadata": {
        "id": "90KF3rGXPFDp"
      },
      "source": [
        "Exercício Complementar 1 - Escreva uma função chamada `square`, que toma um parâmetro `t`, que é uma `Turtle`. Essa função deve usar o `turtle` para desenhar um quadrado. Escreva uma chamada de função que passe `joana` como argumento para `square` e rode o programa novamente. "
      ]
    },
    {
      "cell_type": "code",
      "metadata": {
        "colab": {
          "base_uri": "https://localhost:8080/",
          "height": 521
        },
        "id": "bHgZz71qPQMv",
        "outputId": "e83b5f80-916b-4d60-a89c-dfc5644c5978"
      },
      "source": [
        "def square(t, color):\n",
        "    t.initializeTurtle()\n",
        "    t.color(color)\n",
        "    t.penup()\n",
        "    t.right(180)\n",
        "    t.forward(120)\n",
        "    t.right(90)\n",
        "    t.forward(120)\n",
        "    t.right(90)\n",
        "    t.pendown()\n",
        "    for i in range(4):\n",
        "        t.forward(240)\n",
        "        t.right(90)\n",
        "\n",
        "joana = Turtle\n",
        "square(joana, 'white')\n"
      ],
      "execution_count": 23,
      "outputs": [
        {
          "output_type": "display_data",
          "data": {
            "text/html": [
              "\n",
              "      <svg width=\"800\" height=\"500\">\n",
              "        <rect width=\"100%\" height=\"100%\" fill=\"black\"/>\n",
              "        <line x1=\"280.0\" y1=\"370.0\" x2=\"280.0\" y2=\"130.0\" stroke-linecap=\"round\" style=\"stroke:white;stroke-width:4\"/><line x1=\"280.0\" y1=\"130.0\" x2=\"520.0\" y2=\"130.0\" stroke-linecap=\"round\" style=\"stroke:white;stroke-width:4\"/><line x1=\"520.0\" y1=\"130.0\" x2=\"520.0\" y2=\"370.0\" stroke-linecap=\"round\" style=\"stroke:white;stroke-width:4\"/><line x1=\"520.0\" y1=\"370.0\" x2=\"280.0\" y2=\"370.0\" stroke-linecap=\"round\" style=\"stroke:white;stroke-width:4\"/>\n",
              "        <g visibility=visible transform=\"rotate(360,280.0,370.0) translate(262.0, 352.0)\">\n",
              "<path style=\" stroke:none;fill-rule:evenodd;fill:white;fill-opacity:1;\" d=\"M 18.214844 0.632812 C 16.109375 1.800781 15.011719 4.074219 15.074219 7.132812 L 15.085938 7.652344 L 14.785156 7.496094 C 13.476562 6.824219 11.957031 6.671875 10.40625 7.066406 C 8.46875 7.550781 6.515625 9.15625 4.394531 11.992188 C 3.0625 13.777344 2.679688 14.636719 3.042969 15.027344 L 3.15625 15.152344 L 3.519531 15.152344 C 4.238281 15.152344 4.828125 14.886719 8.1875 13.039062 C 9.386719 12.378906 10.371094 11.839844 10.378906 11.839844 C 10.386719 11.839844 10.355469 11.929688 10.304688 12.035156 C 9.832031 13.09375 9.257812 14.820312 8.96875 16.078125 C 7.914062 20.652344 8.617188 24.53125 11.070312 27.660156 C 11.351562 28.015625 11.363281 27.914062 10.972656 28.382812 C 8.925781 30.84375 7.945312 33.28125 8.238281 35.1875 C 8.289062 35.527344 8.28125 35.523438 8.917969 35.523438 C 10.941406 35.523438 13.074219 34.207031 15.136719 31.6875 C 15.359375 31.417969 15.328125 31.425781 15.5625 31.574219 C 16.292969 32.042969 18.023438 32.964844 18.175781 32.964844 C 18.335938 32.964844 19.941406 32.210938 20.828125 31.71875 C 20.996094 31.625 21.136719 31.554688 21.136719 31.558594 C 21.203125 31.664062 21.898438 32.414062 22.222656 32.730469 C 23.835938 34.300781 25.5625 35.132812 27.582031 35.300781 C 27.90625 35.328125 27.9375 35.308594 28.007812 34.984375 C 28.382812 33.242188 27.625 30.925781 25.863281 28.425781 L 25.542969 27.96875 L 25.699219 27.785156 C 28.945312 23.960938 29.132812 18.699219 26.257812 11.96875 L 26.207031 11.84375 L 27.945312 12.703125 C 31.53125 14.476562 32.316406 14.800781 33.03125 14.800781 C 33.976562 14.800781 33.78125 13.9375 32.472656 12.292969 C 28.519531 7.355469 25.394531 5.925781 21.921875 7.472656 L 21.558594 7.636719 L 21.578125 7.542969 C 21.699219 6.992188 21.761719 5.742188 21.699219 5.164062 C 21.496094 3.296875 20.664062 1.964844 19.003906 0.855469 C 18.480469 0.503906 18.457031 0.5 18.214844 0.632812\"/>\n",
              "</g>\n",
              "      </svg>\n",
              "    "
            ],
            "text/plain": [
              "<IPython.core.display.HTML object>"
            ]
          },
          "metadata": {}
        }
      ]
    },
    {
      "cell_type": "markdown",
      "metadata": {
        "id": "6xYqmpGDPsKQ"
      },
      "source": [
        "Exercício Complementar 2 - Adicione um outro parâmetro, chamado length, à função square. Modifique o corpo da função de tal forma que o comprimento dos lados do quadrado seja length e então modifique a chamada da função para que seja passado o segundo argumento. Rode o programa novamente. Teste o seu programa com diversos valores para length."
      ]
    },
    {
      "cell_type": "code",
      "metadata": {
        "colab": {
          "base_uri": "https://localhost:8080/",
          "height": 521
        },
        "id": "GenGMkLsQ1_q",
        "outputId": "579fb862-09d3-4424-e6b7-c1731e3183a3"
      },
      "source": [
        "def square(t,length, color):\n",
        "    t.initializeTurtle()\n",
        "    t.color(color)\n",
        "    t.penup()\n",
        "    t.right(180)\n",
        "    t.forward(length/2)\n",
        "    t.right(90)\n",
        "    t.forward(length/2)\n",
        "    t.right(90)\n",
        "    t.pendown()\n",
        "    for i in range(4):\n",
        "        t.forward(400)\n",
        "        t.right(90)\n",
        "\n",
        "joana = Turtle\n",
        "square(joana, 400 , 'white')"
      ],
      "execution_count": 25,
      "outputs": [
        {
          "output_type": "display_data",
          "data": {
            "text/html": [
              "\n",
              "      <svg width=\"800\" height=\"500\">\n",
              "        <rect width=\"100%\" height=\"100%\" fill=\"black\"/>\n",
              "        <line x1=\"200.0\" y1=\"450.0\" x2=\"200.0\" y2=\"50.0\" stroke-linecap=\"round\" style=\"stroke:white;stroke-width:4\"/><line x1=\"200.0\" y1=\"50.0\" x2=\"600.0\" y2=\"50.0\" stroke-linecap=\"round\" style=\"stroke:white;stroke-width:4\"/><line x1=\"600.0\" y1=\"50.0\" x2=\"600.0\" y2=\"450.0\" stroke-linecap=\"round\" style=\"stroke:white;stroke-width:4\"/><line x1=\"600.0\" y1=\"450.0\" x2=\"200.0\" y2=\"450.0\" stroke-linecap=\"round\" style=\"stroke:white;stroke-width:4\"/>\n",
              "        <g visibility=visible transform=\"rotate(360,200.0,450.0) translate(182.0, 432.0)\">\n",
              "<path style=\" stroke:none;fill-rule:evenodd;fill:white;fill-opacity:1;\" d=\"M 18.214844 0.632812 C 16.109375 1.800781 15.011719 4.074219 15.074219 7.132812 L 15.085938 7.652344 L 14.785156 7.496094 C 13.476562 6.824219 11.957031 6.671875 10.40625 7.066406 C 8.46875 7.550781 6.515625 9.15625 4.394531 11.992188 C 3.0625 13.777344 2.679688 14.636719 3.042969 15.027344 L 3.15625 15.152344 L 3.519531 15.152344 C 4.238281 15.152344 4.828125 14.886719 8.1875 13.039062 C 9.386719 12.378906 10.371094 11.839844 10.378906 11.839844 C 10.386719 11.839844 10.355469 11.929688 10.304688 12.035156 C 9.832031 13.09375 9.257812 14.820312 8.96875 16.078125 C 7.914062 20.652344 8.617188 24.53125 11.070312 27.660156 C 11.351562 28.015625 11.363281 27.914062 10.972656 28.382812 C 8.925781 30.84375 7.945312 33.28125 8.238281 35.1875 C 8.289062 35.527344 8.28125 35.523438 8.917969 35.523438 C 10.941406 35.523438 13.074219 34.207031 15.136719 31.6875 C 15.359375 31.417969 15.328125 31.425781 15.5625 31.574219 C 16.292969 32.042969 18.023438 32.964844 18.175781 32.964844 C 18.335938 32.964844 19.941406 32.210938 20.828125 31.71875 C 20.996094 31.625 21.136719 31.554688 21.136719 31.558594 C 21.203125 31.664062 21.898438 32.414062 22.222656 32.730469 C 23.835938 34.300781 25.5625 35.132812 27.582031 35.300781 C 27.90625 35.328125 27.9375 35.308594 28.007812 34.984375 C 28.382812 33.242188 27.625 30.925781 25.863281 28.425781 L 25.542969 27.96875 L 25.699219 27.785156 C 28.945312 23.960938 29.132812 18.699219 26.257812 11.96875 L 26.207031 11.84375 L 27.945312 12.703125 C 31.53125 14.476562 32.316406 14.800781 33.03125 14.800781 C 33.976562 14.800781 33.78125 13.9375 32.472656 12.292969 C 28.519531 7.355469 25.394531 5.925781 21.921875 7.472656 L 21.558594 7.636719 L 21.578125 7.542969 C 21.699219 6.992188 21.761719 5.742188 21.699219 5.164062 C 21.496094 3.296875 20.664062 1.964844 19.003906 0.855469 C 18.480469 0.503906 18.457031 0.5 18.214844 0.632812\"/>\n",
              "</g>\n",
              "      </svg>\n",
              "    "
            ],
            "text/plain": [
              "<IPython.core.display.HTML object>"
            ]
          },
          "metadata": {}
        }
      ]
    },
    {
      "cell_type": "markdown",
      "metadata": {
        "id": "vF0HUccORaZJ"
      },
      "source": [
        "Exercício Complementar 3 - Faça uma cópia da função `square` e mude o nome para `polygon`. Adicione um outro parâmetro chamado `n` e modifique o corpo da função para que ela desenhe um polígono regular de `n` lados. Dica: Os ângulos externos de um polígono regular de `n` lados são de `360/n` graus.  \n"
      ]
    },
    {
      "cell_type": "code",
      "metadata": {
        "colab": {
          "base_uri": "https://localhost:8080/",
          "height": 521
        },
        "id": "M6xZgpsTRfDZ",
        "outputId": "656767ed-1f18-47c0-df10-15c35a103c37"
      },
      "source": [
        "def polygon(t, length, color, n):\n",
        "    import math\n",
        "    t.initializeTurtle()\n",
        "    t.color(color)\n",
        "    t.penup()\n",
        "    t.left(90)\n",
        "    t.forward((n*length)/(2*math.pi))\n",
        "    t.right(90)\n",
        "    t.pendown()\n",
        "    for i in range(n):\n",
        "        t.forward(length)\n",
        "        t.right(360/n) \n",
        "\n",
        "joana = Turtle\n",
        "polygon(joana, 50, \"white\", 24)"
      ],
      "execution_count": 30,
      "outputs": [
        {
          "output_type": "display_data",
          "data": {
            "text/html": [
              "\n",
              "      <svg width=\"800\" height=\"500\">\n",
              "        <rect width=\"100%\" height=\"100%\" fill=\"black\"/>\n",
              "        <line x1=\"209.014\" y1=\"250.0\" x2=\"209.014\" y2=\"200.0\" stroke-linecap=\"round\" style=\"stroke:white;stroke-width:4\"/><line x1=\"209.014\" y1=\"200.0\" x2=\"221.955\" y2=\"151.704\" stroke-linecap=\"round\" style=\"stroke:white;stroke-width:4\"/><line x1=\"221.955\" y1=\"151.704\" x2=\"246.955\" y2=\"108.403\" stroke-linecap=\"round\" style=\"stroke:white;stroke-width:4\"/><line x1=\"246.955\" y1=\"108.403\" x2=\"282.31\" y2=\"73.048\" stroke-linecap=\"round\" style=\"stroke:white;stroke-width:4\"/><line x1=\"282.31\" y1=\"73.048\" x2=\"325.611\" y2=\"48.048\" stroke-linecap=\"round\" style=\"stroke:white;stroke-width:4\"/><line x1=\"325.611\" y1=\"48.048\" x2=\"373.907\" y2=\"35.107\" stroke-linecap=\"round\" style=\"stroke:white;stroke-width:4\"/><line x1=\"373.907\" y1=\"35.107\" x2=\"423.907\" y2=\"35.107\" stroke-linecap=\"round\" style=\"stroke:white;stroke-width:4\"/><line x1=\"423.907\" y1=\"35.107\" x2=\"472.203\" y2=\"48.048\" stroke-linecap=\"round\" style=\"stroke:white;stroke-width:4\"/><line x1=\"472.203\" y1=\"48.048\" x2=\"515.504\" y2=\"73.048\" stroke-linecap=\"round\" style=\"stroke:white;stroke-width:4\"/><line x1=\"515.504\" y1=\"73.048\" x2=\"550.859\" y2=\"108.403\" stroke-linecap=\"round\" style=\"stroke:white;stroke-width:4\"/><line x1=\"550.859\" y1=\"108.403\" x2=\"575.859\" y2=\"151.704\" stroke-linecap=\"round\" style=\"stroke:white;stroke-width:4\"/><line x1=\"575.859\" y1=\"151.704\" x2=\"588.8\" y2=\"200.0\" stroke-linecap=\"round\" style=\"stroke:white;stroke-width:4\"/><line x1=\"588.8\" y1=\"200.0\" x2=\"588.8\" y2=\"250.0\" stroke-linecap=\"round\" style=\"stroke:white;stroke-width:4\"/><line x1=\"588.8\" y1=\"250.0\" x2=\"575.859\" y2=\"298.296\" stroke-linecap=\"round\" style=\"stroke:white;stroke-width:4\"/><line x1=\"575.859\" y1=\"298.296\" x2=\"550.859\" y2=\"341.597\" stroke-linecap=\"round\" style=\"stroke:white;stroke-width:4\"/><line x1=\"550.859\" y1=\"341.597\" x2=\"515.504\" y2=\"376.952\" stroke-linecap=\"round\" style=\"stroke:white;stroke-width:4\"/><line x1=\"515.504\" y1=\"376.952\" x2=\"472.203\" y2=\"401.952\" stroke-linecap=\"round\" style=\"stroke:white;stroke-width:4\"/><line x1=\"472.203\" y1=\"401.952\" x2=\"423.907\" y2=\"414.893\" stroke-linecap=\"round\" style=\"stroke:white;stroke-width:4\"/><line x1=\"423.907\" y1=\"414.893\" x2=\"373.907\" y2=\"414.893\" stroke-linecap=\"round\" style=\"stroke:white;stroke-width:4\"/><line x1=\"373.907\" y1=\"414.893\" x2=\"325.611\" y2=\"401.952\" stroke-linecap=\"round\" style=\"stroke:white;stroke-width:4\"/><line x1=\"325.611\" y1=\"401.952\" x2=\"282.31\" y2=\"376.952\" stroke-linecap=\"round\" style=\"stroke:white;stroke-width:4\"/><line x1=\"282.31\" y1=\"376.952\" x2=\"246.955\" y2=\"341.597\" stroke-linecap=\"round\" style=\"stroke:white;stroke-width:4\"/><line x1=\"246.955\" y1=\"341.597\" x2=\"221.955\" y2=\"298.296\" stroke-linecap=\"round\" style=\"stroke:white;stroke-width:4\"/><line x1=\"221.955\" y1=\"298.296\" x2=\"209.014\" y2=\"250.0\" stroke-linecap=\"round\" style=\"stroke:white;stroke-width:4\"/>\n",
              "        <g visibility=visible transform=\"rotate(360.0,209.014,250.0) translate(191.014, 232.0)\">\n",
              "<path style=\" stroke:none;fill-rule:evenodd;fill:white;fill-opacity:1;\" d=\"M 18.214844 0.632812 C 16.109375 1.800781 15.011719 4.074219 15.074219 7.132812 L 15.085938 7.652344 L 14.785156 7.496094 C 13.476562 6.824219 11.957031 6.671875 10.40625 7.066406 C 8.46875 7.550781 6.515625 9.15625 4.394531 11.992188 C 3.0625 13.777344 2.679688 14.636719 3.042969 15.027344 L 3.15625 15.152344 L 3.519531 15.152344 C 4.238281 15.152344 4.828125 14.886719 8.1875 13.039062 C 9.386719 12.378906 10.371094 11.839844 10.378906 11.839844 C 10.386719 11.839844 10.355469 11.929688 10.304688 12.035156 C 9.832031 13.09375 9.257812 14.820312 8.96875 16.078125 C 7.914062 20.652344 8.617188 24.53125 11.070312 27.660156 C 11.351562 28.015625 11.363281 27.914062 10.972656 28.382812 C 8.925781 30.84375 7.945312 33.28125 8.238281 35.1875 C 8.289062 35.527344 8.28125 35.523438 8.917969 35.523438 C 10.941406 35.523438 13.074219 34.207031 15.136719 31.6875 C 15.359375 31.417969 15.328125 31.425781 15.5625 31.574219 C 16.292969 32.042969 18.023438 32.964844 18.175781 32.964844 C 18.335938 32.964844 19.941406 32.210938 20.828125 31.71875 C 20.996094 31.625 21.136719 31.554688 21.136719 31.558594 C 21.203125 31.664062 21.898438 32.414062 22.222656 32.730469 C 23.835938 34.300781 25.5625 35.132812 27.582031 35.300781 C 27.90625 35.328125 27.9375 35.308594 28.007812 34.984375 C 28.382812 33.242188 27.625 30.925781 25.863281 28.425781 L 25.542969 27.96875 L 25.699219 27.785156 C 28.945312 23.960938 29.132812 18.699219 26.257812 11.96875 L 26.207031 11.84375 L 27.945312 12.703125 C 31.53125 14.476562 32.316406 14.800781 33.03125 14.800781 C 33.976562 14.800781 33.78125 13.9375 32.472656 12.292969 C 28.519531 7.355469 25.394531 5.925781 21.921875 7.472656 L 21.558594 7.636719 L 21.578125 7.542969 C 21.699219 6.992188 21.761719 5.742188 21.699219 5.164062 C 21.496094 3.296875 20.664062 1.964844 19.003906 0.855469 C 18.480469 0.503906 18.457031 0.5 18.214844 0.632812\"/>\n",
              "</g>\n",
              "      </svg>\n",
              "    "
            ],
            "text/plain": [
              "<IPython.core.display.HTML object>"
            ]
          },
          "metadata": {}
        }
      ]
    },
    {
      "cell_type": "markdown",
      "metadata": {
        "id": "p3iJ-PK7T-iQ"
      },
      "source": [
        ""
      ]
    },
    {
      "cell_type": "markdown",
      "metadata": {
        "id": "tbXCbEB0T-lb"
      },
      "source": [
        "Exercício Complementar 4 - Escreva uma função chamada `circle` que toma como argumento uma `Turtle`, `t`, e um raio, `r`, e desenha um círculo aproximado ao chamar a função `polygon` com `length` e número `n` de lados apropriados. Teste sua função com um intervalo de valores de `r`. Dica: Determine a circunferência do círculo e se certifique que `comprimento * n = circunferência"
      ]
    },
    {
      "cell_type": "code",
      "metadata": {
        "colab": {
          "base_uri": "https://localhost:8080/",
          "height": 1000
        },
        "id": "CLxuuCnUUF8y",
        "outputId": "0c869bf2-a4db-40fa-945e-0cfd3b111541"
      },
      "source": [
        "def circle(t, color, r, n):\n",
        "    import math\n",
        "    length = (2*math.pi*r)/n\n",
        "    polygon(t, length, color, n) \n",
        "\n",
        "joana = Turtle\n",
        "circle(joana, \"white\", 100, 100)"
      ],
      "execution_count": 32,
      "outputs": [
        {
          "output_type": "display_data",
          "data": {
            "text/html": [
              "\n",
              "      <svg width=\"800\" height=\"500\">\n",
              "        <rect width=\"100%\" height=\"100%\" fill=\"black\"/>\n",
              "        <line x1=\"300.0\" y1=\"250.0\" x2=\"300.0\" y2=\"243.717\" stroke-linecap=\"round\" style=\"stroke:white;stroke-width:4\"/><line x1=\"300.0\" y1=\"243.717\" x2=\"300.395\" y2=\"237.446\" stroke-linecap=\"round\" style=\"stroke:white;stroke-width:4\"/><line x1=\"300.395\" y1=\"237.446\" x2=\"301.182\" y2=\"231.212\" stroke-linecap=\"round\" style=\"stroke:white;stroke-width:4\"/><line x1=\"301.182\" y1=\"231.212\" x2=\"302.359\" y2=\"225.04\" stroke-linecap=\"round\" style=\"stroke:white;stroke-width:4\"/><line x1=\"302.359\" y1=\"225.04\" x2=\"303.922\" y2=\"218.954\" stroke-linecap=\"round\" style=\"stroke:white;stroke-width:4\"/><line x1=\"303.922\" y1=\"218.954\" x2=\"305.864\" y2=\"212.978\" stroke-linecap=\"round\" style=\"stroke:white;stroke-width:4\"/><line x1=\"305.864\" y1=\"212.978\" x2=\"308.177\" y2=\"207.136\" stroke-linecap=\"round\" style=\"stroke:white;stroke-width:4\"/><line x1=\"308.177\" y1=\"207.136\" x2=\"310.852\" y2=\"201.451\" stroke-linecap=\"round\" style=\"stroke:white;stroke-width:4\"/><line x1=\"310.852\" y1=\"201.451\" x2=\"313.879\" y2=\"195.945\" stroke-linecap=\"round\" style=\"stroke:white;stroke-width:4\"/><line x1=\"313.879\" y1=\"195.945\" x2=\"317.246\" y2=\"190.64\" stroke-linecap=\"round\" style=\"stroke:white;stroke-width:4\"/><line x1=\"317.246\" y1=\"190.64\" x2=\"320.939\" y2=\"185.557\" stroke-linecap=\"round\" style=\"stroke:white;stroke-width:4\"/><line x1=\"320.939\" y1=\"185.557\" x2=\"324.944\" y2=\"180.716\" stroke-linecap=\"round\" style=\"stroke:white;stroke-width:4\"/><line x1=\"324.944\" y1=\"180.716\" x2=\"329.245\" y2=\"176.136\" stroke-linecap=\"round\" style=\"stroke:white;stroke-width:4\"/><line x1=\"329.245\" y1=\"176.136\" x2=\"333.825\" y2=\"171.835\" stroke-linecap=\"round\" style=\"stroke:white;stroke-width:4\"/><line x1=\"333.825\" y1=\"171.835\" x2=\"338.666\" y2=\"167.83\" stroke-linecap=\"round\" style=\"stroke:white;stroke-width:4\"/><line x1=\"338.666\" y1=\"167.83\" x2=\"343.749\" y2=\"164.137\" stroke-linecap=\"round\" style=\"stroke:white;stroke-width:4\"/><line x1=\"343.749\" y1=\"164.137\" x2=\"349.054\" y2=\"160.77\" stroke-linecap=\"round\" style=\"stroke:white;stroke-width:4\"/><line x1=\"349.054\" y1=\"160.77\" x2=\"354.56\" y2=\"157.743\" stroke-linecap=\"round\" style=\"stroke:white;stroke-width:4\"/><line x1=\"354.56\" y1=\"157.743\" x2=\"360.245\" y2=\"155.068\" stroke-linecap=\"round\" style=\"stroke:white;stroke-width:4\"/><line x1=\"360.245\" y1=\"155.068\" x2=\"366.087\" y2=\"152.755\" stroke-linecap=\"round\" style=\"stroke:white;stroke-width:4\"/><line x1=\"366.087\" y1=\"152.755\" x2=\"372.063\" y2=\"150.813\" stroke-linecap=\"round\" style=\"stroke:white;stroke-width:4\"/><line x1=\"372.063\" y1=\"150.813\" x2=\"378.149\" y2=\"149.25\" stroke-linecap=\"round\" style=\"stroke:white;stroke-width:4\"/><line x1=\"378.149\" y1=\"149.25\" x2=\"384.321\" y2=\"148.073\" stroke-linecap=\"round\" style=\"stroke:white;stroke-width:4\"/><line x1=\"384.321\" y1=\"148.073\" x2=\"390.555\" y2=\"147.286\" stroke-linecap=\"round\" style=\"stroke:white;stroke-width:4\"/><line x1=\"390.555\" y1=\"147.286\" x2=\"396.826\" y2=\"146.891\" stroke-linecap=\"round\" style=\"stroke:white;stroke-width:4\"/><line x1=\"396.826\" y1=\"146.891\" x2=\"403.109\" y2=\"146.891\" stroke-linecap=\"round\" style=\"stroke:white;stroke-width:4\"/><line x1=\"403.109\" y1=\"146.891\" x2=\"409.38\" y2=\"147.286\" stroke-linecap=\"round\" style=\"stroke:white;stroke-width:4\"/><line x1=\"409.38\" y1=\"147.286\" x2=\"415.614\" y2=\"148.073\" stroke-linecap=\"round\" style=\"stroke:white;stroke-width:4\"/><line x1=\"415.614\" y1=\"148.073\" x2=\"421.786\" y2=\"149.25\" stroke-linecap=\"round\" style=\"stroke:white;stroke-width:4\"/><line x1=\"421.786\" y1=\"149.25\" x2=\"427.872\" y2=\"150.813\" stroke-linecap=\"round\" style=\"stroke:white;stroke-width:4\"/><line x1=\"427.872\" y1=\"150.813\" x2=\"433.848\" y2=\"152.755\" stroke-linecap=\"round\" style=\"stroke:white;stroke-width:4\"/><line x1=\"433.848\" y1=\"152.755\" x2=\"439.69\" y2=\"155.068\" stroke-linecap=\"round\" style=\"stroke:white;stroke-width:4\"/><line x1=\"439.69\" y1=\"155.068\" x2=\"445.375\" y2=\"157.743\" stroke-linecap=\"round\" style=\"stroke:white;stroke-width:4\"/><line x1=\"445.375\" y1=\"157.743\" x2=\"450.881\" y2=\"160.77\" stroke-linecap=\"round\" style=\"stroke:white;stroke-width:4\"/><line x1=\"450.881\" y1=\"160.77\" x2=\"456.186\" y2=\"164.137\" stroke-linecap=\"round\" style=\"stroke:white;stroke-width:4\"/><line x1=\"456.186\" y1=\"164.137\" x2=\"461.269\" y2=\"167.83\" stroke-linecap=\"round\" style=\"stroke:white;stroke-width:4\"/><line x1=\"461.269\" y1=\"167.83\" x2=\"466.11\" y2=\"171.835\" stroke-linecap=\"round\" style=\"stroke:white;stroke-width:4\"/><line x1=\"466.11\" y1=\"171.835\" x2=\"470.69\" y2=\"176.136\" stroke-linecap=\"round\" style=\"stroke:white;stroke-width:4\"/><line x1=\"470.69\" y1=\"176.136\" x2=\"474.991\" y2=\"180.716\" stroke-linecap=\"round\" style=\"stroke:white;stroke-width:4\"/><line x1=\"474.991\" y1=\"180.716\" x2=\"478.996\" y2=\"185.557\" stroke-linecap=\"round\" style=\"stroke:white;stroke-width:4\"/><line x1=\"478.996\" y1=\"185.557\" x2=\"482.689\" y2=\"190.64\" stroke-linecap=\"round\" style=\"stroke:white;stroke-width:4\"/><line x1=\"482.689\" y1=\"190.64\" x2=\"486.056\" y2=\"195.945\" stroke-linecap=\"round\" style=\"stroke:white;stroke-width:4\"/><line x1=\"486.056\" y1=\"195.945\" x2=\"489.083\" y2=\"201.451\" stroke-linecap=\"round\" style=\"stroke:white;stroke-width:4\"/><line x1=\"489.083\" y1=\"201.451\" x2=\"491.758\" y2=\"207.136\" stroke-linecap=\"round\" style=\"stroke:white;stroke-width:4\"/><line x1=\"491.758\" y1=\"207.136\" x2=\"494.071\" y2=\"212.978\" stroke-linecap=\"round\" style=\"stroke:white;stroke-width:4\"/><line x1=\"494.071\" y1=\"212.978\" x2=\"496.013\" y2=\"218.954\" stroke-linecap=\"round\" style=\"stroke:white;stroke-width:4\"/><line x1=\"496.013\" y1=\"218.954\" x2=\"497.576\" y2=\"225.04\" stroke-linecap=\"round\" style=\"stroke:white;stroke-width:4\"/><line x1=\"497.576\" y1=\"225.04\" x2=\"498.753\" y2=\"231.212\" stroke-linecap=\"round\" style=\"stroke:white;stroke-width:4\"/><line x1=\"498.753\" y1=\"231.212\" x2=\"499.54\" y2=\"237.446\" stroke-linecap=\"round\" style=\"stroke:white;stroke-width:4\"/><line x1=\"499.54\" y1=\"237.446\" x2=\"499.935\" y2=\"243.717\" stroke-linecap=\"round\" style=\"stroke:white;stroke-width:4\"/><line x1=\"499.935\" y1=\"243.717\" x2=\"499.935\" y2=\"250.0\" stroke-linecap=\"round\" style=\"stroke:white;stroke-width:4\"/><line x1=\"499.935\" y1=\"250.0\" x2=\"499.54\" y2=\"256.271\" stroke-linecap=\"round\" style=\"stroke:white;stroke-width:4\"/><line x1=\"499.54\" y1=\"256.271\" x2=\"498.753\" y2=\"262.505\" stroke-linecap=\"round\" style=\"stroke:white;stroke-width:4\"/><line x1=\"498.753\" y1=\"262.505\" x2=\"497.576\" y2=\"268.677\" stroke-linecap=\"round\" style=\"stroke:white;stroke-width:4\"/><line x1=\"497.576\" y1=\"268.677\" x2=\"496.013\" y2=\"274.763\" stroke-linecap=\"round\" style=\"stroke:white;stroke-width:4\"/><line x1=\"496.013\" y1=\"274.763\" x2=\"494.071\" y2=\"280.739\" stroke-linecap=\"round\" style=\"stroke:white;stroke-width:4\"/><line x1=\"494.071\" y1=\"280.739\" x2=\"491.758\" y2=\"286.581\" stroke-linecap=\"round\" style=\"stroke:white;stroke-width:4\"/><line x1=\"491.758\" y1=\"286.581\" x2=\"489.083\" y2=\"292.266\" stroke-linecap=\"round\" style=\"stroke:white;stroke-width:4\"/><line x1=\"489.083\" y1=\"292.266\" x2=\"486.056\" y2=\"297.772\" stroke-linecap=\"round\" style=\"stroke:white;stroke-width:4\"/><line x1=\"486.056\" y1=\"297.772\" x2=\"482.689\" y2=\"303.077\" stroke-linecap=\"round\" style=\"stroke:white;stroke-width:4\"/><line x1=\"482.689\" y1=\"303.077\" x2=\"478.996\" y2=\"308.16\" stroke-linecap=\"round\" style=\"stroke:white;stroke-width:4\"/><line x1=\"478.996\" y1=\"308.16\" x2=\"474.991\" y2=\"313.001\" stroke-linecap=\"round\" style=\"stroke:white;stroke-width:4\"/><line x1=\"474.991\" y1=\"313.001\" x2=\"470.69\" y2=\"317.581\" stroke-linecap=\"round\" style=\"stroke:white;stroke-width:4\"/><line x1=\"470.69\" y1=\"317.581\" x2=\"466.11\" y2=\"321.882\" stroke-linecap=\"round\" style=\"stroke:white;stroke-width:4\"/><line x1=\"466.11\" y1=\"321.882\" x2=\"461.269\" y2=\"325.887\" stroke-linecap=\"round\" style=\"stroke:white;stroke-width:4\"/><line x1=\"461.269\" y1=\"325.887\" x2=\"456.186\" y2=\"329.58\" stroke-linecap=\"round\" style=\"stroke:white;stroke-width:4\"/><line x1=\"456.186\" y1=\"329.58\" x2=\"450.881\" y2=\"332.947\" stroke-linecap=\"round\" style=\"stroke:white;stroke-width:4\"/><line x1=\"450.881\" y1=\"332.947\" x2=\"445.375\" y2=\"335.974\" stroke-linecap=\"round\" style=\"stroke:white;stroke-width:4\"/><line x1=\"445.375\" y1=\"335.974\" x2=\"439.69\" y2=\"338.649\" stroke-linecap=\"round\" style=\"stroke:white;stroke-width:4\"/><line x1=\"439.69\" y1=\"338.649\" x2=\"433.848\" y2=\"340.962\" stroke-linecap=\"round\" style=\"stroke:white;stroke-width:4\"/><line x1=\"433.848\" y1=\"340.962\" x2=\"427.872\" y2=\"342.904\" stroke-linecap=\"round\" style=\"stroke:white;stroke-width:4\"/><line x1=\"427.872\" y1=\"342.904\" x2=\"421.786\" y2=\"344.467\" stroke-linecap=\"round\" style=\"stroke:white;stroke-width:4\"/><line x1=\"421.786\" y1=\"344.467\" x2=\"415.614\" y2=\"345.644\" stroke-linecap=\"round\" style=\"stroke:white;stroke-width:4\"/><line x1=\"415.614\" y1=\"345.644\" x2=\"409.38\" y2=\"346.431\" stroke-linecap=\"round\" style=\"stroke:white;stroke-width:4\"/><line x1=\"409.38\" y1=\"346.431\" x2=\"403.109\" y2=\"346.826\" stroke-linecap=\"round\" style=\"stroke:white;stroke-width:4\"/><line x1=\"403.109\" y1=\"346.826\" x2=\"396.826\" y2=\"346.826\" stroke-linecap=\"round\" style=\"stroke:white;stroke-width:4\"/><line x1=\"396.826\" y1=\"346.826\" x2=\"390.555\" y2=\"346.431\" stroke-linecap=\"round\" style=\"stroke:white;stroke-width:4\"/><line x1=\"390.555\" y1=\"346.431\" x2=\"384.321\" y2=\"345.644\" stroke-linecap=\"round\" style=\"stroke:white;stroke-width:4\"/><line x1=\"384.321\" y1=\"345.644\" x2=\"378.149\" y2=\"344.467\" stroke-linecap=\"round\" style=\"stroke:white;stroke-width:4\"/><line x1=\"378.149\" y1=\"344.467\" x2=\"372.063\" y2=\"342.904\" stroke-linecap=\"round\" style=\"stroke:white;stroke-width:4\"/><line x1=\"372.063\" y1=\"342.904\" x2=\"366.087\" y2=\"340.962\" stroke-linecap=\"round\" style=\"stroke:white;stroke-width:4\"/><line x1=\"366.087\" y1=\"340.962\" x2=\"360.245\" y2=\"338.649\" stroke-linecap=\"round\" style=\"stroke:white;stroke-width:4\"/><line x1=\"360.245\" y1=\"338.649\" x2=\"354.56\" y2=\"335.974\" stroke-linecap=\"round\" style=\"stroke:white;stroke-width:4\"/><line x1=\"354.56\" y1=\"335.974\" x2=\"349.054\" y2=\"332.947\" stroke-linecap=\"round\" style=\"stroke:white;stroke-width:4\"/><line x1=\"349.054\" y1=\"332.947\" x2=\"343.749\" y2=\"329.58\" stroke-linecap=\"round\" style=\"stroke:white;stroke-width:4\"/><line x1=\"343.749\" y1=\"329.58\" x2=\"338.666\" y2=\"325.887\" stroke-linecap=\"round\" style=\"stroke:white;stroke-width:4\"/><line x1=\"338.666\" y1=\"325.887\" x2=\"333.825\" y2=\"321.882\" stroke-linecap=\"round\" style=\"stroke:white;stroke-width:4\"/><line x1=\"333.825\" y1=\"321.882\" x2=\"329.245\" y2=\"317.581\" stroke-linecap=\"round\" style=\"stroke:white;stroke-width:4\"/><line x1=\"329.245\" y1=\"317.581\" x2=\"324.944\" y2=\"313.001\" stroke-linecap=\"round\" style=\"stroke:white;stroke-width:4\"/><line x1=\"324.944\" y1=\"313.001\" x2=\"320.939\" y2=\"308.16\" stroke-linecap=\"round\" style=\"stroke:white;stroke-width:4\"/><line x1=\"320.939\" y1=\"308.16\" x2=\"317.246\" y2=\"303.077\" stroke-linecap=\"round\" style=\"stroke:white;stroke-width:4\"/><line x1=\"317.246\" y1=\"303.077\" x2=\"313.879\" y2=\"297.772\" stroke-linecap=\"round\" style=\"stroke:white;stroke-width:4\"/><line x1=\"313.879\" y1=\"297.772\" x2=\"310.852\" y2=\"292.266\" stroke-linecap=\"round\" style=\"stroke:white;stroke-width:4\"/><line x1=\"310.852\" y1=\"292.266\" x2=\"308.177\" y2=\"286.581\" stroke-linecap=\"round\" style=\"stroke:white;stroke-width:4\"/><line x1=\"308.177\" y1=\"286.581\" x2=\"305.864\" y2=\"280.739\" stroke-linecap=\"round\" style=\"stroke:white;stroke-width:4\"/><line x1=\"305.864\" y1=\"280.739\" x2=\"303.922\" y2=\"274.763\" stroke-linecap=\"round\" style=\"stroke:white;stroke-width:4\"/><line x1=\"303.922\" y1=\"274.763\" x2=\"302.359\" y2=\"268.677\" stroke-linecap=\"round\" style=\"stroke:white;stroke-width:4\"/><line x1=\"302.359\" y1=\"268.677\" x2=\"301.182\" y2=\"262.505\" stroke-linecap=\"round\" style=\"stroke:white;stroke-width:4\"/><line x1=\"301.182\" y1=\"262.505\" x2=\"300.395\" y2=\"256.271\" stroke-linecap=\"round\" style=\"stroke:white;stroke-width:4\"/><line x1=\"300.395\" y1=\"256.271\" x2=\"300.0\" y2=\"250.0\" stroke-linecap=\"round\" style=\"stroke:white;stroke-width:4\"/>\n",
              "        <g visibility=visible transform=\"rotate(360.00000000000034,300.0,250.0) translate(282.0, 232.0)\">\n",
              "<path style=\" stroke:none;fill-rule:evenodd;fill:white;fill-opacity:1;\" d=\"M 18.214844 0.632812 C 16.109375 1.800781 15.011719 4.074219 15.074219 7.132812 L 15.085938 7.652344 L 14.785156 7.496094 C 13.476562 6.824219 11.957031 6.671875 10.40625 7.066406 C 8.46875 7.550781 6.515625 9.15625 4.394531 11.992188 C 3.0625 13.777344 2.679688 14.636719 3.042969 15.027344 L 3.15625 15.152344 L 3.519531 15.152344 C 4.238281 15.152344 4.828125 14.886719 8.1875 13.039062 C 9.386719 12.378906 10.371094 11.839844 10.378906 11.839844 C 10.386719 11.839844 10.355469 11.929688 10.304688 12.035156 C 9.832031 13.09375 9.257812 14.820312 8.96875 16.078125 C 7.914062 20.652344 8.617188 24.53125 11.070312 27.660156 C 11.351562 28.015625 11.363281 27.914062 10.972656 28.382812 C 8.925781 30.84375 7.945312 33.28125 8.238281 35.1875 C 8.289062 35.527344 8.28125 35.523438 8.917969 35.523438 C 10.941406 35.523438 13.074219 34.207031 15.136719 31.6875 C 15.359375 31.417969 15.328125 31.425781 15.5625 31.574219 C 16.292969 32.042969 18.023438 32.964844 18.175781 32.964844 C 18.335938 32.964844 19.941406 32.210938 20.828125 31.71875 C 20.996094 31.625 21.136719 31.554688 21.136719 31.558594 C 21.203125 31.664062 21.898438 32.414062 22.222656 32.730469 C 23.835938 34.300781 25.5625 35.132812 27.582031 35.300781 C 27.90625 35.328125 27.9375 35.308594 28.007812 34.984375 C 28.382812 33.242188 27.625 30.925781 25.863281 28.425781 L 25.542969 27.96875 L 25.699219 27.785156 C 28.945312 23.960938 29.132812 18.699219 26.257812 11.96875 L 26.207031 11.84375 L 27.945312 12.703125 C 31.53125 14.476562 32.316406 14.800781 33.03125 14.800781 C 33.976562 14.800781 33.78125 13.9375 32.472656 12.292969 C 28.519531 7.355469 25.394531 5.925781 21.921875 7.472656 L 21.558594 7.636719 L 21.578125 7.542969 C 21.699219 6.992188 21.761719 5.742188 21.699219 5.164062 C 21.496094 3.296875 20.664062 1.964844 19.003906 0.855469 C 18.480469 0.503906 18.457031 0.5 18.214844 0.632812\"/>\n",
              "</g>\n",
              "      </svg>\n",
              "    "
            ],
            "text/plain": [
              "<IPython.core.display.HTML object>"
            ]
          },
          "metadata": {}
        },
        {
          "output_type": "display_data",
          "data": {
            "text/html": [
              "\n",
              "      <svg width=\"800\" height=\"500\">\n",
              "        <rect width=\"100%\" height=\"100%\" fill=\"black\"/>\n",
              "        <line x1=\"300.0\" y1=\"250.0\" x2=\"300.0\" y2=\"243.717\" stroke-linecap=\"round\" style=\"stroke:white;stroke-width:4\"/><line x1=\"300.0\" y1=\"243.717\" x2=\"300.395\" y2=\"237.446\" stroke-linecap=\"round\" style=\"stroke:white;stroke-width:4\"/><line x1=\"300.395\" y1=\"237.446\" x2=\"301.182\" y2=\"231.212\" stroke-linecap=\"round\" style=\"stroke:white;stroke-width:4\"/><line x1=\"301.182\" y1=\"231.212\" x2=\"302.359\" y2=\"225.04\" stroke-linecap=\"round\" style=\"stroke:white;stroke-width:4\"/><line x1=\"302.359\" y1=\"225.04\" x2=\"303.922\" y2=\"218.954\" stroke-linecap=\"round\" style=\"stroke:white;stroke-width:4\"/><line x1=\"303.922\" y1=\"218.954\" x2=\"305.864\" y2=\"212.978\" stroke-linecap=\"round\" style=\"stroke:white;stroke-width:4\"/><line x1=\"305.864\" y1=\"212.978\" x2=\"308.177\" y2=\"207.136\" stroke-linecap=\"round\" style=\"stroke:white;stroke-width:4\"/><line x1=\"308.177\" y1=\"207.136\" x2=\"310.852\" y2=\"201.451\" stroke-linecap=\"round\" style=\"stroke:white;stroke-width:4\"/><line x1=\"310.852\" y1=\"201.451\" x2=\"313.879\" y2=\"195.945\" stroke-linecap=\"round\" style=\"stroke:white;stroke-width:4\"/><line x1=\"313.879\" y1=\"195.945\" x2=\"317.246\" y2=\"190.64\" stroke-linecap=\"round\" style=\"stroke:white;stroke-width:4\"/><line x1=\"317.246\" y1=\"190.64\" x2=\"320.939\" y2=\"185.557\" stroke-linecap=\"round\" style=\"stroke:white;stroke-width:4\"/><line x1=\"320.939\" y1=\"185.557\" x2=\"324.944\" y2=\"180.716\" stroke-linecap=\"round\" style=\"stroke:white;stroke-width:4\"/><line x1=\"324.944\" y1=\"180.716\" x2=\"329.245\" y2=\"176.136\" stroke-linecap=\"round\" style=\"stroke:white;stroke-width:4\"/><line x1=\"329.245\" y1=\"176.136\" x2=\"333.825\" y2=\"171.835\" stroke-linecap=\"round\" style=\"stroke:white;stroke-width:4\"/><line x1=\"333.825\" y1=\"171.835\" x2=\"338.666\" y2=\"167.83\" stroke-linecap=\"round\" style=\"stroke:white;stroke-width:4\"/><line x1=\"338.666\" y1=\"167.83\" x2=\"343.749\" y2=\"164.137\" stroke-linecap=\"round\" style=\"stroke:white;stroke-width:4\"/><line x1=\"343.749\" y1=\"164.137\" x2=\"349.054\" y2=\"160.77\" stroke-linecap=\"round\" style=\"stroke:white;stroke-width:4\"/><line x1=\"349.054\" y1=\"160.77\" x2=\"354.56\" y2=\"157.743\" stroke-linecap=\"round\" style=\"stroke:white;stroke-width:4\"/><line x1=\"354.56\" y1=\"157.743\" x2=\"360.245\" y2=\"155.068\" stroke-linecap=\"round\" style=\"stroke:white;stroke-width:4\"/><line x1=\"360.245\" y1=\"155.068\" x2=\"366.087\" y2=\"152.755\" stroke-linecap=\"round\" style=\"stroke:white;stroke-width:4\"/><line x1=\"366.087\" y1=\"152.755\" x2=\"372.063\" y2=\"150.813\" stroke-linecap=\"round\" style=\"stroke:white;stroke-width:4\"/><line x1=\"372.063\" y1=\"150.813\" x2=\"378.149\" y2=\"149.25\" stroke-linecap=\"round\" style=\"stroke:white;stroke-width:4\"/><line x1=\"378.149\" y1=\"149.25\" x2=\"384.321\" y2=\"148.073\" stroke-linecap=\"round\" style=\"stroke:white;stroke-width:4\"/><line x1=\"384.321\" y1=\"148.073\" x2=\"390.555\" y2=\"147.286\" stroke-linecap=\"round\" style=\"stroke:white;stroke-width:4\"/><line x1=\"390.555\" y1=\"147.286\" x2=\"396.826\" y2=\"146.891\" stroke-linecap=\"round\" style=\"stroke:white;stroke-width:4\"/><line x1=\"396.826\" y1=\"146.891\" x2=\"403.109\" y2=\"146.891\" stroke-linecap=\"round\" style=\"stroke:white;stroke-width:4\"/><line x1=\"403.109\" y1=\"146.891\" x2=\"409.38\" y2=\"147.286\" stroke-linecap=\"round\" style=\"stroke:white;stroke-width:4\"/><line x1=\"409.38\" y1=\"147.286\" x2=\"415.614\" y2=\"148.073\" stroke-linecap=\"round\" style=\"stroke:white;stroke-width:4\"/><line x1=\"415.614\" y1=\"148.073\" x2=\"421.786\" y2=\"149.25\" stroke-linecap=\"round\" style=\"stroke:white;stroke-width:4\"/><line x1=\"421.786\" y1=\"149.25\" x2=\"427.872\" y2=\"150.813\" stroke-linecap=\"round\" style=\"stroke:white;stroke-width:4\"/><line x1=\"427.872\" y1=\"150.813\" x2=\"433.848\" y2=\"152.755\" stroke-linecap=\"round\" style=\"stroke:white;stroke-width:4\"/><line x1=\"433.848\" y1=\"152.755\" x2=\"439.69\" y2=\"155.068\" stroke-linecap=\"round\" style=\"stroke:white;stroke-width:4\"/><line x1=\"439.69\" y1=\"155.068\" x2=\"445.375\" y2=\"157.743\" stroke-linecap=\"round\" style=\"stroke:white;stroke-width:4\"/><line x1=\"445.375\" y1=\"157.743\" x2=\"450.881\" y2=\"160.77\" stroke-linecap=\"round\" style=\"stroke:white;stroke-width:4\"/><line x1=\"450.881\" y1=\"160.77\" x2=\"456.186\" y2=\"164.137\" stroke-linecap=\"round\" style=\"stroke:white;stroke-width:4\"/><line x1=\"456.186\" y1=\"164.137\" x2=\"461.269\" y2=\"167.83\" stroke-linecap=\"round\" style=\"stroke:white;stroke-width:4\"/><line x1=\"461.269\" y1=\"167.83\" x2=\"466.11\" y2=\"171.835\" stroke-linecap=\"round\" style=\"stroke:white;stroke-width:4\"/><line x1=\"466.11\" y1=\"171.835\" x2=\"470.69\" y2=\"176.136\" stroke-linecap=\"round\" style=\"stroke:white;stroke-width:4\"/><line x1=\"470.69\" y1=\"176.136\" x2=\"474.991\" y2=\"180.716\" stroke-linecap=\"round\" style=\"stroke:white;stroke-width:4\"/><line x1=\"474.991\" y1=\"180.716\" x2=\"478.996\" y2=\"185.557\" stroke-linecap=\"round\" style=\"stroke:white;stroke-width:4\"/><line x1=\"478.996\" y1=\"185.557\" x2=\"482.689\" y2=\"190.64\" stroke-linecap=\"round\" style=\"stroke:white;stroke-width:4\"/><line x1=\"482.689\" y1=\"190.64\" x2=\"486.056\" y2=\"195.945\" stroke-linecap=\"round\" style=\"stroke:white;stroke-width:4\"/><line x1=\"486.056\" y1=\"195.945\" x2=\"489.083\" y2=\"201.451\" stroke-linecap=\"round\" style=\"stroke:white;stroke-width:4\"/><line x1=\"489.083\" y1=\"201.451\" x2=\"491.758\" y2=\"207.136\" stroke-linecap=\"round\" style=\"stroke:white;stroke-width:4\"/><line x1=\"491.758\" y1=\"207.136\" x2=\"494.071\" y2=\"212.978\" stroke-linecap=\"round\" style=\"stroke:white;stroke-width:4\"/><line x1=\"494.071\" y1=\"212.978\" x2=\"496.013\" y2=\"218.954\" stroke-linecap=\"round\" style=\"stroke:white;stroke-width:4\"/><line x1=\"496.013\" y1=\"218.954\" x2=\"497.576\" y2=\"225.04\" stroke-linecap=\"round\" style=\"stroke:white;stroke-width:4\"/><line x1=\"497.576\" y1=\"225.04\" x2=\"498.753\" y2=\"231.212\" stroke-linecap=\"round\" style=\"stroke:white;stroke-width:4\"/><line x1=\"498.753\" y1=\"231.212\" x2=\"499.54\" y2=\"237.446\" stroke-linecap=\"round\" style=\"stroke:white;stroke-width:4\"/><line x1=\"499.54\" y1=\"237.446\" x2=\"499.935\" y2=\"243.717\" stroke-linecap=\"round\" style=\"stroke:white;stroke-width:4\"/><line x1=\"499.935\" y1=\"243.717\" x2=\"499.935\" y2=\"250.0\" stroke-linecap=\"round\" style=\"stroke:white;stroke-width:4\"/><line x1=\"499.935\" y1=\"250.0\" x2=\"499.54\" y2=\"256.271\" stroke-linecap=\"round\" style=\"stroke:white;stroke-width:4\"/><line x1=\"499.54\" y1=\"256.271\" x2=\"498.753\" y2=\"262.505\" stroke-linecap=\"round\" style=\"stroke:white;stroke-width:4\"/><line x1=\"498.753\" y1=\"262.505\" x2=\"497.576\" y2=\"268.677\" stroke-linecap=\"round\" style=\"stroke:white;stroke-width:4\"/><line x1=\"497.576\" y1=\"268.677\" x2=\"496.013\" y2=\"274.763\" stroke-linecap=\"round\" style=\"stroke:white;stroke-width:4\"/><line x1=\"496.013\" y1=\"274.763\" x2=\"494.071\" y2=\"280.739\" stroke-linecap=\"round\" style=\"stroke:white;stroke-width:4\"/><line x1=\"494.071\" y1=\"280.739\" x2=\"491.758\" y2=\"286.581\" stroke-linecap=\"round\" style=\"stroke:white;stroke-width:4\"/><line x1=\"491.758\" y1=\"286.581\" x2=\"489.083\" y2=\"292.266\" stroke-linecap=\"round\" style=\"stroke:white;stroke-width:4\"/><line x1=\"489.083\" y1=\"292.266\" x2=\"486.056\" y2=\"297.772\" stroke-linecap=\"round\" style=\"stroke:white;stroke-width:4\"/><line x1=\"486.056\" y1=\"297.772\" x2=\"482.689\" y2=\"303.077\" stroke-linecap=\"round\" style=\"stroke:white;stroke-width:4\"/><line x1=\"482.689\" y1=\"303.077\" x2=\"478.996\" y2=\"308.16\" stroke-linecap=\"round\" style=\"stroke:white;stroke-width:4\"/><line x1=\"478.996\" y1=\"308.16\" x2=\"474.991\" y2=\"313.001\" stroke-linecap=\"round\" style=\"stroke:white;stroke-width:4\"/><line x1=\"474.991\" y1=\"313.001\" x2=\"470.69\" y2=\"317.581\" stroke-linecap=\"round\" style=\"stroke:white;stroke-width:4\"/><line x1=\"470.69\" y1=\"317.581\" x2=\"466.11\" y2=\"321.882\" stroke-linecap=\"round\" style=\"stroke:white;stroke-width:4\"/><line x1=\"466.11\" y1=\"321.882\" x2=\"461.269\" y2=\"325.887\" stroke-linecap=\"round\" style=\"stroke:white;stroke-width:4\"/><line x1=\"461.269\" y1=\"325.887\" x2=\"456.186\" y2=\"329.58\" stroke-linecap=\"round\" style=\"stroke:white;stroke-width:4\"/><line x1=\"456.186\" y1=\"329.58\" x2=\"450.881\" y2=\"332.947\" stroke-linecap=\"round\" style=\"stroke:white;stroke-width:4\"/><line x1=\"450.881\" y1=\"332.947\" x2=\"445.375\" y2=\"335.974\" stroke-linecap=\"round\" style=\"stroke:white;stroke-width:4\"/><line x1=\"445.375\" y1=\"335.974\" x2=\"439.69\" y2=\"338.649\" stroke-linecap=\"round\" style=\"stroke:white;stroke-width:4\"/><line x1=\"439.69\" y1=\"338.649\" x2=\"433.848\" y2=\"340.962\" stroke-linecap=\"round\" style=\"stroke:white;stroke-width:4\"/><line x1=\"433.848\" y1=\"340.962\" x2=\"427.872\" y2=\"342.904\" stroke-linecap=\"round\" style=\"stroke:white;stroke-width:4\"/><line x1=\"427.872\" y1=\"342.904\" x2=\"421.786\" y2=\"344.467\" stroke-linecap=\"round\" style=\"stroke:white;stroke-width:4\"/><line x1=\"421.786\" y1=\"344.467\" x2=\"415.614\" y2=\"345.644\" stroke-linecap=\"round\" style=\"stroke:white;stroke-width:4\"/><line x1=\"415.614\" y1=\"345.644\" x2=\"409.38\" y2=\"346.431\" stroke-linecap=\"round\" style=\"stroke:white;stroke-width:4\"/><line x1=\"409.38\" y1=\"346.431\" x2=\"403.109\" y2=\"346.826\" stroke-linecap=\"round\" style=\"stroke:white;stroke-width:4\"/><line x1=\"403.109\" y1=\"346.826\" x2=\"396.826\" y2=\"346.826\" stroke-linecap=\"round\" style=\"stroke:white;stroke-width:4\"/><line x1=\"396.826\" y1=\"346.826\" x2=\"390.555\" y2=\"346.431\" stroke-linecap=\"round\" style=\"stroke:white;stroke-width:4\"/><line x1=\"390.555\" y1=\"346.431\" x2=\"384.321\" y2=\"345.644\" stroke-linecap=\"round\" style=\"stroke:white;stroke-width:4\"/><line x1=\"384.321\" y1=\"345.644\" x2=\"378.149\" y2=\"344.467\" stroke-linecap=\"round\" style=\"stroke:white;stroke-width:4\"/><line x1=\"378.149\" y1=\"344.467\" x2=\"372.063\" y2=\"342.904\" stroke-linecap=\"round\" style=\"stroke:white;stroke-width:4\"/><line x1=\"372.063\" y1=\"342.904\" x2=\"366.087\" y2=\"340.962\" stroke-linecap=\"round\" style=\"stroke:white;stroke-width:4\"/><line x1=\"366.087\" y1=\"340.962\" x2=\"360.245\" y2=\"338.649\" stroke-linecap=\"round\" style=\"stroke:white;stroke-width:4\"/><line x1=\"360.245\" y1=\"338.649\" x2=\"354.56\" y2=\"335.974\" stroke-linecap=\"round\" style=\"stroke:white;stroke-width:4\"/><line x1=\"354.56\" y1=\"335.974\" x2=\"349.054\" y2=\"332.947\" stroke-linecap=\"round\" style=\"stroke:white;stroke-width:4\"/><line x1=\"349.054\" y1=\"332.947\" x2=\"343.749\" y2=\"329.58\" stroke-linecap=\"round\" style=\"stroke:white;stroke-width:4\"/><line x1=\"343.749\" y1=\"329.58\" x2=\"338.666\" y2=\"325.887\" stroke-linecap=\"round\" style=\"stroke:white;stroke-width:4\"/><line x1=\"338.666\" y1=\"325.887\" x2=\"333.825\" y2=\"321.882\" stroke-linecap=\"round\" style=\"stroke:white;stroke-width:4\"/><line x1=\"333.825\" y1=\"321.882\" x2=\"329.245\" y2=\"317.581\" stroke-linecap=\"round\" style=\"stroke:white;stroke-width:4\"/><line x1=\"329.245\" y1=\"317.581\" x2=\"324.944\" y2=\"313.001\" stroke-linecap=\"round\" style=\"stroke:white;stroke-width:4\"/><line x1=\"324.944\" y1=\"313.001\" x2=\"320.939\" y2=\"308.16\" stroke-linecap=\"round\" style=\"stroke:white;stroke-width:4\"/><line x1=\"320.939\" y1=\"308.16\" x2=\"317.246\" y2=\"303.077\" stroke-linecap=\"round\" style=\"stroke:white;stroke-width:4\"/><line x1=\"317.246\" y1=\"303.077\" x2=\"313.879\" y2=\"297.772\" stroke-linecap=\"round\" style=\"stroke:white;stroke-width:4\"/><line x1=\"313.879\" y1=\"297.772\" x2=\"310.852\" y2=\"292.266\" stroke-linecap=\"round\" style=\"stroke:white;stroke-width:4\"/><line x1=\"310.852\" y1=\"292.266\" x2=\"308.177\" y2=\"286.581\" stroke-linecap=\"round\" style=\"stroke:white;stroke-width:4\"/><line x1=\"308.177\" y1=\"286.581\" x2=\"305.864\" y2=\"280.739\" stroke-linecap=\"round\" style=\"stroke:white;stroke-width:4\"/><line x1=\"305.864\" y1=\"280.739\" x2=\"303.922\" y2=\"274.763\" stroke-linecap=\"round\" style=\"stroke:white;stroke-width:4\"/><line x1=\"303.922\" y1=\"274.763\" x2=\"302.359\" y2=\"268.677\" stroke-linecap=\"round\" style=\"stroke:white;stroke-width:4\"/><line x1=\"302.359\" y1=\"268.677\" x2=\"301.182\" y2=\"262.505\" stroke-linecap=\"round\" style=\"stroke:white;stroke-width:4\"/><line x1=\"301.182\" y1=\"262.505\" x2=\"300.395\" y2=\"256.271\" stroke-linecap=\"round\" style=\"stroke:white;stroke-width:4\"/><line x1=\"300.395\" y1=\"256.271\" x2=\"300.0\" y2=\"250.0\" stroke-linecap=\"round\" style=\"stroke:white;stroke-width:4\"/>\n",
              "        <g visibility=visible transform=\"rotate(360.00000000000034,300.0,250.0) translate(282.0, 232.0)\">\n",
              "<path style=\" stroke:none;fill-rule:evenodd;fill:white;fill-opacity:1;\" d=\"M 18.214844 0.632812 C 16.109375 1.800781 15.011719 4.074219 15.074219 7.132812 L 15.085938 7.652344 L 14.785156 7.496094 C 13.476562 6.824219 11.957031 6.671875 10.40625 7.066406 C 8.46875 7.550781 6.515625 9.15625 4.394531 11.992188 C 3.0625 13.777344 2.679688 14.636719 3.042969 15.027344 L 3.15625 15.152344 L 3.519531 15.152344 C 4.238281 15.152344 4.828125 14.886719 8.1875 13.039062 C 9.386719 12.378906 10.371094 11.839844 10.378906 11.839844 C 10.386719 11.839844 10.355469 11.929688 10.304688 12.035156 C 9.832031 13.09375 9.257812 14.820312 8.96875 16.078125 C 7.914062 20.652344 8.617188 24.53125 11.070312 27.660156 C 11.351562 28.015625 11.363281 27.914062 10.972656 28.382812 C 8.925781 30.84375 7.945312 33.28125 8.238281 35.1875 C 8.289062 35.527344 8.28125 35.523438 8.917969 35.523438 C 10.941406 35.523438 13.074219 34.207031 15.136719 31.6875 C 15.359375 31.417969 15.328125 31.425781 15.5625 31.574219 C 16.292969 32.042969 18.023438 32.964844 18.175781 32.964844 C 18.335938 32.964844 19.941406 32.210938 20.828125 31.71875 C 20.996094 31.625 21.136719 31.554688 21.136719 31.558594 C 21.203125 31.664062 21.898438 32.414062 22.222656 32.730469 C 23.835938 34.300781 25.5625 35.132812 27.582031 35.300781 C 27.90625 35.328125 27.9375 35.308594 28.007812 34.984375 C 28.382812 33.242188 27.625 30.925781 25.863281 28.425781 L 25.542969 27.96875 L 25.699219 27.785156 C 28.945312 23.960938 29.132812 18.699219 26.257812 11.96875 L 26.207031 11.84375 L 27.945312 12.703125 C 31.53125 14.476562 32.316406 14.800781 33.03125 14.800781 C 33.976562 14.800781 33.78125 13.9375 32.472656 12.292969 C 28.519531 7.355469 25.394531 5.925781 21.921875 7.472656 L 21.558594 7.636719 L 21.578125 7.542969 C 21.699219 6.992188 21.761719 5.742188 21.699219 5.164062 C 21.496094 3.296875 20.664062 1.964844 19.003906 0.855469 C 18.480469 0.503906 18.457031 0.5 18.214844 0.632812\"/>\n",
              "</g>\n",
              "      </svg>\n",
              "    "
            ],
            "text/plain": [
              "<IPython.core.display.HTML object>"
            ]
          },
          "metadata": {}
        }
      ]
    },
    {
      "cell_type": "markdown",
      "metadata": {
        "id": "kVLvD_KzWwWx"
      },
      "source": [
        "Exercício Complementar 6 - Faça uma versão mais geral da função `circle`, chamada `arc`, que toma um parâmetro adicional, `angle`, que determina qual a fração do circulo a ser desenhada. `angle` está em unidades de graus, logo quando `angle=360`, a função `arc` deve desenhar um cículo completo.\n"
      ]
    },
    {
      "cell_type": "code",
      "metadata": {
        "colab": {
          "base_uri": "https://localhost:8080/",
          "height": 521
        },
        "id": "StSluD98XMeB",
        "outputId": "ff129828-2cf5-4380-bc8c-ed2609bfa822"
      },
      "source": [
        "def arc(t, color, r, angle, n):\n",
        "    import math\n",
        "    length = (((angle*math.pi)/180)*r)/n\n",
        "    t.initializeTurtle()\n",
        "    t.color(color)\n",
        "    t.penup()\n",
        "    t.left(90)\n",
        "    t.forward((n*length)/(((angle*math.pi)/180)))\n",
        "    t.right(90)\n",
        "    t.pendown()\n",
        "    for i in range(n):\n",
        "        t.forward(length)\n",
        "        t.right(angle/n) \n",
        "\n",
        "arc(joana, \"red\", 100, 180, 50)"
      ],
      "execution_count": 50,
      "outputs": [
        {
          "output_type": "display_data",
          "data": {
            "text/html": [
              "\n",
              "      <svg width=\"800\" height=\"500\">\n",
              "        <rect width=\"100%\" height=\"100%\" fill=\"black\"/>\n",
              "        <line x1=\"300.0\" y1=\"250.0\" x2=\"300.0\" y2=\"243.717\" stroke-linecap=\"round\" style=\"stroke:red;stroke-width:4\"/><line x1=\"300.0\" y1=\"243.717\" x2=\"300.395\" y2=\"237.446\" stroke-linecap=\"round\" style=\"stroke:red;stroke-width:4\"/><line x1=\"300.395\" y1=\"237.446\" x2=\"301.182\" y2=\"231.212\" stroke-linecap=\"round\" style=\"stroke:red;stroke-width:4\"/><line x1=\"301.182\" y1=\"231.212\" x2=\"302.359\" y2=\"225.04\" stroke-linecap=\"round\" style=\"stroke:red;stroke-width:4\"/><line x1=\"302.359\" y1=\"225.04\" x2=\"303.922\" y2=\"218.954\" stroke-linecap=\"round\" style=\"stroke:red;stroke-width:4\"/><line x1=\"303.922\" y1=\"218.954\" x2=\"305.864\" y2=\"212.978\" stroke-linecap=\"round\" style=\"stroke:red;stroke-width:4\"/><line x1=\"305.864\" y1=\"212.978\" x2=\"308.177\" y2=\"207.136\" stroke-linecap=\"round\" style=\"stroke:red;stroke-width:4\"/><line x1=\"308.177\" y1=\"207.136\" x2=\"310.852\" y2=\"201.451\" stroke-linecap=\"round\" style=\"stroke:red;stroke-width:4\"/><line x1=\"310.852\" y1=\"201.451\" x2=\"313.879\" y2=\"195.945\" stroke-linecap=\"round\" style=\"stroke:red;stroke-width:4\"/><line x1=\"313.879\" y1=\"195.945\" x2=\"317.246\" y2=\"190.64\" stroke-linecap=\"round\" style=\"stroke:red;stroke-width:4\"/><line x1=\"317.246\" y1=\"190.64\" x2=\"320.939\" y2=\"185.557\" stroke-linecap=\"round\" style=\"stroke:red;stroke-width:4\"/><line x1=\"320.939\" y1=\"185.557\" x2=\"324.944\" y2=\"180.716\" stroke-linecap=\"round\" style=\"stroke:red;stroke-width:4\"/><line x1=\"324.944\" y1=\"180.716\" x2=\"329.245\" y2=\"176.136\" stroke-linecap=\"round\" style=\"stroke:red;stroke-width:4\"/><line x1=\"329.245\" y1=\"176.136\" x2=\"333.825\" y2=\"171.835\" stroke-linecap=\"round\" style=\"stroke:red;stroke-width:4\"/><line x1=\"333.825\" y1=\"171.835\" x2=\"338.666\" y2=\"167.83\" stroke-linecap=\"round\" style=\"stroke:red;stroke-width:4\"/><line x1=\"338.666\" y1=\"167.83\" x2=\"343.749\" y2=\"164.137\" stroke-linecap=\"round\" style=\"stroke:red;stroke-width:4\"/><line x1=\"343.749\" y1=\"164.137\" x2=\"349.054\" y2=\"160.77\" stroke-linecap=\"round\" style=\"stroke:red;stroke-width:4\"/><line x1=\"349.054\" y1=\"160.77\" x2=\"354.56\" y2=\"157.743\" stroke-linecap=\"round\" style=\"stroke:red;stroke-width:4\"/><line x1=\"354.56\" y1=\"157.743\" x2=\"360.245\" y2=\"155.068\" stroke-linecap=\"round\" style=\"stroke:red;stroke-width:4\"/><line x1=\"360.245\" y1=\"155.068\" x2=\"366.087\" y2=\"152.755\" stroke-linecap=\"round\" style=\"stroke:red;stroke-width:4\"/><line x1=\"366.087\" y1=\"152.755\" x2=\"372.063\" y2=\"150.813\" stroke-linecap=\"round\" style=\"stroke:red;stroke-width:4\"/><line x1=\"372.063\" y1=\"150.813\" x2=\"378.149\" y2=\"149.25\" stroke-linecap=\"round\" style=\"stroke:red;stroke-width:4\"/><line x1=\"378.149\" y1=\"149.25\" x2=\"384.321\" y2=\"148.073\" stroke-linecap=\"round\" style=\"stroke:red;stroke-width:4\"/><line x1=\"384.321\" y1=\"148.073\" x2=\"390.555\" y2=\"147.286\" stroke-linecap=\"round\" style=\"stroke:red;stroke-width:4\"/><line x1=\"390.555\" y1=\"147.286\" x2=\"396.826\" y2=\"146.891\" stroke-linecap=\"round\" style=\"stroke:red;stroke-width:4\"/><line x1=\"396.826\" y1=\"146.891\" x2=\"403.109\" y2=\"146.891\" stroke-linecap=\"round\" style=\"stroke:red;stroke-width:4\"/><line x1=\"403.109\" y1=\"146.891\" x2=\"409.38\" y2=\"147.286\" stroke-linecap=\"round\" style=\"stroke:red;stroke-width:4\"/><line x1=\"409.38\" y1=\"147.286\" x2=\"415.614\" y2=\"148.073\" stroke-linecap=\"round\" style=\"stroke:red;stroke-width:4\"/><line x1=\"415.614\" y1=\"148.073\" x2=\"421.786\" y2=\"149.25\" stroke-linecap=\"round\" style=\"stroke:red;stroke-width:4\"/><line x1=\"421.786\" y1=\"149.25\" x2=\"427.872\" y2=\"150.813\" stroke-linecap=\"round\" style=\"stroke:red;stroke-width:4\"/><line x1=\"427.872\" y1=\"150.813\" x2=\"433.848\" y2=\"152.755\" stroke-linecap=\"round\" style=\"stroke:red;stroke-width:4\"/><line x1=\"433.848\" y1=\"152.755\" x2=\"439.69\" y2=\"155.068\" stroke-linecap=\"round\" style=\"stroke:red;stroke-width:4\"/><line x1=\"439.69\" y1=\"155.068\" x2=\"445.375\" y2=\"157.743\" stroke-linecap=\"round\" style=\"stroke:red;stroke-width:4\"/><line x1=\"445.375\" y1=\"157.743\" x2=\"450.881\" y2=\"160.77\" stroke-linecap=\"round\" style=\"stroke:red;stroke-width:4\"/><line x1=\"450.881\" y1=\"160.77\" x2=\"456.186\" y2=\"164.137\" stroke-linecap=\"round\" style=\"stroke:red;stroke-width:4\"/><line x1=\"456.186\" y1=\"164.137\" x2=\"461.269\" y2=\"167.83\" stroke-linecap=\"round\" style=\"stroke:red;stroke-width:4\"/><line x1=\"461.269\" y1=\"167.83\" x2=\"466.11\" y2=\"171.835\" stroke-linecap=\"round\" style=\"stroke:red;stroke-width:4\"/><line x1=\"466.11\" y1=\"171.835\" x2=\"470.69\" y2=\"176.136\" stroke-linecap=\"round\" style=\"stroke:red;stroke-width:4\"/><line x1=\"470.69\" y1=\"176.136\" x2=\"474.991\" y2=\"180.716\" stroke-linecap=\"round\" style=\"stroke:red;stroke-width:4\"/><line x1=\"474.991\" y1=\"180.716\" x2=\"478.996\" y2=\"185.557\" stroke-linecap=\"round\" style=\"stroke:red;stroke-width:4\"/><line x1=\"478.996\" y1=\"185.557\" x2=\"482.689\" y2=\"190.64\" stroke-linecap=\"round\" style=\"stroke:red;stroke-width:4\"/><line x1=\"482.689\" y1=\"190.64\" x2=\"486.056\" y2=\"195.945\" stroke-linecap=\"round\" style=\"stroke:red;stroke-width:4\"/><line x1=\"486.056\" y1=\"195.945\" x2=\"489.083\" y2=\"201.451\" stroke-linecap=\"round\" style=\"stroke:red;stroke-width:4\"/><line x1=\"489.083\" y1=\"201.451\" x2=\"491.758\" y2=\"207.136\" stroke-linecap=\"round\" style=\"stroke:red;stroke-width:4\"/><line x1=\"491.758\" y1=\"207.136\" x2=\"494.071\" y2=\"212.978\" stroke-linecap=\"round\" style=\"stroke:red;stroke-width:4\"/><line x1=\"494.071\" y1=\"212.978\" x2=\"496.013\" y2=\"218.954\" stroke-linecap=\"round\" style=\"stroke:red;stroke-width:4\"/><line x1=\"496.013\" y1=\"218.954\" x2=\"497.576\" y2=\"225.04\" stroke-linecap=\"round\" style=\"stroke:red;stroke-width:4\"/><line x1=\"497.576\" y1=\"225.04\" x2=\"498.753\" y2=\"231.212\" stroke-linecap=\"round\" style=\"stroke:red;stroke-width:4\"/><line x1=\"498.753\" y1=\"231.212\" x2=\"499.54\" y2=\"237.446\" stroke-linecap=\"round\" style=\"stroke:red;stroke-width:4\"/><line x1=\"499.54\" y1=\"237.446\" x2=\"499.935\" y2=\"243.717\" stroke-linecap=\"round\" style=\"stroke:red;stroke-width:4\"/>\n",
              "        <g visibility=visible transform=\"rotate(180.00000000000054,499.935,243.717) translate(481.935, 225.717)\">\n",
              "<path style=\" stroke:none;fill-rule:evenodd;fill:red;fill-opacity:1;\" d=\"M 18.214844 0.632812 C 16.109375 1.800781 15.011719 4.074219 15.074219 7.132812 L 15.085938 7.652344 L 14.785156 7.496094 C 13.476562 6.824219 11.957031 6.671875 10.40625 7.066406 C 8.46875 7.550781 6.515625 9.15625 4.394531 11.992188 C 3.0625 13.777344 2.679688 14.636719 3.042969 15.027344 L 3.15625 15.152344 L 3.519531 15.152344 C 4.238281 15.152344 4.828125 14.886719 8.1875 13.039062 C 9.386719 12.378906 10.371094 11.839844 10.378906 11.839844 C 10.386719 11.839844 10.355469 11.929688 10.304688 12.035156 C 9.832031 13.09375 9.257812 14.820312 8.96875 16.078125 C 7.914062 20.652344 8.617188 24.53125 11.070312 27.660156 C 11.351562 28.015625 11.363281 27.914062 10.972656 28.382812 C 8.925781 30.84375 7.945312 33.28125 8.238281 35.1875 C 8.289062 35.527344 8.28125 35.523438 8.917969 35.523438 C 10.941406 35.523438 13.074219 34.207031 15.136719 31.6875 C 15.359375 31.417969 15.328125 31.425781 15.5625 31.574219 C 16.292969 32.042969 18.023438 32.964844 18.175781 32.964844 C 18.335938 32.964844 19.941406 32.210938 20.828125 31.71875 C 20.996094 31.625 21.136719 31.554688 21.136719 31.558594 C 21.203125 31.664062 21.898438 32.414062 22.222656 32.730469 C 23.835938 34.300781 25.5625 35.132812 27.582031 35.300781 C 27.90625 35.328125 27.9375 35.308594 28.007812 34.984375 C 28.382812 33.242188 27.625 30.925781 25.863281 28.425781 L 25.542969 27.96875 L 25.699219 27.785156 C 28.945312 23.960938 29.132812 18.699219 26.257812 11.96875 L 26.207031 11.84375 L 27.945312 12.703125 C 31.53125 14.476562 32.316406 14.800781 33.03125 14.800781 C 33.976562 14.800781 33.78125 13.9375 32.472656 12.292969 C 28.519531 7.355469 25.394531 5.925781 21.921875 7.472656 L 21.558594 7.636719 L 21.578125 7.542969 C 21.699219 6.992188 21.761719 5.742188 21.699219 5.164062 C 21.496094 3.296875 20.664062 1.964844 19.003906 0.855469 C 18.480469 0.503906 18.457031 0.5 18.214844 0.632812\"/>\n",
              "</g>\n",
              "      </svg>\n",
              "    "
            ],
            "text/plain": [
              "<IPython.core.display.HTML object>"
            ]
          },
          "metadata": {}
        }
      ]
    }
  ]
}