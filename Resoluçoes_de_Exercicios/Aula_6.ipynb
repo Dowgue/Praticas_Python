{
  "nbformat": 4,
  "nbformat_minor": 0,
  "metadata": {
    "colab": {
      "name": "Aula_6.ipynb",
      "provenance": [],
      "authorship_tag": "ABX9TyNN4U6Bfa3QI5WmaUY37T8P",
      "include_colab_link": true
    },
    "kernelspec": {
      "name": "python3",
      "display_name": "Python 3"
    },
    "language_info": {
      "name": "python"
    }
  },
  "cells": [
    {
      "cell_type": "markdown",
      "metadata": {
        "id": "view-in-github",
        "colab_type": "text"
      },
      "source": [
        "<a href=\"https://colab.research.google.com/github/Dowgue/Praticas_Python/blob/main/Resolu%C3%A7oes_de_Exercicios/Aula_6.ipynb\" target=\"_parent\"><img src=\"https://colab.research.google.com/assets/colab-badge.svg\" alt=\"Open In Colab\"/></a>"
      ]
    },
    {
      "cell_type": "markdown",
      "metadata": {
        "id": "7UXSE3AaRI0H"
      },
      "source": [
        "1) Modifique-o para que o resultado seja um **histograma**, como o mostrado na figura abaixo.\n",
        "Amplie seu script para que seja possível passar ao programa dados (frequência), com o valor do bin (classe de frequência) e cores determinados pelo usuário.\n",
        "\n",
        "\n",
        "Adicione declarações condicionais à função para casos passíveis de gerar erros, como por exemplo, se alguma variável do argumento da função não for definida.\n",
        "\n",
        "***Exemplo***: Generalize sua função para tomar como argumento uma lista que contenha as frequências do histograma e verifique que o argumento realmente é uma lista. Caso não seja, imprima uma mensagem de erro.\n",
        "\n",
        "![](https://raw.githubusercontent.com/malbouis/Python_intro/master/aulas_2019/pics/histo.png)\n",
        "\n",
        "2) Repita o exercício 1) usando **Manipulação de exceção em Python** (pesquisem!!!!), com as cláusulas ```try``` e ```except```.  <=== **A ser apresentado em sala de aula**.\n",
        "\n",
        "2) **Desafio**: Faça um programa equivalente ao do item 1., utilizando ***matplotlib*** e ***numpy*** ao invés de ***turtle***"
      ]
    },
    {
      "cell_type": "code",
      "metadata": {
        "id": "OBgg3MTHpk1R"
      },
      "source": [
        "#Exercício 1\n",
        "\n",
        "import turtle\n",
        "ds = turtle.Screen()\n",
        "douglas = turtle.Turtle()\n",
        "douglas.shape('turtle')\n",
        "type(douglas)\n",
        "douglas.speed(10)\n",
        "ds.bgcolor(\"pink\")\n",
        "\n",
        "\n",
        "def draw_bar(t, height, width, color):\n",
        "    t.color(color)\n",
        "    t.left(90)\n",
        "    t.forward(height)\n",
        "    t.right(90)\n",
        "    t.forward(30)\n",
        "    t.right(90)\n",
        "    t.forward(height)\n",
        "    t.left(90)\n",
        "    t.forward(10)\n",
        "\n",
        "def create_hist(turtle, xcont, xbins, color = \"blue\"):\n",
        "    douglas.penup()\n",
        "    douglas.goto(-150,-150)\n",
        "    douglas.pendown()\n",
        "\n",
        "    if (len(xcont) != len(xbins)-1):\n",
        "        print(\"ERROR: number of bins and bins contents does not match.\")\n",
        "        return\n",
        "\n",
        "    for i in range(1, len(xbins)):\n",
        "        if (xbins[i] < xbins[i-1]):\n",
        "            print(\"ERROR: bins must be in order.\")\n",
        "            return\n",
        "        if (xbins[i] == xbins[i-1]):\n",
        "            print(\"ERROR: bins should not have 0 size.\")\n",
        "            return\n",
        "\n",
        "    for i in range(len(xcont)):\n",
        "        draw_bar(turtle, xcont[i], xbins[i+1] - xbins[i], color)\n",
        "\n",
        "xcont = [48,117,200,240,160,260,220,250]\n",
        "xbins = [0,10,20,30,40,50,60,70,80]\n",
        "\n",
        "create_hist(douglas, xcont, xbins, \"red\")"
      ],
      "execution_count": null,
      "outputs": []
    },
    {
      "cell_type": "code",
      "metadata": {
        "id": "MisB8g8Zp906"
      },
      "source": [
        "#Exercício 2\n",
        "\n",
        "import turtle\n",
        "ds = turtle.Screen()\n",
        "douglas = turtle.Turtle()\n",
        "douglas.shape('turtle')\n",
        "type(douglas)\n",
        "douglas.speed(10)\n",
        "ds.bgcolor(\"pink\")\n",
        "\n",
        "\n",
        "def draw_bar(t, height, width, color):\n",
        "    t.color(color)\n",
        "    t.left(90)\n",
        "    t.forward(height)\n",
        "    t.right(90)\n",
        "    t.forward(30)\n",
        "    t.right(90)\n",
        "    t.forward(height)\n",
        "    t.left(90)\n",
        "    t.forward(10)\n",
        "\n",
        "def create_hist(turtle, xcont, xbins, color = \"blue\"):\n",
        "    douglas.penup()\n",
        "    douglas.goto(-150,-150)\n",
        "    douglas.pendown()\n",
        "\n",
        "    if (len(xcont) != len(xbins)-1):\n",
        "        print(\"ERROR: number of bins and bins contents does not match.\")\n",
        "        return\n",
        "\n",
        "    for i in range(1, len(xbins)):\n",
        "        if (xbins[i] < xbins[i-1]):\n",
        "            print(\"ERROR: bins must be in order.\")\n",
        "            return\n",
        "        if (xbins[i] == xbins[i-1]):\n",
        "            print(\"ERROR: bins should not have 0 size.\")\n",
        "            return\n",
        "\n",
        "    for i in range(len(xcont)):\n",
        "        draw_bar(turtle, xcont[i], xbins[i+1] - xbins[i], color)\n",
        "\n",
        "xcont = [48,117,200,240,160,260,220,250]\n",
        "xbins = [0,10,20,30,40,50,60,70,80]\n",
        "\n",
        "try:\n",
        "    create_hist(douglas, xcont, xbins, \"red\")\n",
        "except:\n",
        "    print(\"ERROR: something went wrong.\")\n"
      ],
      "execution_count": null,
      "outputs": []
    }
  ]
}