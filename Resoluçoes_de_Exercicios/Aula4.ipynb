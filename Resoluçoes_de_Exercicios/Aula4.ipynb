{
  "nbformat": 4,
  "nbformat_minor": 0,
  "metadata": {
    "colab": {
      "name": "Aula4.ipynb",
      "provenance": [],
      "authorship_tag": "ABX9TyNYmRwX0WyeDG4vuuhV+t/v",
      "include_colab_link": true
    },
    "kernelspec": {
      "name": "python3",
      "display_name": "Python 3"
    },
    "language_info": {
      "name": "python"
    }
  },
  "cells": [
    {
      "cell_type": "markdown",
      "metadata": {
        "id": "view-in-github",
        "colab_type": "text"
      },
      "source": [
        "<a href=\"https://colab.research.google.com/github/Dowgue/Praticas_Python/blob/main/Resolu%C3%A7oes_de_Exercicios/Aula4.ipynb\" target=\"_parent\"><img src=\"https://colab.research.google.com/assets/colab-badge.svg\" alt=\"Open In Colab\"/></a>"
      ]
    },
    {
      "cell_type": "markdown",
      "metadata": {
        "id": "_V5TkuO2fhXH"
      },
      "source": [
        "Exercício 1:\n",
        "\n",
        "   Escreva uma função com um valor de retorno que:\n",
        "        tome como input dois argumentos;\n",
        "        execute a soma dos dois parâmetros que foram passados como argumento e atribua o resultado a uma variável;\n",
        "        tenha como valor de retorno o dobro da soma dos dois parâmetros.\n"
      ]
    },
    {
      "cell_type": "code",
      "metadata": {
        "colab": {
          "base_uri": "https://localhost:8080/"
        },
        "id": "OOWXRPDyflHI",
        "outputId": "70f60bf1-0272-40f5-cc9e-43c7a97506a7"
      },
      "source": [
        "def soma(a,b):\n",
        "     \n",
        "     return 2*(a+b)\n",
        "\n",
        "soma(1,1)"
      ],
      "execution_count": 1,
      "outputs": [
        {
          "output_type": "execute_result",
          "data": {
            "text/plain": [
              "4"
            ]
          },
          "metadata": {},
          "execution_count": 1
        }
      ]
    },
    {
      "cell_type": "markdown",
      "metadata": {
        "id": "8-_ytvplgLka"
      },
      "source": [
        "Exercicio 2: \n",
        "\n",
        "Um objeto de função é um valor que você pode atribuir a uma variável ou passar como um argumento.\n",
        "\n",
        "Para este exercício :\n",
        "\n",
        "a. Digite este exemplo em um script e teste-o.\n",
        "\n",
        "b. Modifique do_twice para que sejam necessários dois argumentos, um objeto de função f e um valor x, e chame a função duas vezes, passando o valor como um argumento.\n",
        "\n",
        "c. Escreva uma versão mais geral de print_spam, chamada print_twice, que use uma string como parâmetro e imprima duas vezes.\n",
        "\n",
        "d. Use a versão modificada (no item b) de do_twice para chamar print_twice duas vezes, passando 'spam' como um argumento.\n",
        "\n",
        "e. Defina uma nova função chamada do_four que recebe um objeto de função e um valor e chama a função quatro vezes, passando o valor como um parâmetro. Deve haver apenas duas declarações no corpo desta função, e não quatro"
      ]
    },
    {
      "cell_type": "code",
      "metadata": {
        "colab": {
          "base_uri": "https://localhost:8080/"
        },
        "id": "dBkTSCz5gW9j",
        "outputId": "26c08c4a-9179-4732-ca30-0bcb6b88b387"
      },
      "source": [
        "#a)\n",
        "\n",
        "def do_twice (f): \n",
        "    f () \n",
        "    f ()\n",
        "\n",
        "def print_spam (): \n",
        "    print('spam') \n",
        "\n",
        "do_twice (print_spam)"
      ],
      "execution_count": 2,
      "outputs": [
        {
          "output_type": "stream",
          "text": [
            "spam\n",
            "spam\n"
          ],
          "name": "stdout"
        }
      ]
    },
    {
      "cell_type": "code",
      "metadata": {
        "colab": {
          "base_uri": "https://localhost:8080/"
        },
        "id": "GCfaP2cXgW7_",
        "outputId": "c9a8603e-43d3-4335-fbac-c9006fba8456"
      },
      "source": [
        "#b)\n",
        "\n",
        "def do_twice(f,x): \n",
        "    f(x) \n",
        "    f(x)\n",
        "\n",
        "def print_spam(x): \n",
        "    print(x) \n",
        "\n",
        "do_twice (print_spam, \"spam\")"
      ],
      "execution_count": 3,
      "outputs": [
        {
          "output_type": "stream",
          "text": [
            "spam\n",
            "spam\n"
          ],
          "name": "stdout"
        }
      ]
    },
    {
      "cell_type": "code",
      "metadata": {
        "colab": {
          "base_uri": "https://localhost:8080/"
        },
        "id": "xnSKX3QxvQwf",
        "outputId": "72f1e571-f9a8-4729-87ed-8315a95c1e5b"
      },
      "source": [
        "#c) e d)\n",
        "\n",
        "def do_twice(f,x): \n",
        "    f(x) \n",
        "    f(x)\n",
        "\n",
        "def print_spam(x): \n",
        "    print(x) \n",
        "\n",
        "do_twice (print_spam, \"spam\") "
      ],
      "execution_count": null,
      "outputs": [
        {
          "output_type": "stream",
          "text": [
            "spam\n",
            "spam\n"
          ],
          "name": "stdout"
        }
      ]
    },
    {
      "cell_type": "code",
      "metadata": {
        "colab": {
          "base_uri": "https://localhost:8080/"
        },
        "id": "dGmHgTmmhTuf",
        "outputId": "322086f3-d255-4298-cdfe-1adbd4fb945e"
      },
      "source": [
        "#e)\n",
        "\n",
        "def do_twice(f,x): \n",
        "    f(x) \n",
        "    f(x)\n",
        "\n",
        "def do_four(f,x): \n",
        "    do_twice(f,x)\n",
        "    do_twice(f,x)\n",
        "\n",
        "def print_spam(x): \n",
        "    print(x) \n",
        "\n",
        "do_four(print_spam, \"spam \") "
      ],
      "execution_count": 6,
      "outputs": [
        {
          "output_type": "stream",
          "text": [
            "spam \n",
            "spam \n",
            "spam \n",
            "spam \n"
          ],
          "name": "stdout"
        }
      ]
    }
  ]
}