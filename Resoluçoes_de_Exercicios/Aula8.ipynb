{
  "nbformat": 4,
  "nbformat_minor": 0,
  "metadata": {
    "colab": {
      "name": "Aula8.ipynb",
      "provenance": [],
      "authorship_tag": "ABX9TyPMJdCAM5ewdR9Yns8XZ4ed",
      "include_colab_link": true
    },
    "kernelspec": {
      "name": "python3",
      "display_name": "Python 3"
    },
    "language_info": {
      "name": "python"
    }
  },
  "cells": [
    {
      "cell_type": "markdown",
      "metadata": {
        "id": "view-in-github",
        "colab_type": "text"
      },
      "source": [
        "<a href=\"https://colab.research.google.com/github/Dowgue/Praticas_Python/blob/main/Resolu%C3%A7oes_de_Exercicios/Aula8.ipynb\" target=\"_parent\"><img src=\"https://colab.research.google.com/assets/colab-badge.svg\" alt=\"Open In Colab\"/></a>"
      ]
    },
    {
      "cell_type": "markdown",
      "metadata": {
        "id": "adol_xAhwiLl"
      },
      "source": [
        "## Exercícios: \n",
        "   1. Percorra toda a `string` \"banana\", utilizando as iterações\n",
        "apresentadas nas aulas anteriores, e imprima na tela uma letra por linha como se fosse em uma escada. \n",
        "   1. Escreva uma função que receba uma `string` como argumento e exiba as letras de trás para a frente, uma por linha.\n"
      ]
    },
    {
      "cell_type": "code",
      "metadata": {
        "colab": {
          "base_uri": "https://localhost:8080/"
        },
        "id": "fwnHU-RAwjX7",
        "outputId": "a77aca09-de9b-4fbd-fd71-6c06c1b45e42"
      },
      "source": [
        "# Exercício 1\n",
        "fruta = 'banana'\n",
        "\n",
        "for i in range(len(fruta)):\n",
        "    print(\" \"*i, fruta[i])"
      ],
      "execution_count": 1,
      "outputs": [
        {
          "output_type": "stream",
          "name": "stdout",
          "text": [
            " b\n",
            "  a\n",
            "   n\n",
            "    a\n",
            "     n\n",
            "      a\n"
          ]
        }
      ]
    },
    {
      "cell_type": "code",
      "metadata": {
        "colab": {
          "base_uri": "https://localhost:8080/"
        },
        "id": "CNVEqGJEwryb",
        "outputId": "6eb2cf06-16f7-4b19-ce94-35eac27e7446"
      },
      "source": [
        "# Exercício 2\n",
        "\n",
        "def invert_text(text):\n",
        "    for i in range(len(text), 0, -1):\n",
        "        print(text[i-1])\n",
        "\n",
        "invert_text(\"banana\")"
      ],
      "execution_count": 2,
      "outputs": [
        {
          "output_type": "stream",
          "name": "stdout",
          "text": [
            "a\n",
            "n\n",
            "a\n",
            "n\n",
            "a\n",
            "b\n"
          ]
        }
      ]
    },
    {
      "cell_type": "markdown",
      "metadata": {
        "id": "SOSHWZwyznwi"
      },
      "source": [
        "## Exercícios\n",
        "\n",
        "   1. Resolução numérica de equações diferenciais. Imagine que tem um/a maratonista treinando, que num trecho de $5 \\mathrm{km}$ tem velocidade quase constante de $12 \\mathrm{km/h}$. Produza uma lista com a  distância percorrida em intervalos de 1 minuto. \n",
        "\n",
        "   1. O/A mesmo/a atleta no seguinte trecho acelera nos seguintes $200$ metros até chegar numa velocidade de $15 \\mathrm{km/h}$, e mantém esta velocidade por $1,8 \\mathrm{km}$. Queremos obter uma tabela ou gráfico da distância percorrida en função do tempo, e calcular e o tempo total para chegar em $7 \\mathrm{km}$, faça isto utilizando listas. \n",
        "\n",
        "   1. Considere um péndulo simples num plano. O comprimento da linha é $1$ metro, a massa é $0,2 \\mathrm{kg}$ e a aceleração de gravidade $9,8 \\mathrm{m}/\\mathrm{s}^2$. Faça um gráfico ou crie uma tabela para a posição da massa em coordenadas cartesianas em função do tempo, utilizando listas.\n",
        "\n",
        "   1. (opcional) Pesquise sobre o pacote `numpy` e os objetos desse pacote chamados `array`, tente utilizálos ao invés de listas para resolver os exercícios.\n",
        "\n",
        "Dica: podem usar o pacote `matplotlib.pyplot` para fazer um gráfico:"
      ]
    },
    {
      "cell_type": "code",
      "metadata": {
        "colab": {
          "base_uri": "https://localhost:8080/",
          "height": 296
        },
        "id": "MvkE1NWpzogD",
        "outputId": "9d8a57de-a7f3-4528-b55d-f0aa422f5506"
      },
      "source": [
        "import matplotlib.pyplot as plt\n",
        "\n",
        "t=[0,1,2,3,4,5,6,7,8,9,10]\n",
        "x=[0,4.2,8,10,23,30,35,41,44,50,55]\n",
        "\n",
        "plt.plot(t,x)\n",
        "plt.xlabel(\"tempo [s]\")\n",
        "plt.ylabel(\"distância [m]\")"
      ],
      "execution_count": 4,
      "outputs": [
        {
          "output_type": "execute_result",
          "data": {
            "text/plain": [
              "Text(0, 0.5, 'distância [m]')"
            ]
          },
          "metadata": {},
          "execution_count": 4
        },
        {
          "output_type": "display_data",
          "data": {
            "image/png": "[encoded data removed]",
            "text/plain": [
              "<Figure size 432x288 with 1 Axes>"
            ]
          },
          "metadata": {
            "needs_background": "light"
          }
        }
      ]
    },
    {
      "cell_type": "code",
      "metadata": {
        "colab": {
          "base_uri": "https://localhost:8080/",
          "height": 279
        },
        "id": "EJdr-SjEzvhy",
        "outputId": "4f7c7dd1-b548-4756-9eb8-9988e4d8b7ef"
      },
      "source": [
        "#Exercício 1\n",
        "import matplotlib.pyplot as plt\n",
        "\n",
        "def get_positions(start, velocity, distance, delta_t):\n",
        "    result = {\n",
        "        'positions': [start],\n",
        "        'times': [0]\n",
        "    }\n",
        "    while result['positions'][-1] < distance:\n",
        "        result['positions'].append(result['positions'][-1] + velocity*delta_t)\n",
        "        result['times'].append(result['times'][-1] + delta_t)\n",
        "    return result\n",
        "\n",
        "def plot_graph(x, y, label_x, label_y):\n",
        "    plt.plot(x,y)\n",
        "    plt.xlabel(label_x)\n",
        "    plt.ylabel(label_y)\n",
        "\n",
        "plot_values = get_positions(0, 12, 5, 1/60)\n",
        "\n",
        "plot_graph(plot_values['times'], plot_values['positions'], 'tempo [minutos]', 'distância [km]')"
      ],
      "execution_count": 5,
      "outputs": [
        {
          "output_type": "display_data",
          "data": {
            "image/png": "[encoded data removed]",
            "text/plain": [
              "<Figure size 432x288 with 1 Axes>"
            ]
          },
          "metadata": {
            "needs_background": "light"
          }
        }
      ]
    },
    {
      "cell_type": "code",
      "metadata": {
        "colab": {
          "base_uri": "https://localhost:8080/",
          "height": 281
        },
        "id": "Q6NvcLtu0giK",
        "outputId": "bbe2c5af-63ba-4025-d061-9dfd7736a305"
      },
      "source": [
        "#Exercício 3\n",
        "import matplotlib.pyplot as plt\n",
        "import math\n",
        "\n",
        "runner = {\n",
        "    'position': [0],\n",
        "    'time': [0]\n",
        "}\n",
        "\n",
        "#First run configs\n",
        "initial_position1 = 0\n",
        "end_position1 = 5\n",
        "velocity1 = 12\n",
        "\n",
        "#First run code\n",
        "def runner_part1(time):\n",
        "    position = initial_position1 + velocity1*time\n",
        "    \n",
        "    if position <= end_position1:\n",
        "        return position\n",
        "    else:\n",
        "        return False\n",
        "\n",
        "#Second run configs\n",
        "end_position2 = 5.2\n",
        "end_velocity2 = 15\n",
        "aceleration2 = (end_velocity2 - velocity1)/(end_position2 - end_position1)\n",
        "\n",
        "#Second run code\n",
        "def runner_part2(time):\n",
        "    position = end_position1 + velocity1*time + aceleration2*time**2/2\n",
        "    \n",
        "    if position <= end_position2:\n",
        "        return position\n",
        "    else:\n",
        "        return False\n",
        "\n",
        "#Third run configs\n",
        "initial_position3 = 5.2\n",
        "\n",
        "#Third run code\n",
        "def runner_part3(time):\n",
        "    position = initial_position3 + end_velocity2*time\n",
        "    return position\n",
        "\n",
        "\n",
        "#Configs about graph\n",
        "steps = 1/60\n",
        "initial_position3 = 7\n",
        "\n",
        "#Do calculus\n",
        "while runner['position'][-1] <= initial_position3:\n",
        "    #Get time\n",
        "    runner['time'].append(runner['time'][-1] + steps)\n",
        "\n",
        "    #Get position\n",
        "    if runner_part1(runner['time'][-1]):\n",
        "        runner['position'].append(runner_part1(runner['time'][-1]))\n",
        "    elif runner_part2(runner['time'][-1]):\n",
        "        runner['position'].append(runner_part2(runner['time'][-1]))\n",
        "    else:\n",
        "        runner['position'].append(runner_part3(runner['time'][-1]))\n",
        "\n",
        "#Plot graph\n",
        "def plot_graph(x, y, label_x, label_y):\n",
        "    plt.plot(x,y)\n",
        "    plt.xlabel(label_x)\n",
        "    plt.ylabel(label_y)\n",
        "\n",
        "plot_graph(runner['time'], runner['position'], 'tempo [minutos]', 'distância [km]')"
      ],
      "execution_count": 6,
      "outputs": [
        {
          "output_type": "display_data",
          "data": {
            "image/png": "[encoded data removed]",
            "text/plain": [
              "<Figure size 432x288 with 1 Axes>"
            ]
          },
          "metadata": {
            "needs_background": "light"
          }
        }
      ]
    },
    {
      "cell_type": "code",
      "metadata": {
        "colab": {
          "base_uri": "https://localhost:8080/",
          "height": 279
        },
        "id": "fM0-l-UZ1OAi",
        "outputId": "3964786e-6943-4071-ac86-c1338dd53e3a"
      },
      "source": [
        "#Exercício 3\n",
        "import matplotlib.pyplot as plt\n",
        "import math\n",
        "\n",
        "#Configs about pendulum\n",
        "length = 1\n",
        "gravity = 9.8\n",
        "amplitude = 2\n",
        "fase_inicial = 0\n",
        "\n",
        "#Pendulum initial positions\n",
        "pendulum = {\n",
        "    'position_x': [],\n",
        "    'velocity_x': [],\n",
        "    'time': []\n",
        "}\n",
        "\n",
        "#Configs about graph\n",
        "n_points = 50\n",
        "steps = 0.5\n",
        "\n",
        "#Do calculus\n",
        "for i in range(n_points):\n",
        "    omega = 1/(2*math.pi)*math.sqrt(gravity/length)\n",
        "\n",
        "    pendulum['time']      .append(i*steps)\n",
        "    pendulum['position_x'].append(       amplitude*math.cos(omega*pendulum['time'][-1] + fase_inicial))\n",
        "    pendulum['velocity_x'].append(-omega*amplitude*math.sin(omega*pendulum['time'][-1] + fase_inicial))\n",
        "\n",
        "#Plot graph\n",
        "def plot_graph(x, y, label_x, label_y):\n",
        "    plt.plot(x,y)\n",
        "    plt.xlabel(label_x)\n",
        "    plt.ylabel(label_y)\n",
        "\n",
        "plot_graph(pendulum['time'], pendulum['position_x'], 'tempo', 'posição/velocidade')\n",
        "plot_graph(pendulum['time'], pendulum['velocity_x'], 'tempo', 'posição/velocidade')"
      ],
      "execution_count": 7,
      "outputs": [
        {
          "output_type": "display_data",
          "data": {
            "image/png": "[encoded data removed]",
            "text/plain": [
              "<Figure size 432x288 with 1 Axes>"
            ]
          },
          "metadata": {
            "needs_background": "light"
          }
        }
      ]
    }
  ]
}