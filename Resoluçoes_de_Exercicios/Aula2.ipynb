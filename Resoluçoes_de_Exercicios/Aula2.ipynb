{
  "nbformat": 4,
  "nbformat_minor": 0,
  "metadata": {
    "colab": {
      "name": "Aula2.ipynb",
      "provenance": [],
      "authorship_tag": "ABX9TyO6shyUAj5C6biS91C5slpj",
      "include_colab_link": true
    },
    "kernelspec": {
      "name": "python3",
      "display_name": "Python 3"
    },
    "language_info": {
      "name": "python"
    }
  },
  "cells": [
    {
      "cell_type": "markdown",
      "metadata": {
        "id": "view-in-github",
        "colab_type": "text"
      },
      "source": [
        "<a href=\"https://colab.research.google.com/github/Dowgue/Praticas_Python/blob/main/Resolu%C3%A7oes_de_Exercicios/Aula2.ipynb\" target=\"_parent\"><img src=\"https://colab.research.google.com/assets/colab-badge.svg\" alt=\"Open In Colab\"/></a>"
      ]
    },
    {
      "cell_type": "markdown",
      "metadata": {
        "id": "OkHfADooO9iW"
      },
      "source": [
        "### Exercício 1:\n",
        "Considere as seguintes declarações de atribuições:\n",
        "   * largura = 17 \n",
        "   * altura = 12.0\n",
        "   * delimitador = \".\"\n",
        "   \n",
        "Para cada uma das expressões a seguir, escreva o valor das expressões e o tipo (do valor da expressão):\n",
        "1. largura/2\n",
        "1. largura/2.0\n",
        "1. altura/3\n",
        "1. 1 + 2 * 5\n",
        "1. delimitador*5\n",
        "\n",
        "Use o interpretador de python para verificar suas respostas."
      ]
    },
    {
      "cell_type": "code",
      "metadata": {
        "colab": {
          "base_uri": "https://localhost:8080/"
        },
        "id": "P0kSqo4LPAyc",
        "outputId": "d380b68e-1652-4200-b1da-5dc3b08b5f57"
      },
      "source": [
        "largura = 17\n",
        "altura = 12.0\n",
        "delimitador = \".\"\n",
        "\n",
        "print('1.', largura/2, ',', type(largura/2))\n",
        "print('2.', largura/2.0, ',', type(largura/2))\n",
        "print('3.', altura/3, ',', altura/3,)\n",
        "print('4.', 1 + 2 * 5, ',', type(4))\n",
        "print('5', delimitador*5, ',', type(delimitador*5))\n"
      ],
      "execution_count": 7,
      "outputs": [
        {
          "output_type": "stream",
          "text": [
            "1. 8.5 , <class 'float'>\n",
            "2. 8.5 , <class 'float'>\n",
            "3. 4.0 , 4.0\n",
            "4. 11 , <class 'int'>\n",
            "5 ..... , <class 'str'>\n"
          ],
          "name": "stdout"
        }
      ]
    },
    {
      "cell_type": "markdown",
      "metadata": {
        "id": "_QO9XyjdRhGE"
      },
      "source": [
        "### Exercício 2:\n",
        "O volume de uma esfera de raio *r* é $\\frac{4}{3} \\pi r^{3}$ \n",
        "\n",
        "Qual é o volume de uma esfera de raio 5?"
      ]
    },
    {
      "cell_type": "code",
      "metadata": {
        "colab": {
          "base_uri": "https://localhost:8080/"
        },
        "id": "Ll_HO4kzRib9",
        "outputId": "3194a112-221b-4733-dbb3-2ceb2a300623"
      },
      "source": [
        "pi = 3.14  \n",
        "r = 5       # Raio da esfera em mm\n",
        "Volume = (4/3)*(pi * r**3)\n",
        "\n",
        "print(\"O volume da esfera é \", Volume, \"mm^3\")"
      ],
      "execution_count": 12,
      "outputs": [
        {
          "output_type": "stream",
          "text": [
            "O volume da esfera é  523.3333333333333 mm^3\n"
          ],
          "name": "stdout"
        }
      ]
    },
    {
      "cell_type": "markdown",
      "metadata": {
        "id": "GaO8icpsSUpe"
      },
      "source": [
        ""
      ]
    },
    {
      "cell_type": "markdown",
      "metadata": {
        "id": "zVMfNi5qSUuB"
      },
      "source": [
        "### Exercício 3:\n",
        "Suponha que o preço de um livro seja 24.95 reais, porém as livrarias têm desconto de 40%. Os custos de envio são de 3.00 reais para o primeiro livro e 0.75 reais para os livros adicionais. Qual é o custo total da compra de 60 livros?  "
      ]
    },
    {
      "cell_type": "code",
      "metadata": {
        "colab": {
          "base_uri": "https://localhost:8080/"
        },
        "id": "dcfYDlPyTCmc",
        "outputId": "f5d61dee-4f85-4d99-c66f-8d2e60c5b92b"
      },
      "source": [
        "livro = 24.95\n",
        "livro_total = 0.6 * livro  #Preço do livro com desconto em R$\n",
        "custo = 3 * 1 * livro_total + 0.75 * 59 * livro_total\n",
        "\n",
        "print('O custo total da compra de 60 livros é de', custo, 'reais')"
      ],
      "execution_count": 14,
      "outputs": [
        {
          "output_type": "stream",
          "text": [
            "O custo total da compra de 60 livros é de 707.3324999999999 reais\n"
          ],
          "name": "stdout"
        }
      ]
    },
    {
      "cell_type": "markdown",
      "metadata": {
        "id": "WGJY3TaUVKbo"
      },
      "source": [
        "### Exercício 4:\n",
        "Um laser vermelho (com comprimento de onda $\\lambda = 632.8$ nm) incide em uma fenda dupla produzindo um padrão de interferência com franjas claras e escuras, em um anteparo situado a uma distância D = 1.98 m da fenda. Calcule a distância $\\Delta y$ entre dois máximos consecutivos de interferência. Considere o espaçamento entre as fendas, $d$, como sendo igual a 0.250 mm.\n",
        "*Dica: a distância entre dois máximos de interferência consecutivos pode ser aproximada por $\\Delta y = \\frac{\\lambda D}{d}$.*"
      ]
    },
    {
      "cell_type": "code",
      "metadata": {
        "colab": {
          "base_uri": "https://localhost:8080/"
        },
        "id": "cIcyIqyGVMNT",
        "outputId": "32dc05ab-b1e6-4365-b513-0a631e4298f8"
      },
      "source": [
        "comprimento_de_onda = 632.8 * 10**-9 #Em m\n",
        "distancia_do_anteparo = 1.98  #Em m\n",
        "espaçamento = 0.25   #Em m\n",
        "\n",
        "delta_y = (comprimento_de_onda*distancia_do_anteparo)/(espaçamento)\n",
        "\n",
        "print('A distância entre dois máximos de interferência consecutivos pode ser aproximada por ', delta_y , 'm')"
      ],
      "execution_count": 18,
      "outputs": [
        {
          "output_type": "stream",
          "text": [
            "A distância entre dois máximos de interferência consecutivos pode ser aproximada por  5.011776e-06 m\n"
          ],
          "name": "stdout"
        }
      ]
    }
  ]
}