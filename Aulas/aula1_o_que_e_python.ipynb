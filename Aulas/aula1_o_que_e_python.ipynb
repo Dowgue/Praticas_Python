{
  "nbformat": 4,
  "nbformat_minor": 0,
  "metadata": {
    "kernelspec": {
      "display_name": "Python 3",
      "language": "python",
      "name": "python3"
    },
    "language_info": {
      "codemirror_mode": {
        "name": "ipython",
        "version": 3
      },
      "file_extension": ".py",
      "mimetype": "text/x-python",
      "name": "python",
      "nbconvert_exporter": "python",
      "pygments_lexer": "ipython3",
      "version": "3.7.0"
    },
    "colab": {
      "name": "aula1_o_que_e_python.ipynb",
      "provenance": [],
      "include_colab_link": true
    }
  },
  "cells": [
    {
      "cell_type": "markdown",
      "metadata": {
        "id": "view-in-github",
        "colab_type": "text"
      },
      "source": [
        "<a href=\"https://colab.research.google.com/github/Dowgue/Praticas_Python/blob/main/Aulas/aula1_o_que_e_python.ipynb\" target=\"_parent\"><img src=\"https://colab.research.google.com/assets/colab-badge.svg\" alt=\"Open In Colab\"/></a>"
      ]
    },
    {
      "cell_type": "markdown",
      "metadata": {
        "id": "p-x9K4y1mp28"
      },
      "source": [
        "# O que é Ciência da Computação?\n",
        "https://undergrad.cs.umd.edu/what-computer-science\n",
        "\n",
        "Ciência da computação é o estudo de computadores e sistemas computacionais. \n",
        "\n",
        "As áreas principais de estudo em Ciência da Computação incluem inteligência artificial, sistemas computacionais, segurança, sistema de bancos de dados, linguagens de programação, etc."
      ]
    },
    {
      "cell_type": "markdown",
      "metadata": {
        "id": "lOlSXjfQmp2_"
      },
      "source": [
        "# O que é Computação Científica?\n",
        "Gene H. Golub and James M. Ortega. Scientific Computing and Differential Equations – An Introduction to Numerical Methods. Academic Press, 1992.\n",
        "\n",
        "*\"… Scientific Computing is the collection of tools, techniques, and theories required to solve on a computer mathematical models of problems in Science and Engineering.\n",
        "A majority of these tools, techniques, and theories originally developed in Mathematics, many of them having their genesis long before the advent of electronic computers. This set of mathematical theories and techniques is called Numerical Analysis (or Numerical Mathematics) and constitutes a major part of scientific computing. The development of the electronic computer, however, signaled a new era in the approach to the solution of scientific problems. Many of the numerical methods that had been developed for the purpose of hand calculation (including the use of desk calculators for the actual arithmetic) had to be revised and sometimes abandoned. Considerations that were irrelevant or unimportant for hand calculation now became of utmost importance for the efficient and correct use of a large Computer System. Many of these considerations – programming languages, operating systems, management of large quantities of data, correctness of programs – were subsumed under the new discipline of Computer Science, on which scientific computing now depends heavily. But mathematics itself continues to play a major role in scientific computing: it provides the language of the mathematical models that are to be solved and information about the suitability of a model (Does it have a solution? Is the solution unique?) and it provides the theoretical foundation for the numerical methods and, increasingly, many of the tools from computer science.\n",
        "In summary, then, scientific computing draws on mathematics and computer science to develop the best way to use computer systems to solve problems from science and engineering.\"*\n",
        "\n",
        "\n",
        "Computação Científica é a coleção de ferramentas, técnicas e teorias necessárias para resolver em um computador modelos matemáticos de problemas em **Ciência** e **Engenharia**.\n",
        "A maioria dessas ferramentas, técnicas e teorias foram originalmente desenvolvidas em Matemática, muitas delas tendo sua gênese muito antes do advento dos computadores eletrônicos. Este conjunto de teorias matemáticas e técnicas é chamado de análise numérica (ou matemática numérica) e constitui uma parte importante da computação científica. O desenvolvimento do computador eletrônico, no entanto, sinalizou uma nova era na abordagem da solução de problemas científicos. Muitos dos métodos numéricos que foram desenvolvidos para o cálculo manual (incluindo o uso de calculadoras de mesa para a aritmética real) tiveram que ser revisados e às vezes abandonados. Considerações que eram irrelevantes ou sem importância para o cálculo manual agora se tornaram de extrema importância para o uso eficiente e correto de um grande sistema de computador. Muitas dessas considerações - linguagens de programação, sistemas operacionais, gerenciamento de grandes quantidades de dados, correção de programas - foram incluídas numa nova disciplina de Ciência da Computação, da qual a computação científica agora depende fortemente. Mas a própria matemática continua a desempenhar um papel importante na computação científica: ela fornece a linguagem dos modelos matemáticos que devem ser resolvidos e informações sobre a adequação de um modelo (ele tem uma solução? A solução é única?) E fornece a fundamentação teórica do métodos numéricos e, cada vez mais, muitas das ferramentas da ciência da computação.\n",
        "***Em resumo, então, a computação científica baseia-se na matemática e na ciência da computação para desenvolver a melhor maneira de usar sistemas de computador para resolver problemas da ciência e da engenharia.***\n",
        "\n",
        "\n",
        "Wikipedia, https://en.wikipedia.org/wiki/Computational_science\n",
        "\n",
        "*\"Computational science is a rapidly growing multidisciplinary field that uses advanced computing capabilities to understand and solve complex problems. It is an area of science which spans many disciplines, but at its core it involves the development of models and simulations to understand natural systems.\n",
        "Not to be confused with computer science.\"*\n",
        "\n",
        "\n",
        "\"A ciência computacional é um campo multidisciplinar em rápido crescimento que utiliza recursos avançados de computação para entender e resolver problemas complexos. É uma área da ciência que abrange muitas disciplinas, mas envolve o desenvolvimento de modelos e simulações para entender os sistemas naturais.\n",
        "Não deve ser confundido com ciência da computação. \""
      ]
    },
    {
      "cell_type": "markdown",
      "metadata": {
        "id": "yhFUGjmgmp3C"
      },
      "source": [
        "# Requerimentos em computação científica\n",
        "http://github.com/jrjohansson/scientific-python-lectures\n",
        "\n",
        "**Replicação** e **reprodutibilidade** são dois pilares do método científico. Em relação a trabalho numérico (computação), atender a esses conceitos tem as seguintes implicações práticas:\n",
        "\n",
        "   * **Replicação**: Um autor de um artigo científico que envolve cálculos numéricos tem que ser capaz de ***rodar novamente as simulações e replicar os resultados***. Outros cientistas também deveriam ser capazes de realizar os mesmos cálculos e obter os mesmos resultados, dada a informação sobre os métodos usados na publicação.\n",
        "   \n",
        "   \n",
        "   * **Reprodutibilidade**: Os resultados obtidos através de simulações numéricas devem ser ***reprodutíveis com uma implementação independente do método***, ou usando um método diferente. \n",
        "\n",
        "**Em resumo: Um resultado científico sólido deve ser reproduzível e um estudo científico sólido deve ser replicável.**\n",
        "\n",
        "Para atingir esses objetivos, precisamos:\n",
        "\n",
        "   1. Manter e anotar exatamente qual código-fonte e versão foram usados para produzir dados e números em artigos publicados.\n",
        "   1. Certificar-se de que os códigos e anotações antigos tenham backup e sejam mantidos para referência futura.\n",
        "   1. Estar prontos para fornecer informações adicionais sobre os métodos utilizados, e talvez também sobre os códigos de simulação, para um leitor interessado que o solicite (mesmo anos após a publicação do artigo!).\n",
        "   1. O ideal é que os códigos sejam publicados on-line, para facilitar o acesso de outros cientistas interessados nos códigos.\n",
        "   \n",
        "### Ferramentas de gerenciamento de código-fonte:\n",
        "Existem várias ferramentas de gerenciamento de código-fonte. Nós indicamos o repositório online http://www.github.com"
      ]
    },
    {
      "cell_type": "code",
      "metadata": {
        "id": "Bqt5QNcnmp3E"
      },
      "source": [
        "import this"
      ],
      "execution_count": null,
      "outputs": []
    },
    {
      "cell_type": "markdown",
      "metadata": {
        "id": "Ws4xn0yomp3T"
      },
      "source": [
        "# O Zen do Python\n",
        "por Tim Peters\n",
        "\n",
        "\n",
        "* Bonito é melhor do que feio.\n",
        "* Explícito é melhor do que implícito.\n",
        "* **Simples é melhor do que complexo.**\n",
        "* Complexo é melhor do que complicado.\n",
        "* Linear é melhor do que aninhado.\n",
        "* **Legibilidade conta.**\n",
        "* Casos especiais não são especiais o bastante para quebrar as regras.\n",
        "* Apesar da praticidade vencer a pureza.\n",
        "* Erros nunca devem passar em silêncio.\n",
        "* A não ser que sejam explicitamente silenciados.\n",
        "* Diante da ambigüidade, recuse a tentação de adivinhar.\n",
        "* Deveria haver um — e preferencialmente só um — modo óbvio para fazer algo.\n",
        "* Agora é melhor que nunca.\n",
        "* Embora nunca freqüentemente seja melhor que já.\n",
        "* **Se a implementação é difícil de explicar, é uma má idéia.**\n",
        "* Se a implementação é fácil de explicar, pode ser uma boa idéia."
      ]
    },
    {
      "cell_type": "markdown",
      "metadata": {
        "id": "SlJZ_Uuump3V"
      },
      "source": [
        "# O que é Python?\n",
        "\n",
        "Python é uma linguagem de programação de alto nível, orientada a objetos, moderna e de propósito geral.\n",
        "\n",
        "#### Características gerais de Python:\n",
        "\n",
        "   * **linguagem simples e limpa**: código intuitivo e fácil de ler, sintaxe minimalista de fácil aprendizado, capacidade de manutenção escalável bem com o tamanho dos projetos.\n",
        "   * **linguagem expressiva**: Menos linhas de código, menos bugs, mais fáceis de manter.\n",
        "   \n",
        "#### Detalhes técnicos:\n",
        "\n",
        "   * **Digitado dinamicamente**: Não há necessidade de definir o tipo de variáveis, argumentos de função ou tipos de retorno.\n",
        "   * **Gerenciamento automático de memória**: Não é necessário alocar e desalocar explicitamente a memória para variáveis e matrizes de dados. Não há vazamentos de memória (memory leak bugs).\n",
        "   * **interpretado**: Não há necessidade de compilar o código. O interpretador Python lê e executa o código python diretamente.\n",
        "\n",
        "#### Vantagens:\n",
        "\n",
        "   * A principal vantagem é a facilidade de programação, minimizando o tempo necessário para desenvolver, *debugar* (procurar por erros no programa) e manter o código.\n",
        "   * Linguagem bem projetada que incentiva muitas boas práticas de programação:\n",
        "      * Programação modular e orientada a objetos, bom sistema para empacotamento e reutilização de código. Isso geralmente resulta em código mais transparente, sustentável e livre de bugs.\n",
        "      * Documentação totalmente integrada com o código.\n",
        "      * Uma grande biblioteca padrão e uma grande coleção de pacotes complementares.\n",
        "   * Muita documentação disponível!\n",
        "      \n",
        "#### Desvantagens:\n",
        "\n",
        "   * Como o Python é uma linguagem de programação interpretada e dinamicamente digitada, a execução do código python pode ser lenta em comparação com as linguagens de programação compiladas estaticamente, como C e Fortran."
      ]
    },
    {
      "cell_type": "code",
      "metadata": {
        "id": "APNms7bLmp3W"
      },
      "source": [
        "import antigravity "
      ],
      "execution_count": null,
      "outputs": []
    },
    {
      "cell_type": "markdown",
      "metadata": {
        "id": "XZNFMt9lmp3c"
      },
      "source": [
        "# Por que Python?\n",
        "\n",
        "## Popularidade de Python no mundo\n",
        "\n",
        "Índice de medição: busca de tutoriais de linguagem de programação no Google.\n",
        "\n",
        "![title](https://raw.githubusercontent.com/malbouis/Python_intro/master/aulas_2021-1/pics/Python_no_mundo.png)\n",
        "\n",
        "**Python foi a linguagem de programação que mais cresceu no mundo nos últimos 5 anos (16,1%) e Java foi a que mais decresceu (-6,2%)**\n",
        "\n",
        "http://pypl.github.io/PYPL.html"
      ]
    },
    {
      "cell_type": "markdown",
      "metadata": {
        "id": "skDSyS_bmp3d"
      },
      "source": [
        "# Como programar?\n",
        "http://greenteapress.com/thinkpython/html/thinkpython002.html\n",
        "\n",
        "\"A habilidade mais importante para um **cientista** (da computação) é a **resolução de problemas**. Resolução de problemas significa a capacidade de formular problemas, pensar criativamente sobre soluções e expressar uma solução de forma clara e precisa. Acontece que **o processo de aprender a programar é uma excelente oportunidade para praticar habilidades de resolução de problemas**.\n",
        "\n",
        "Em um dado nível, você estará aprendendo a programar, uma habilidade útil por si só. Em outro nível, você usará a programação como um meio para um fim. À medida que avançarmos, esse fim ficará mais claro.\""
      ]
    },
    {
      "cell_type": "markdown",
      "metadata": {
        "id": "ufJmiozfmp3e"
      },
      "source": [
        "# A linguagem de programação Python\n",
        "\n",
        "   * Python é um exemplo de uma linguagem de programação de **alto nível**; \n",
        "   \n",
        "   \n",
        "   * Exemplos de outras linguagens de alto nível: C, C++, Perl e Java.\n",
        "   \n",
        "   \n",
        "   * Linguagens de programação de **baixo nível**: \"linguagens de máquina\" ou \"linguagens de montagem\" (assembly language).\n",
        "      * Posto de forma não muito rígida, os computadores só podem executar programas escritos em linguagens de baixo nível. \n",
        "      * Os programas escritos em uma linguagem de alto nível precisam ser *processados* antes de poderem ser *executados*. \n",
        "      * Esse processamento extra leva algum tempo, o que é uma pequena desvantagem das linguagens de alto nível.\n",
        "   \n",
        "#### As vantagens de um programa de alto nível:\n",
        "   \n",
        "   * É muito mais fácil de programar. \n",
        "  \n",
        "  \n",
        "   * Demora menos tempo para ser escrito, é mais curto e fácil de ler, além de ter maior probabilidade de estar correto. \n",
        "   \n",
        "   \n",
        "   * É **portátil**: pode ser executado em diferentes tipos de computadores com poucas ou nenhuma modificação.\n",
        "   \n",
        "   \n",
        "   * Programas de **baixo nível** podem ser executados em apenas **um tipo de computador** e precisam ser reescritos para serem executados em outro.\n",
        "   \n",
        "   \n",
        "   * Por conta dessas vantagens quase todos os programas são escritos em linguagem de alto nível, a não ser aplicações específicas que necessitam linguagem de baixo nível."
      ]
    },
    {
      "cell_type": "markdown",
      "metadata": {
        "id": "L32fKv-4mp3g"
      },
      "source": [
        "### Interpretadores e compiladores\n",
        "\n",
        "São dois tipos de programas que processam linguagem de alto nível em linguagem de baixo nível. \n",
        "\n",
        "#### Interpretador:\n",
        "\n",
        "   * Lê um programa de alto nível e o executa: faz o que o programa comanda. \n",
        "   \n",
        "   \n",
        "   * Processa o programa um pouco por vez, lendo linhas e realizando cálculos alternadamente.\n",
        "\n",
        "![Interpretador](https://raw.githubusercontent.com/malbouis/Python_intro/00d0b993e8110a09267be7985e1ba943638f265d/aulas_2019/pics/python_interpretor.png)\n"
      ]
    },
    {
      "cell_type": "markdown",
      "metadata": {
        "id": "p3vAkAZWmp3g"
      },
      "source": [
        "#### Compilador:\n",
        "   \n",
        "* Lê o programa por completo e traduz antes de executar.     \n",
        "\n",
        "\n",
        "* O programa de alto nível é chamado de **código-fonte** e o programa traduzido é chamado de **código-objeto** ou **executável**. \n",
        "\n",
        "\n",
        "* Depois que um programa é compilado, você pode executá-lo repetidamente sem mais traduções.\n",
        "\n",
        "![Compilador](https://raw.githubusercontent.com/malbouis/Python_intro/00d0b993e8110a09267be7985e1ba943638f265d/aulas_2019/pics/python_compiler.png) \n",
        "\n"
      ]
    },
    {
      "cell_type": "markdown",
      "metadata": {
        "id": "Ev9kN9hQmp3i"
      },
      "source": [
        "# Python: uma linguagem interpretada\n",
        "\n",
        "#### Interpretador de Python\n",
        "\n",
        "   * modo imediato (prompt)\n",
        "   * modo script\n",
        "\n",
        "### Interpretador de Python Modo Prompt\n",
        "\n",
        "   * abrir um terminal de Linux (com Python previamente instalado)\n",
        "   * python\n",
        "   * para sair: ctrl + D\n",
        "   * Para Windows, você pode usar o PyScripter para acessar o prompt ou rodar um script.\n",
        "\n",
        "![Prompt](https://raw.githubusercontent.com/malbouis/Python_intro/00d0b993e8110a09267be7985e1ba943638f265d/aulas_2019/pics/terminal.png)"
      ]
    },
    {
      "cell_type": "code",
      "metadata": {
        "id": "o6QqbYULmp3k"
      },
      "source": [
        "2+2"
      ],
      "execution_count": null,
      "outputs": []
    },
    {
      "cell_type": "markdown",
      "metadata": {
        "id": "WHwYBGvdmp3p"
      },
      "source": [
        "## O que é um programa?\n",
        "\n",
        "   * Um programa é uma seqüência de instruções que especifica como realizar uma computação (tarefa). \n",
        "\n",
        "\n",
        "   * **entrada**:\n",
        "      * dados do teclado, de um arquivo ou de algum outro dispositivo.\n",
        "\n",
        "\n",
        "   * **saída**:\n",
        "      * Exibe dados na tela ou envia dados para um arquivo ou outro dispositivo.\n",
        "   \n",
        "   \n",
        "   * **matemática**:\n",
        "      * Realiza operações matemáticas básicas como adição e multiplicação.\n",
        "   \n",
        "   \n",
        "   * **execução condicional**:\n",
        "      * Verifica algumas condições e executa o código apropriado.\n",
        "   \n",
        "   \n",
        "   * **repetição** (loop):\n",
        "      * Realiza algumas ações repetidamente, geralmente com alguma variação.\n",
        " \n",
        " \n",
        " \n",
        "**Você pode pensar em programação como o processo de dividir uma tarefa grande e complexa em subtarefas cada vez menores, até que as subtarefas sejam simples o suficiente para serem executadas com uma dessas instruções básicas (algoritmos).** *Simples é melhor do que complexo.*"
      ]
    },
    {
      "cell_type": "markdown",
      "metadata": {
        "id": "0kV49D7Omp3r"
      },
      "source": [
        "## O que é Debugar?\n",
        "\n",
        "A programação é propensa a erros. \n",
        "\n",
        "\n",
        "Os erros de programação são chamados de **bugs** e o processo de rastreá-los é chamado de **debugar**.\n",
        "\n",
        "\n",
        "Três tipos de erros podem ocorrer em um programa: \n",
        "\n",
        "   * erros de sintaxe\n",
        "   * erros de execução\n",
        "   * erros semânticos. \n",
        "   \n",
        "É útil distinguir entre eles para rastreá-los mais rapidamente."
      ]
    },
    {
      "cell_type": "markdown",
      "metadata": {
        "id": "0b3algkKmp3t"
      },
      "source": [
        "### Erros de Sintaxe\n",
        "\n",
        "**Sintaxe**: estrutura do programa e regras de escrita do programa em Python. \n",
        "\n",
        "Exemplo: Soma de 2 + 8"
      ]
    },
    {
      "cell_type": "code",
      "metadata": {
        "id": "e4YNuHH3mp3u"
      },
      "source": [
        "#sintaxe correta:\n",
        "(2 + 8)"
      ],
      "execution_count": null,
      "outputs": []
    },
    {
      "cell_type": "code",
      "metadata": {
        "id": "sQUOoHAPmp3z"
      },
      "source": [
        "#sintaxe incorreta\n",
        "(2 + 8"
      ],
      "execution_count": null,
      "outputs": []
    },
    {
      "cell_type": "markdown",
      "metadata": {
        "id": "TQp-AE3Cmp33"
      },
      "source": [
        "**Quando há erro de sintaxe, o interpretador pára imediatamente e exibe uma mensagem de erro**\n",
        "\n",
        "Todo programador em algum momento já gastou muito tempo rastreando um erro de sintaxe. Faz parte do aprendizado. :-)"
      ]
    },
    {
      "cell_type": "markdown",
      "metadata": {
        "id": "tk8z7q8Bmp35"
      },
      "source": [
        "### Erros de execução\n",
        "\n",
        "Esse tipo de erro só aparece depois de iniciada a execução do programa. \n",
        "\n",
        "\n",
        "Também são chamados de **exceções** porque geralmente indicam que algo excepcional (e ruim) aconteceu.\n",
        "\n",
        "Erros de execução são raros nos programas simples."
      ]
    },
    {
      "cell_type": "markdown",
      "metadata": {
        "id": "Jh1Tkq2Dmp35"
      },
      "source": [
        "### Erros de Semântica\n",
        "\n",
        "   * Quando o programa é executado sem erros, porém não gera a saída esperada.\n",
        "   \n",
        "   \n",
        "   * Quando o programa que você escreveu não é o programa que você queria escrever. \n",
        "   \n",
        "   \n",
        "   * O **significado** do programa (sua semântica) está errado. "
      ]
    },
    {
      "cell_type": "markdown",
      "metadata": {
        "id": "8etFyJ1Omp37"
      },
      "source": [
        "## Depuração Experimental (Debugar!)\n",
        "\n",
        "   * Procurar por erros no seu programa! É como um trabalho de detetive!\n",
        "   \n",
        "   \n",
        "   * Criar estratégias de debugging é ***fundamental*** para todo programador.\n",
        "   \n",
        "   \n",
        "   * Teremos muitas oportunidades de debugar. :-)\n",
        "   \n",
        "\n",
        "   * No livro 2. indicado nas referências dessa aula, têm excelentes observações sobre *debugging*. Leiam! "
      ]
    },
    {
      "cell_type": "markdown",
      "metadata": {
        "id": "AorQXEEymp38"
      },
      "source": [
        "# Exercícios\n",
        "\n",
        "### Exercício 1:\n",
        "Escreva na tela do modo prompt: \"mundo, mundo, vasto mundo\""
      ]
    },
    {
      "cell_type": "code",
      "metadata": {
        "scrolled": true,
        "id": "iNQorxmdmp3-"
      },
      "source": [
        "print('mundo, mundo, vasto mundo')"
      ],
      "execution_count": null,
      "outputs": []
    },
    {
      "cell_type": "markdown",
      "metadata": {
        "id": "dVoNJP3rmp4D"
      },
      "source": [
        "### Exercício 2:\n",
        "Imprima na tela a documentação da função *print*"
      ]
    },
    {
      "cell_type": "code",
      "metadata": {
        "scrolled": true,
        "id": "e-tjr2J1mp4E"
      },
      "source": [
        "help('print')"
      ],
      "execution_count": null,
      "outputs": []
    },
    {
      "cell_type": "markdown",
      "metadata": {
        "id": "sE4F0ZW6mp4H"
      },
      "source": [
        "### Exercício 3:\n",
        "Inicie o interpretador Python e use-o como uma calculadora. A sintaxe do Python para operações matemáticas é quase igual à notação matemática padrão: \n",
        "* adição: + \n",
        "* subtração: - \n",
        "* divisão: /\n",
        "* multiplicação: *\n",
        "   \n",
        "   \n",
        "***Se você fizer uma corrida de 10 quilômetros em 43 minutos e 30 segundos, qual será seu tempo médio por milha? Qual é a sua velocidade média em milhas por hora? (Dica: há 1,61 quilômetros em uma milha).***"
      ]
    },
    {
      "cell_type": "markdown",
      "metadata": {
        "id": "5dcpAqoemp4J"
      },
      "source": [
        "## Referências\n",
        "\n",
        "1. http://github.com/jrjohansson/scientific-python-lectures\n",
        "1. http://greenteapress.com/thinkpython/html/index.html\n",
        "1. http://python.org/"
      ]
    }
  ]
}