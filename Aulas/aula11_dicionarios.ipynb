{
  "nbformat": 4,
  "nbformat_minor": 0,
  "metadata": {
    "kernelspec": {
      "display_name": "Python 3",
      "language": "python",
      "name": "python3"
    },
    "language_info": {
      "codemirror_mode": {
        "name": "ipython",
        "version": 3
      },
      "file_extension": ".py",
      "mimetype": "text/x-python",
      "name": "python",
      "nbconvert_exporter": "python",
      "pygments_lexer": "ipython3",
      "version": "3.6.4"
    },
    "colab": {
      "name": "aula11_dicionarios.ipynb",
      "provenance": [],
      "include_colab_link": true
    }
  },
  "cells": [
    {
      "cell_type": "markdown",
      "metadata": {
        "id": "view-in-github",
        "colab_type": "text"
      },
      "source": [
        "<a href=\"https://colab.research.google.com/github/Dowgue/Praticas_Python/blob/main/Aulas/aula11_dicionarios.ipynb\" target=\"_parent\"><img src=\"https://colab.research.google.com/assets/colab-badge.svg\" alt=\"Open In Colab\"/></a>"
      ]
    },
    {
      "cell_type": "markdown",
      "metadata": {
        "id": "vOKNlvJg7NjD"
      },
      "source": [
        "# Dicionários\n",
        "\n",
        "Todos os tipos de **dados compostos** (***compounds***) que estudamos em detalhes até agora - strings, listas - são **tipos de sequência**, ou seja coleciões ordenadas que usam inteiros como índices para acessar os valores que contêm dentro deles.\n",
        "\n",
        "Os **dicionários** são outro tipo de dado composto. Eles são o **tipo de mapeamento** integrado do Python. Eles mapeiam **chaves** (**keys**), que podem ser de qualquer **tipo imutável**, para valores, que podem ser de qualquer tipo (heterogêneos), assim como os elementos de uma lista ou tupla. \n",
        "\n",
        "\n",
        "**dicionários: chave -> valor**"
      ]
    },
    {
      "cell_type": "code",
      "metadata": {
        "id": "CVrqsQxN7NjE",
        "colab": {
          "base_uri": "https://localhost:8080/"
        },
        "outputId": "0ac73cb8-d3d5-4682-987a-700b5a46112f"
      },
      "source": [
        "tradutor = {}                # atribuição de criação de um dicionário vazio\n",
        "tradutor[\"one\"] = \"um\"       # atribuição do par key:value\n",
        "tradutor[\"two\"] = \"dois\"\n",
        "tradutor[\"three\"] = \"tres\"\n",
        "print(tradutor)"
      ],
      "execution_count": null,
      "outputs": [
        {
          "output_type": "stream",
          "name": "stdout",
          "text": [
            "{'one': 'um', 'two': 'dois', 'three': 'tres'}\n"
          ]
        }
      ]
    },
    {
      "cell_type": "markdown",
      "metadata": {
        "id": "yz7y6h397NjJ"
      },
      "source": [
        "Os pares de ***key:valor*** do dicionário são separados por vírgulas. Cada par contém uma chave e um valor separados por dois pontos (`:`)."
      ]
    },
    {
      "cell_type": "code",
      "metadata": {
        "id": "B_WbmsB57NjK",
        "colab": {
          "base_uri": "https://localhost:8080/"
        },
        "outputId": "8a99261a-9ed1-4e33-bed0-3c9947153d11"
      },
      "source": [
        "frutas = {\"maçãs\": 430, \"bananas\": 312, \"laranjas\": 525, \"peras\": 217, \"goiabas\": 88, \"figos\": 108, \"jambos\": 249}\n",
        "print (frutas)"
      ],
      "execution_count": null,
      "outputs": [
        {
          "output_type": "stream",
          "name": "stdout",
          "text": [
            "{'maçãs': 430, 'bananas': 312, 'laranjas': 525, 'peras': 217, 'goiabas': 88, 'figos': 108, 'jambos': 249}\n"
          ]
        }
      ]
    },
    {
      "cell_type": "markdown",
      "metadata": {
        "id": "TvAys1QL7NjO"
      },
      "source": [
        "## Dicionários não são ordenados!!!!\n",
        "\n",
        "Eles não necessáriamente vão ser impressos na ordem de entrada e os valores ou keys não podem ser acessados via índices de posição de forma reproduzível.\n",
        "\n"
      ]
    },
    {
      "cell_type": "code",
      "metadata": {
        "id": "js1S9P8R7NjO",
        "colab": {
          "base_uri": "https://localhost:8080/"
        },
        "outputId": "79167e62-9494-4732-d9bb-fcfbba508fef"
      },
      "source": [
        "dict = {}\n",
        "for i in range(200):\n",
        "    dict[i] = \"valor\" + str(i)\n",
        "print (dict)"
      ],
      "execution_count": null,
      "outputs": [
        {
          "output_type": "stream",
          "name": "stdout",
          "text": [
            "{0: 'valor0', 1: 'valor1', 2: 'valor2', 3: 'valor3', 4: 'valor4', 5: 'valor5', 6: 'valor6', 7: 'valor7', 8: 'valor8', 9: 'valor9', 10: 'valor10', 11: 'valor11', 12: 'valor12', 13: 'valor13', 14: 'valor14', 15: 'valor15', 16: 'valor16', 17: 'valor17', 18: 'valor18', 19: 'valor19', 20: 'valor20', 21: 'valor21', 22: 'valor22', 23: 'valor23', 24: 'valor24', 25: 'valor25', 26: 'valor26', 27: 'valor27', 28: 'valor28', 29: 'valor29', 30: 'valor30', 31: 'valor31', 32: 'valor32', 33: 'valor33', 34: 'valor34', 35: 'valor35', 36: 'valor36', 37: 'valor37', 38: 'valor38', 39: 'valor39', 40: 'valor40', 41: 'valor41', 42: 'valor42', 43: 'valor43', 44: 'valor44', 45: 'valor45', 46: 'valor46', 47: 'valor47', 48: 'valor48', 49: 'valor49', 50: 'valor50', 51: 'valor51', 52: 'valor52', 53: 'valor53', 54: 'valor54', 55: 'valor55', 56: 'valor56', 57: 'valor57', 58: 'valor58', 59: 'valor59', 60: 'valor60', 61: 'valor61', 62: 'valor62', 63: 'valor63', 64: 'valor64', 65: 'valor65', 66: 'valor66', 67: 'valor67', 68: 'valor68', 69: 'valor69', 70: 'valor70', 71: 'valor71', 72: 'valor72', 73: 'valor73', 74: 'valor74', 75: 'valor75', 76: 'valor76', 77: 'valor77', 78: 'valor78', 79: 'valor79', 80: 'valor80', 81: 'valor81', 82: 'valor82', 83: 'valor83', 84: 'valor84', 85: 'valor85', 86: 'valor86', 87: 'valor87', 88: 'valor88', 89: 'valor89', 90: 'valor90', 91: 'valor91', 92: 'valor92', 93: 'valor93', 94: 'valor94', 95: 'valor95', 96: 'valor96', 97: 'valor97', 98: 'valor98', 99: 'valor99', 100: 'valor100', 101: 'valor101', 102: 'valor102', 103: 'valor103', 104: 'valor104', 105: 'valor105', 106: 'valor106', 107: 'valor107', 108: 'valor108', 109: 'valor109', 110: 'valor110', 111: 'valor111', 112: 'valor112', 113: 'valor113', 114: 'valor114', 115: 'valor115', 116: 'valor116', 117: 'valor117', 118: 'valor118', 119: 'valor119', 120: 'valor120', 121: 'valor121', 122: 'valor122', 123: 'valor123', 124: 'valor124', 125: 'valor125', 126: 'valor126', 127: 'valor127', 128: 'valor128', 129: 'valor129', 130: 'valor130', 131: 'valor131', 132: 'valor132', 133: 'valor133', 134: 'valor134', 135: 'valor135', 136: 'valor136', 137: 'valor137', 138: 'valor138', 139: 'valor139', 140: 'valor140', 141: 'valor141', 142: 'valor142', 143: 'valor143', 144: 'valor144', 145: 'valor145', 146: 'valor146', 147: 'valor147', 148: 'valor148', 149: 'valor149', 150: 'valor150', 151: 'valor151', 152: 'valor152', 153: 'valor153', 154: 'valor154', 155: 'valor155', 156: 'valor156', 157: 'valor157', 158: 'valor158', 159: 'valor159', 160: 'valor160', 161: 'valor161', 162: 'valor162', 163: 'valor163', 164: 'valor164', 165: 'valor165', 166: 'valor166', 167: 'valor167', 168: 'valor168', 169: 'valor169', 170: 'valor170', 171: 'valor171', 172: 'valor172', 173: 'valor173', 174: 'valor174', 175: 'valor175', 176: 'valor176', 177: 'valor177', 178: 'valor178', 179: 'valor179', 180: 'valor180', 181: 'valor181', 182: 'valor182', 183: 'valor183', 184: 'valor184', 185: 'valor185', 186: 'valor186', 187: 'valor187', 188: 'valor188', 189: 'valor189', 190: 'valor190', 191: 'valor191', 192: 'valor192', 193: 'valor193', 194: 'valor194', 195: 'valor195', 196: 'valor196', 197: 'valor197', 198: 'valor198', 199: 'valor199'}\n"
          ]
        }
      ]
    },
    {
      "cell_type": "code",
      "metadata": {
        "id": "N5roFdqe7NjS",
        "colab": {
          "base_uri": "https://localhost:8080/"
        },
        "outputId": "fe5204e6-c3ec-4f71-b39c-a19e1a5f24da"
      },
      "source": [
        "print(dict[48])"
      ],
      "execution_count": null,
      "outputs": [
        {
          "output_type": "stream",
          "name": "stdout",
          "text": [
            "valor48\n"
          ]
        }
      ]
    },
    {
      "cell_type": "code",
      "metadata": {
        "id": "WbjrPvCv7NjW",
        "colab": {
          "base_uri": "https://localhost:8080/"
        },
        "outputId": "64a76b39-983f-487d-8da0-b48899d62542"
      },
      "source": [
        "print(tradutor[\"two\"])"
      ],
      "execution_count": null,
      "outputs": [
        {
          "output_type": "stream",
          "name": "stdout",
          "text": [
            "dois\n"
          ]
        }
      ]
    },
    {
      "cell_type": "markdown",
      "metadata": {
        "id": "zldkRW8x7Nja"
      },
      "source": [
        "Até agora, os tipos de dados que tínhamos visto, eram sequências, como listas e strings. Porém **os dicionários não são sequências**, sendo assim **não podemos indexá-los**."
      ]
    },
    {
      "cell_type": "markdown",
      "metadata": {
        "id": "GzmfKnYZ7Nja"
      },
      "source": [
        "## Operações com dicionários\n",
        "\n",
        "A instrução `del` retira um par `key:val` de um dicionário. Por exemplo, o dicionário a seguir contém os nomes de várias frutas e o número de cada fruta em estoque:"
      ]
    },
    {
      "cell_type": "code",
      "metadata": {
        "id": "78RhkpBl7Njb",
        "colab": {
          "base_uri": "https://localhost:8080/"
        },
        "outputId": "ab7439db-e5ba-4cb4-88c5-14362c1fceca"
      },
      "source": [
        "frutas = {\"maçãs\": 430, \"bananas\": 312, \"laranjas\": 525, \"peras\": 217, \"goiabas\": 88, \"figos\": 108, \"jambos\": 249}\n",
        "print(frutas)"
      ],
      "execution_count": null,
      "outputs": [
        {
          "output_type": "stream",
          "name": "stdout",
          "text": [
            "{'maçãs': 430, 'bananas': 312, 'laranjas': 525, 'peras': 217, 'goiabas': 88, 'figos': 108, 'jambos': 249}\n"
          ]
        }
      ]
    },
    {
      "cell_type": "code",
      "metadata": {
        "id": "Ts_WdhJ57Nje",
        "colab": {
          "base_uri": "https://localhost:8080/"
        },
        "outputId": "67ee53be-98c2-4ce4-d702-a666bc847d02"
      },
      "source": [
        "del frutas[\"peras\"]\n",
        "print(frutas)"
      ],
      "execution_count": null,
      "outputs": [
        {
          "output_type": "stream",
          "name": "stdout",
          "text": [
            "{'maçãs': 430, 'bananas': 312, 'laranjas': 525, 'goiabas': 88, 'figos': 108, 'jambos': 249}\n"
          ]
        }
      ]
    },
    {
      "cell_type": "code",
      "metadata": {
        "id": "VAo432ix7Njh",
        "colab": {
          "base_uri": "https://localhost:8080/"
        },
        "outputId": "b7c86cf6-8138-461e-e405-ccc3df868d1f"
      },
      "source": [
        "frutas[\"peras\"] = 0\n",
        "print(frutas)"
      ],
      "execution_count": null,
      "outputs": [
        {
          "output_type": "stream",
          "name": "stdout",
          "text": [
            "{'maçãs': 430, 'bananas': 312, 'laranjas': 525, 'goiabas': 88, 'figos': 108, 'jambos': 249, 'peras': 0}\n"
          ]
        }
      ]
    },
    {
      "cell_type": "code",
      "metadata": {
        "id": "xVxHAmYQ7Njk",
        "colab": {
          "base_uri": "https://localhost:8080/"
        },
        "outputId": "6dcb60da-0b67-4894-89f5-5c1a108a1a3a"
      },
      "source": [
        "len(frutas)  #a função len também funciona com dicionários"
      ],
      "execution_count": null,
      "outputs": [
        {
          "output_type": "execute_result",
          "data": {
            "text/plain": [
              "7"
            ]
          },
          "metadata": {},
          "execution_count": 9
        }
      ]
    },
    {
      "cell_type": "markdown",
      "metadata": {
        "id": "G8fdDD-l7Njm"
      },
      "source": [
        "## Métodos de dicionários\n",
        "\n",
        "Dicionários têm vários métodos úteis.\n",
        "\n",
        "Podemos visualizar as ***keys*** de um dado dicionário:"
      ]
    },
    {
      "cell_type": "code",
      "metadata": {
        "id": "ke0oIdSa7Njn",
        "colab": {
          "base_uri": "https://localhost:8080/"
        },
        "outputId": "c78ff551-70c4-4d2d-c987-aa24286481ab"
      },
      "source": [
        "frutas.keys()"
      ],
      "execution_count": null,
      "outputs": [
        {
          "output_type": "execute_result",
          "data": {
            "text/plain": [
              "dict_keys(['maçãs', 'bananas', 'laranjas', 'goiabas', 'figos', 'jambos', 'peras'])"
            ]
          },
          "metadata": {},
          "execution_count": 10
        }
      ]
    },
    {
      "cell_type": "code",
      "metadata": {
        "id": "msGo310a7Njq",
        "colab": {
          "base_uri": "https://localhost:8080/"
        },
        "outputId": "80843b8d-7ed4-4535-a3f3-6ea83c7e52b1"
      },
      "source": [
        "for fruta in frutas.keys():\n",
        "    print(fruta, ' = ', frutas[fruta])"
      ],
      "execution_count": null,
      "outputs": [
        {
          "output_type": "stream",
          "name": "stdout",
          "text": [
            "maçãs  =  430\n",
            "bananas  =  312\n",
            "laranjas  =  525\n",
            "goiabas  =  88\n",
            "figos  =  108\n",
            "jambos  =  249\n",
            "peras  =  0\n"
          ]
        }
      ]
    },
    {
      "cell_type": "code",
      "metadata": {
        "id": "I0ijcTbV7Njs",
        "colab": {
          "base_uri": "https://localhost:8080/"
        },
        "outputId": "0d2dd5d0-bb7d-44a3-d9da-40a1417e84dd"
      },
      "source": [
        "print(frutas)"
      ],
      "execution_count": null,
      "outputs": [
        {
          "output_type": "stream",
          "name": "stdout",
          "text": [
            "{'maçãs': 430, 'bananas': 312, 'laranjas': 525, 'goiabas': 88, 'figos': 108, 'jambos': 249, 'peras': 0}\n"
          ]
        }
      ]
    },
    {
      "cell_type": "code",
      "metadata": {
        "id": "6h5fsv7l7Njv",
        "colab": {
          "base_uri": "https://localhost:8080/"
        },
        "outputId": "3f3e149e-3609-4ea5-d043-59a3a48cac8e"
      },
      "source": [
        "lista_frutas = list(frutas.keys())\n",
        "print(lista_frutas)"
      ],
      "execution_count": null,
      "outputs": [
        {
          "output_type": "stream",
          "name": "stdout",
          "text": [
            "['maçãs', 'bananas', 'laranjas', 'goiabas', 'figos', 'jambos', 'peras']\n"
          ]
        }
      ]
    },
    {
      "cell_type": "markdown",
      "metadata": {
        "id": "fxzgsBL57Nj1"
      },
      "source": [
        "É tão comum iterar sobre as ***keys*** de um dicionário que podemos omitir a chamada do método de ***keys*** no loop ***for***\n",
        "   * **iterar sobre um dicionário itera implicitamente sobre suas chaves:**"
      ]
    },
    {
      "cell_type": "code",
      "metadata": {
        "id": "FUF_efrT7Nj1",
        "colab": {
          "base_uri": "https://localhost:8080/"
        },
        "outputId": "103aebc9-3468-4f8e-c9b8-e5b452e42f38"
      },
      "source": [
        "for fruta in frutas:\n",
        "    print(fruta, frutas[fruta])"
      ],
      "execution_count": null,
      "outputs": [
        {
          "output_type": "stream",
          "name": "stdout",
          "text": [
            "maçãs 430\n",
            "bananas 312\n",
            "laranjas 525\n",
            "goiabas 88\n",
            "figos 108\n",
            "jambos 249\n",
            "peras 0\n"
          ]
        }
      ]
    },
    {
      "cell_type": "code",
      "metadata": {
        "id": "SD4j2Khb7Nj4",
        "colab": {
          "base_uri": "https://localhost:8080/"
        },
        "outputId": "c0aa921c-5b22-4e41-adad-b55649372816"
      },
      "source": [
        "keys_frutas = [fruta for fruta in frutas] # list comprehension\n",
        "print(keys_frutas)"
      ],
      "execution_count": null,
      "outputs": [
        {
          "output_type": "stream",
          "name": "stdout",
          "text": [
            "['maçãs', 'bananas', 'laranjas', 'goiabas', 'figos', 'jambos', 'peras']\n"
          ]
        }
      ]
    },
    {
      "cell_type": "code",
      "metadata": {
        "id": "62d7teE67Nj6",
        "colab": {
          "base_uri": "https://localhost:8080/"
        },
        "outputId": "a03e8fd3-3422-4d2e-b442-83173df95993"
      },
      "source": [
        "valores_frutas = [frutas[fruta] for fruta in frutas]\n",
        "print(valores_frutas)"
      ],
      "execution_count": null,
      "outputs": [
        {
          "output_type": "stream",
          "name": "stdout",
          "text": [
            "[430, 312, 525, 88, 108, 249, 0]\n"
          ]
        }
      ]
    },
    {
      "cell_type": "markdown",
      "metadata": {
        "id": "7iJiBb5E7Nj9"
      },
      "source": [
        "O método **values** nos possibilita acessar diretamente os valores do dicionário:"
      ]
    },
    {
      "cell_type": "code",
      "metadata": {
        "id": "6RN8RrE97Nj-",
        "colab": {
          "base_uri": "https://localhost:8080/"
        },
        "outputId": "76c4bf09-5603-4916-9127-bc444097805a"
      },
      "source": [
        "valores = (frutas.values())\n",
        "print(valores)"
      ],
      "execution_count": null,
      "outputs": [
        {
          "output_type": "stream",
          "name": "stdout",
          "text": [
            "dict_values([430, 312, 525, 88, 108, 249, 0])\n"
          ]
        }
      ]
    },
    {
      "cell_type": "markdown",
      "metadata": {
        "id": "tkG073LW7NkA"
      },
      "source": [
        "O método ***items*** retorna uma tupla para cada par (***key:valor***):"
      ]
    },
    {
      "cell_type": "code",
      "metadata": {
        "id": "OmOf_Dai7NkB",
        "colab": {
          "base_uri": "https://localhost:8080/"
        },
        "outputId": "a3b0ea2c-536e-4d5e-b825-b8834f5efc33"
      },
      "source": [
        "print(frutas.items())\n"
      ],
      "execution_count": null,
      "outputs": [
        {
          "output_type": "stream",
          "name": "stdout",
          "text": [
            "dict_items([('maçãs', 430), ('bananas', 312), ('laranjas', 525), ('goiabas', 88), ('figos', 108), ('jambos', 249), ('peras', 0)])\n"
          ]
        }
      ]
    },
    {
      "cell_type": "markdown",
      "metadata": {
        "id": "6AqtrM7j7NkD"
      },
      "source": [
        "As tuplas podem ser úteis para obter a ***key*** e o valor ao mesmo tempo durante a execução do loop, ao utilizar o método ___items___:"
      ]
    },
    {
      "cell_type": "code",
      "metadata": {
        "id": "-pwLAgLa7NkE",
        "colab": {
          "base_uri": "https://localhost:8080/"
        },
        "outputId": "e68016ff-19c2-4e40-d1c9-30767e662661"
      },
      "source": [
        "for (k,v) in frutas.items():\n",
        "    print(\"Encontrei a chave \",k,\" que mapeia para o valor \",v)"
      ],
      "execution_count": null,
      "outputs": [
        {
          "output_type": "stream",
          "name": "stdout",
          "text": [
            "Encontrei a chave  maçãs  que mapeia para o valor  430\n",
            "Encontrei a chave  bananas  que mapeia para o valor  312\n",
            "Encontrei a chave  laranjas  que mapeia para o valor  525\n",
            "Encontrei a chave  goiabas  que mapeia para o valor  88\n",
            "Encontrei a chave  figos  que mapeia para o valor  108\n",
            "Encontrei a chave  jambos  que mapeia para o valor  249\n",
            "Encontrei a chave  peras  que mapeia para o valor  0\n"
          ]
        }
      ]
    },
    {
      "cell_type": "markdown",
      "metadata": {
        "id": "bUk5-UXJ7NkG"
      },
      "source": [
        "Os operadores ***in*** e ***not in*** podem testar se uma chave está no dicionário:"
      ]
    },
    {
      "cell_type": "code",
      "metadata": {
        "id": "qjROePKe7NkG",
        "colab": {
          "base_uri": "https://localhost:8080/"
        },
        "outputId": "d4888086-b111-4fc4-bdb2-46cb06e25fa9"
      },
      "source": [
        "\"bananas\" in frutas"
      ],
      "execution_count": null,
      "outputs": [
        {
          "output_type": "execute_result",
          "data": {
            "text/plain": [
              "True"
            ]
          },
          "metadata": {},
          "execution_count": 20
        }
      ]
    },
    {
      "cell_type": "code",
      "metadata": {
        "id": "tEvsAVkI7NkJ",
        "colab": {
          "base_uri": "https://localhost:8080/"
        },
        "outputId": "703fa9e8-ff07-49bb-92a7-1e45c8865526"
      },
      "source": [
        " \"jambos\" in frutas"
      ],
      "execution_count": null,
      "outputs": [
        {
          "output_type": "execute_result",
          "data": {
            "text/plain": [
              "True"
            ]
          },
          "metadata": {},
          "execution_count": 21
        }
      ]
    },
    {
      "cell_type": "markdown",
      "metadata": {
        "id": "jYoSpTzx7NkN"
      },
      "source": [
        "Esse método pode ser bastante útil pois ao tentar acessar uma ***key*** não exitente, Python retorna um erro de execução:"
      ]
    },
    {
      "cell_type": "code",
      "metadata": {
        "id": "JF1ceabu7NkO",
        "colab": {
          "base_uri": "https://localhost:8080/",
          "height": 164
        },
        "outputId": "ac481149-0cab-4f79-b77d-4b4fff0bd07c"
      },
      "source": [
        "frutas[\"mangas\"]"
      ],
      "execution_count": null,
      "outputs": [
        {
          "output_type": "error",
          "ename": "KeyError",
          "evalue": "ignored",
          "traceback": [
            "\u001b[0;31m---------------------------------------------------------------------------\u001b[0m",
            "\u001b[0;31mKeyError\u001b[0m                                  Traceback (most recent call last)",
            "\u001b[0;32m<ipython-input-22-c0e08424d4cb>\u001b[0m in \u001b[0;36m<module>\u001b[0;34m()\u001b[0m\n\u001b[0;32m----> 1\u001b[0;31m \u001b[0mfrutas\u001b[0m\u001b[0;34m[\u001b[0m\u001b[0;34m\"mangas\"\u001b[0m\u001b[0;34m]\u001b[0m\u001b[0;34m\u001b[0m\u001b[0;34m\u001b[0m\u001b[0m\n\u001b[0m",
            "\u001b[0;31mKeyError\u001b[0m: 'mangas'"
          ]
        }
      ]
    },
    {
      "cell_type": "markdown",
      "metadata": {
        "id": "mbw_Jma17NkR"
      },
      "source": [
        "O método ***get*** é também bem útil. Ele retorna o valor da ***key*** especificada:"
      ]
    },
    {
      "cell_type": "code",
      "metadata": {
        "id": "fD1zZaO17NkR",
        "colab": {
          "base_uri": "https://localhost:8080/"
        },
        "outputId": "2bdab5f9-acb4-4c71-8c3f-e185ed2b9e29"
      },
      "source": [
        "matrix = {(0, 3): 1, (2, 1): 2, (4, 3): 3}\n",
        "matrix.get((4,3))"
      ],
      "execution_count": null,
      "outputs": [
        {
          "output_type": "execute_result",
          "data": {
            "text/plain": [
              "3"
            ]
          },
          "metadata": {},
          "execution_count": 23
        }
      ]
    },
    {
      "cell_type": "markdown",
      "metadata": {
        "id": "h7M4YyeBvuCq"
      },
      "source": [
        "Caso a ***key*** não exista, retorna `None`,  ou um valor indicado como segundo parâmetro:"
      ]
    },
    {
      "cell_type": "code",
      "metadata": {
        "id": "RrnoVp6b7NkU",
        "colab": {
          "base_uri": "https://localhost:8080/"
        },
        "outputId": "d713eb7f-a355-4429-aa20-a288b5b058d0"
      },
      "source": [
        "a = matrix.get((2,2))\n",
        "print(a)"
      ],
      "execution_count": null,
      "outputs": [
        {
          "output_type": "stream",
          "name": "stdout",
          "text": [
            "None\n"
          ]
        }
      ]
    },
    {
      "cell_type": "code",
      "metadata": {
        "id": "PIkoDTI-7NkY",
        "colab": {
          "base_uri": "https://localhost:8080/"
        },
        "outputId": "86267b9c-635b-4829-8380-e0bfdf0c7d87"
      },
      "source": [
        "b=matrix.get((2,2), 0)\n",
        "print(b)\n",
        "\n",
        "c=matrix.get((2,1),-999)\n",
        "print(c)"
      ],
      "execution_count": null,
      "outputs": [
        {
          "output_type": "stream",
          "name": "stdout",
          "text": [
            "0\n",
            "2\n"
          ]
        }
      ]
    },
    {
      "cell_type": "code",
      "metadata": {
        "id": "VjKTCwIizEzS",
        "colab": {
          "base_uri": "https://localhost:8080/",
          "height": 35
        },
        "outputId": "9e92edbb-5072-439f-e705-3ca7f378ac8d"
      },
      "source": [
        "frutas.get(\"mangas\",\"Não tem manga\")"
      ],
      "execution_count": null,
      "outputs": [
        {
          "output_type": "execute_result",
          "data": {
            "application/vnd.google.colaboratory.intrinsic+json": {
              "type": "string"
            },
            "text/plain": [
              "'Não tem manga'"
            ]
          },
          "metadata": {},
          "execution_count": 27
        }
      ]
    },
    {
      "cell_type": "markdown",
      "metadata": {
        "id": "b1kSeXP37Nkd"
      },
      "source": [
        "## Aliasing e cópia\n",
        "\n",
        "Como no caso das listas, porque os **dicionários são mutáveis**, precisamos estar cientes do **aliasing** ou referência ao mesmo objeto. \n",
        "\n",
        "Sempre que duas variáveis se referem ao mesmo objeto, as alterações em uma delas afetam a outra.\n",
        "\n",
        "Se quiser modificar um dicionário e manter uma cópia do original, use o método de **cópia**  próprio do objeto, `copy`. \n",
        "\n",
        "Consideremos um dicionário chamado **opostos**, que contém pares de opostos:"
      ]
    },
    {
      "cell_type": "code",
      "metadata": {
        "id": "PalgqxJ17Nkd"
      },
      "source": [
        "opostos = {\"up\": \"down\", \"right\": \"wrong\", \"yes\": \"no\"}    # criação de um dicionário\n",
        "alias = opostos                                            # criação de um alias. o dicionário alias e opostos se referem ao mesmo objeto.\n",
        "copia = opostos.copy()                                     # cópia do dicionario opostos        "
      ],
      "execution_count": null,
      "outputs": []
    },
    {
      "cell_type": "markdown",
      "metadata": {
        "id": "ZU8QqGAA7Nkg"
      },
      "source": [
        "* Os dicionários ***alias*** e ***opostos*** se referem ao **mesmo objeto**; \n",
        "* O dicionário ***copia*** se refere a uma nova cópia do mesmo dicionário. \n",
        "* Se modificarmos o ***alias***, o dicionário ***opostos*** também será alterado:"
      ]
    },
    {
      "cell_type": "code",
      "metadata": {
        "id": "txSBGzJU7Nkg",
        "colab": {
          "base_uri": "https://localhost:8080/"
        },
        "outputId": "560e277b-7c95-43bc-d7fb-b0f6c8a84e3d"
      },
      "source": [
        "print(alias)"
      ],
      "execution_count": null,
      "outputs": [
        {
          "output_type": "stream",
          "name": "stdout",
          "text": [
            "{'up': 'down', 'right': 'wrong', 'yes': 'no'}\n"
          ]
        }
      ]
    },
    {
      "cell_type": "code",
      "metadata": {
        "id": "mJPsCMol7Nko",
        "colab": {
          "base_uri": "https://localhost:8080/"
        },
        "outputId": "342eb601-36af-4a24-ea40-9389498b8ff2"
      },
      "source": [
        "alias[\"right\"] = \"left\"\n",
        "print(opostos)"
      ],
      "execution_count": null,
      "outputs": [
        {
          "output_type": "stream",
          "name": "stdout",
          "text": [
            "{'up': 'down', 'right': 'left', 'yes': 'no'}\n"
          ]
        }
      ]
    },
    {
      "cell_type": "code",
      "metadata": {
        "id": "Y6S-lq4R7Nkr",
        "colab": {
          "base_uri": "https://localhost:8080/"
        },
        "outputId": "a1e65137-0f98-4dd2-bee2-c6f69dad7302"
      },
      "source": [
        "print(copia)"
      ],
      "execution_count": null,
      "outputs": [
        {
          "output_type": "stream",
          "name": "stdout",
          "text": [
            "{'up': 'down', 'right': 'wrong', 'yes': 'no'}\n"
          ]
        }
      ]
    },
    {
      "cell_type": "code",
      "metadata": {
        "id": "phshME4m7Nku",
        "colab": {
          "base_uri": "https://localhost:8080/"
        },
        "outputId": "c388010d-918a-44cb-e340-0e2d0bf14099"
      },
      "source": [
        "copia[\"goodbye\"] = \"hello\"\n",
        "print(copia)"
      ],
      "execution_count": null,
      "outputs": [
        {
          "output_type": "stream",
          "name": "stdout",
          "text": [
            "{'up': 'down', 'right': 'wrong', 'yes': 'no', 'goodbye': 'hello'}\n"
          ]
        }
      ]
    },
    {
      "cell_type": "code",
      "metadata": {
        "id": "oyrpRao37Nkw",
        "colab": {
          "base_uri": "https://localhost:8080/"
        },
        "outputId": "771b1457-2c5e-4882-c4f2-6fa68708d816"
      },
      "source": [
        "print(opostos)"
      ],
      "execution_count": null,
      "outputs": [
        {
          "output_type": "stream",
          "name": "stdout",
          "text": [
            "{'up': 'down', 'right': 'left', 'yes': 'no'}\n"
          ]
        }
      ]
    },
    {
      "cell_type": "markdown",
      "metadata": {
        "id": "rDXrBE-d7Nky"
      },
      "source": [
        "## Exercícios:\n",
        "\n",
        "1. Utilizando dicionários e o método `get` dos dicionários, contrua a seguinte matriz em Python e acesse os valores de índices (0,3), (2,1), (4,3) e (2,2).\n",
        "![matrix](https://github.com/malbouis/Python_intro/blob/master/aulas_2019/pics/matrix_aula12.png?raw=1)"
      ]
    },
    {
      "cell_type": "markdown",
      "metadata": {
        "id": "Uq6sTtnq7Nky"
      },
      "source": [
        "2. Contagem de Letras. \n",
        "\n",
        "  a.  Utilizando dicionários, escreva uma função que tome como argumento uma palavra (string) e  retorne um dicionário que tenha como ***key*** cada  letra da  palavra e como ***valor*** o número de vezes que ela aparece na palavra. Tal dicionário é chamado de **tabela de frequência**. ***Dica***: Utilize novamente o método `get` dos dicionários.\n",
        "\n",
        "  b.  Utilizando os métodos `sort` (referente a listas) e `items` (referente a dicionários), imprima na tela uma lista ordenada alfabeticamente da tabela de frequência obtida no item a."
      ]
    },
    {
      "cell_type": "markdown",
      "metadata": {
        "id": "XO898Foq7Nkz"
      },
      "source": [
        "3. Escreva um programa que leia uma string e retorne uma tabela das letras do alfabeto em ordem alfabética que ocorrem na string junto com o número de vezes que cada letra ocorre. Deve ser ignorado se a letra ocorre em maiúscula ou minúscula (contar da mesma forma \"A\" e \"a\"). Um exemplo de saída do programa quando o usuário digita os dados “ThiS is String with Upper and lower case Letters”, seria o seguinte:\n",
        "\n",
        "a  2\n",
        "\n",
        "c  1\n",
        "\n",
        "\n",
        "d  1\n",
        "\n",
        "\n",
        "e  5\n",
        "\n",
        "\n",
        "g  1\n",
        "\n",
        "\n",
        "h  2\n",
        "\n",
        "\n",
        "i  4\n",
        "\n",
        "\n",
        "l  2\n",
        "\n",
        "\n",
        "n  2\n",
        "\n",
        "\n",
        "o  1\n",
        "\n",
        "\n",
        "p  2\n",
        "\n",
        "\n",
        "r  4\n",
        "\n",
        "\n",
        "s  5\n",
        "\n",
        "\n",
        "t  5\n",
        "\n",
        "\n",
        "u  1\n",
        "\n",
        "\n",
        "w  2"
      ]
    },
    {
      "cell_type": "code",
      "metadata": {
        "id": "125WPpu27Nkz"
      },
      "source": [
        ""
      ],
      "execution_count": null,
      "outputs": []
    }
  ]
}