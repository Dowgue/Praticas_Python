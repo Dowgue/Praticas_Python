{
  "nbformat": 4,
  "nbformat_minor": 0,
  "metadata": {
    "kernelspec": {
      "display_name": "Python 3",
      "language": "python",
      "name": "python3"
    },
    "language_info": {
      "codemirror_mode": {
        "name": "ipython",
        "version": 3
      },
      "file_extension": ".py",
      "mimetype": "text/x-python",
      "name": "python",
      "nbconvert_exporter": "python",
      "pygments_lexer": "ipython3",
      "version": "3.7.0"
    },
    "colab": {
      "name": "aula2_variaveis_expressoes_declaracoes_funcoes.ipynb",
      "provenance": [],
      "collapsed_sections": [
        "ovDMJX2TyAlZ",
        "VKVkWHALyAli",
        "fhVLq2sGyAll",
        "1D7bGyTuyAlr",
        "xLQU58LJyAl8",
        "9K0YVGLjyAmA",
        "LDYykqsryAmT",
        "5w0g3eItyAmZ",
        "t9JkW-fLyAmc",
        "LIEmLrEiyAmg",
        "Pg2nZDTayAmq",
        "ApWStk60yAm4",
        "Vz8GxGVqyAm5",
        "yvM-GLIOyAm6",
        "4S5d3rEkyAm9",
        "CmmYIGI7yAnP",
        "lY0k8SHNyAni"
      ],
      "include_colab_link": true
    }
  },
  "cells": [
    {
      "cell_type": "markdown",
      "metadata": {
        "id": "view-in-github",
        "colab_type": "text"
      },
      "source": [
        "<a href=\"https://colab.research.google.com/github/Dowgue/Praticas_Python/blob/main/Aulas/aula2_variaveis_expressoes_declaracoes_funcoes.ipynb\" target=\"_parent\"><img src=\"https://colab.research.google.com/assets/colab-badge.svg\" alt=\"Open In Colab\"/></a>"
      ]
    },
    {
      "cell_type": "markdown",
      "metadata": {
        "id": "lelXyfLdyAko"
      },
      "source": [
        "Essa aula é uma tradução, com algumas poucas modificações, do livro online: ***\"Think Python: How to Think Like a Computer Scientist\", Allen B. Downey, Version 2.0.17***\n",
        "http://greenteapress.com/thinkpython2/html/index.html\n",
        "\n",
        "\n",
        "Existe também uma versão do livro em português: https://penseallen.github.io/PensePython2e/"
      ]
    },
    {
      "cell_type": "markdown",
      "metadata": {
        "id": "bJijrhpvyAkq"
      },
      "source": [
        "# Variáveis, expressões e declarações"
      ]
    },
    {
      "cell_type": "markdown",
      "metadata": {
        "id": "_bhRA5L9yAku"
      },
      "source": [
        "## Valores e tipos\n",
        "\n",
        "* **valor** : algo fundamental manipulado pelo programa\n",
        "   * letra\n",
        "   * número\n",
        "* **tipo** : classificação dos valores\n",
        "   * letra: string\n",
        "   * número: inteiro, float, bool\n",
        "\n",
        "#### String\n",
        "* o tipo string é *str* e é identificado por aspas"
      ]
    },
    {
      "cell_type": "code",
      "metadata": {
        "id": "RYRG4hz_yAkv"
      },
      "source": [
        "'letras'"
      ],
      "execution_count": null,
      "outputs": []
    },
    {
      "cell_type": "markdown",
      "metadata": {
        "id": "cDzybOZLyAk1"
      },
      "source": [
        "#### Float\n",
        "* os números reais são representados pelo tipo de dados *float*"
      ]
    },
    {
      "cell_type": "code",
      "metadata": {
        "id": "B0jZHHaIyAk2"
      },
      "source": [
        "10.8"
      ],
      "execution_count": null,
      "outputs": []
    },
    {
      "cell_type": "markdown",
      "metadata": {
        "id": "g2hnhSZKyAk5"
      },
      "source": [
        "Para saber o **tipo** de dados:"
      ]
    },
    {
      "cell_type": "code",
      "metadata": {
        "id": "rShNIDOGyAk6"
      },
      "source": [
        "type('letras')"
      ],
      "execution_count": null,
      "outputs": []
    },
    {
      "cell_type": "code",
      "metadata": {
        "id": "bgLmjbLzyAk-"
      },
      "source": [
        "type(10.8)"
      ],
      "execution_count": null,
      "outputs": []
    },
    {
      "cell_type": "code",
      "metadata": {
        "id": "_ce8NeUqyAlC"
      },
      "source": [
        "type(8)"
      ],
      "execution_count": null,
      "outputs": []
    },
    {
      "cell_type": "code",
      "metadata": {
        "id": "3K2FzKtzyAlF"
      },
      "source": [
        "type('3.8')"
      ],
      "execution_count": null,
      "outputs": []
    },
    {
      "cell_type": "markdown",
      "metadata": {
        "id": "AqGNnOVIyAlI"
      },
      "source": [
        "## Variáveis\n",
        "\n",
        "Uma **variável** é um nome que se refere a um **valor**.\n",
        "\n",
        "\n",
        "Uma **declaração de atribuição** de variáveis, cria novas variáveis e lhes atribui valores:"
      ]
    },
    {
      "cell_type": "code",
      "metadata": {
        "id": "eekgmp1XyAlJ"
      },
      "source": [
        "mensagem = 'Temos um número grande alunos inscritos na disciplina'"
      ],
      "execution_count": null,
      "outputs": []
    },
    {
      "cell_type": "code",
      "metadata": {
        "id": "7OeSFySfyAlM"
      },
      "source": [
        "n_alunos = 25"
      ],
      "execution_count": null,
      "outputs": []
    },
    {
      "cell_type": "code",
      "metadata": {
        "id": "Panrmk5NyAlP"
      },
      "source": [
        "pi = 3.1415926535897932"
      ],
      "execution_count": null,
      "outputs": []
    },
    {
      "cell_type": "code",
      "metadata": {
        "id": "ZrfHXsU0yAlR"
      },
      "source": [
        "type(mensagem)"
      ],
      "execution_count": null,
      "outputs": []
    },
    {
      "cell_type": "code",
      "metadata": {
        "id": "NTIHLjqCyAlU"
      },
      "source": [
        "type(n_alunos)"
      ],
      "execution_count": null,
      "outputs": []
    },
    {
      "cell_type": "code",
      "metadata": {
        "id": "Sjo05z0syAlW"
      },
      "source": [
        "type(pi)"
      ],
      "execution_count": null,
      "outputs": []
    },
    {
      "cell_type": "markdown",
      "metadata": {
        "id": "ovDMJX2TyAlZ"
      },
      "source": [
        "## Nomes de variáveis e palavras-chave\n",
        "Em geral, é de boa prática usarmos nomes de variáveis sugestivos.\n",
        "\n",
        "Nomes de variáveis podem ser arbitrariamente longos. Eles podem conter letras e números, mas **precisam começar com uma letra**. \n",
        "Pode-se usar letras maiúsculas, mas a diretriz de programação em Python é começar nomes de variáveis com letras minúsculas.\n",
        "\n",
        "O caractere *underline*, '_',  pode aparecer em um nome. É frequentemente usado em nomes com várias palavras, como *meu_nome* ou *massa_de_repouso*.\n",
        "\n",
        "Ao criar uma variável com um nome não permitido, haverá um erro de sintaxe:"
      ]
    },
    {
      "cell_type": "code",
      "metadata": {
        "id": "kNPMnzy1yAlZ"
      },
      "source": [
        "500mil_pessoas = 'multidao'"
      ],
      "execution_count": null,
      "outputs": []
    },
    {
      "cell_type": "code",
      "metadata": {
        "id": "hqHlckTuyAlc"
      },
      "source": [
        "milh@res = 10000 "
      ],
      "execution_count": null,
      "outputs": []
    },
    {
      "cell_type": "code",
      "metadata": {
        "id": "DbD14wyoyAlf"
      },
      "source": [
        "class = 'Introdução a Python'"
      ],
      "execution_count": null,
      "outputs": []
    },
    {
      "cell_type": "markdown",
      "metadata": {
        "id": "VKVkWHALyAli"
      },
      "source": [
        "#### Palavras-chave de Python"
      ]
    },
    {
      "cell_type": "code",
      "metadata": {
        "id": "sWr9j7SEyAli"
      },
      "source": [
        "import keyword\n",
        "print(keyword.kwlist)"
      ],
      "execution_count": null,
      "outputs": []
    },
    {
      "cell_type": "markdown",
      "metadata": {
        "id": "fhVLq2sGyAll"
      },
      "source": [
        "## Operadores e operandos\n",
        "* **Operadores**: símbolos especiais que representam cálculos como adição e multiplicação. \n",
        "* **Operandos**: valores aos quais o operador é aplicado.\n",
        "\n",
        "### Operadores:\n",
        "* adição: + \n",
        "* subtração: - \n",
        "* divisão: /\n",
        "* multiplicação: *\n",
        "* potência: **"
      ]
    },
    {
      "cell_type": "markdown",
      "metadata": {
        "id": "g0uSfIsQyAll"
      },
      "source": [
        "Em **python2**, a divisão de inteiros retorna um inteiro (**divisão de piso**). \n",
        "\n",
        "Porém, em **python3**, o resultado é um float:"
      ]
    },
    {
      "cell_type": "code",
      "metadata": {
        "id": "_a4fFXlxyAlm"
      },
      "source": [
        "59/60"
      ],
      "execution_count": null,
      "outputs": []
    },
    {
      "cell_type": "code",
      "metadata": {
        "id": "nhHqhOAEyAlo"
      },
      "source": [
        "# Para divisão de piso em python3:\n",
        "59//60"
      ],
      "execution_count": null,
      "outputs": []
    },
    {
      "cell_type": "markdown",
      "metadata": {
        "id": "1D7bGyTuyAlr"
      },
      "source": [
        "## Expressões e declarações\n",
        "Uma **expressão** é uma combinação de *valores*, *variáveis* e *operadores*. \n",
        "\n",
        "Um valor por si só é considerado uma expressão.\n",
        "\n",
        "Uma variável por si só também é considerada uma expressão.\n",
        "\n",
        "Exemplos de expressão:"
      ]
    },
    {
      "cell_type": "code",
      "metadata": {
        "id": "kjQ96wYiyAls"
      },
      "source": [
        "n_alunos"
      ],
      "execution_count": null,
      "outputs": []
    },
    {
      "cell_type": "code",
      "metadata": {
        "id": "ct3w6YuqyAlv"
      },
      "source": [
        "20"
      ],
      "execution_count": null,
      "outputs": []
    },
    {
      "cell_type": "code",
      "metadata": {
        "id": "tGsdE5X9yAl0"
      },
      "source": [
        "n_alunos + 20"
      ],
      "execution_count": null,
      "outputs": []
    },
    {
      "cell_type": "markdown",
      "metadata": {
        "id": "JwPi2FD6yAl2"
      },
      "source": [
        "Uma **declaração** é um pedaço de código que o interpretador de Python pode executar. \n",
        "Por exemplo, uma atribuição (*assignment*) também é uma declaração: "
      ]
    },
    {
      "cell_type": "code",
      "metadata": {
        "id": "ekbstHg3yAl2"
      },
      "source": [
        "x = 20"
      ],
      "execution_count": null,
      "outputs": []
    },
    {
      "cell_type": "code",
      "metadata": {
        "id": "OV7WnTOWyAl6"
      },
      "source": [
        "print(' \"print\" também é uma declaração')"
      ],
      "execution_count": null,
      "outputs": []
    },
    {
      "cell_type": "markdown",
      "metadata": {
        "id": "JFrzoqa-4f7b"
      },
      "source": [
        "* Quando criamos uma **expressão** o interpretador **calcula** algo e obtém um resultado;\n",
        "* Ao criar uma **declaração**, o interpretador de Python precisa **executar** a declaração, que é atender ao comando da declaração. Em geral, declarações não precisam ter um resultado."
      ]
    },
    {
      "cell_type": "markdown",
      "metadata": {
        "id": "xLQU58LJyAl8"
      },
      "source": [
        "### Exercício\n",
        "Digite as seguintes expressões e/ou declarações no prompt e veja o que elas fazem:\n",
        "* 5\n",
        "* x = 5\n",
        "* x + 1\n",
        "\n",
        "Em seguida, escreva um script com as declarações e compare a saída do script e do prompt. Modifique o script para que as saídas (do script e prompt) sejam iguais."
      ]
    },
    {
      "cell_type": "code",
      "metadata": {
        "id": "LE6WbfsU9L3g"
      },
      "source": [
        "5"
      ],
      "execution_count": null,
      "outputs": []
    },
    {
      "cell_type": "code",
      "metadata": {
        "id": "_cEqIa_VDJ7p"
      },
      "source": [
        "x = 5"
      ],
      "execution_count": null,
      "outputs": []
    },
    {
      "cell_type": "code",
      "metadata": {
        "id": "JshLSsPBDMim"
      },
      "source": [
        "x + 1"
      ],
      "execution_count": null,
      "outputs": []
    },
    {
      "cell_type": "code",
      "metadata": {
        "id": "3vltzq-M-pTE",
        "colab": {
          "base_uri": "https://localhost:8080/"
        },
        "outputId": "7ab62b06-0203-4661-9a99-76f7e1e22f98"
      },
      "source": [
        "from google.colab import drive\n",
        "drive.mount('/gdrive')\n",
        "%cd /gdrive/"
      ],
      "execution_count": null,
      "outputs": [
        {
          "output_type": "stream",
          "text": [
            "Mounted at /gdrive\n",
            "/gdrive\n"
          ],
          "name": "stdout"
        }
      ]
    },
    {
      "cell_type": "code",
      "metadata": {
        "id": "7RxF7atIyAl9",
        "colab": {
          "base_uri": "https://localhost:8080/"
        },
        "outputId": "3da9cdd2-4948-42d4-d1b9-bd6016842c38"
      },
      "source": [
        "%cd /gdrive/My Drive/UERJ/Aulas/PYTHON/PAE/2021-1/\n",
        "# como rodar um script a partir do jupyter notebook:\n",
        "%run -i ex_aula2.py"
      ],
      "execution_count": null,
      "outputs": [
        {
          "output_type": "stream",
          "text": [
            "/gdrive/My Drive/UERJ/Aulas/PYTHON/PAE/2021-1\n",
            "5\n",
            "5\n",
            "6\n"
          ],
          "name": "stdout"
        }
      ]
    },
    {
      "cell_type": "markdown",
      "metadata": {
        "id": "9K0YVGLjyAmA"
      },
      "source": [
        "## Ordem das Operações\n",
        "\n",
        "Quando mais de um operador aparece em uma expressão, a ordem de avaliação depende das **regras de precedência**. Para operadores matemáticos, o **Python segue a convenção matemática**. O acrônimo **PEMDAS (Parênteses, Exponenciação, Multiplicação e Divisão)** é uma maneira útil de lembrar as regras:\n",
        "\n",
        "**P**arênteses: têm a precedência mais alta e podem ser usados para forçar uma expressão a ser avaliada na ordem desejada. As expressões entre parênteses são avaliadas primeiro.\n",
        "\n",
        "Você também pode usar parênteses para melhorar a legibilidade, mesmo não alterando o resultado."
      ]
    },
    {
      "cell_type": "code",
      "metadata": {
        "id": "h4j1JDFxyAmA"
      },
      "source": [
        "2 * (3 - 1)"
      ],
      "execution_count": null,
      "outputs": []
    },
    {
      "cell_type": "code",
      "metadata": {
        "id": "7f3yC-CEyAmD"
      },
      "source": [
        "(1 + 1)**(5 - 2)"
      ],
      "execution_count": null,
      "outputs": []
    },
    {
      "cell_type": "code",
      "metadata": {
        "id": "pH750EvYyAmF"
      },
      "source": [
        "(n_alunos * 100) / 60"
      ],
      "execution_count": null,
      "outputs": []
    },
    {
      "cell_type": "markdown",
      "metadata": {
        "id": "cxN4MvhNyAmH"
      },
      "source": [
        "**E**xponenciação: tem a segunda precedência mais alta:"
      ]
    },
    {
      "cell_type": "code",
      "metadata": {
        "id": "WMRKhSxeyAmH"
      },
      "source": [
        "2 ** 1 + 1"
      ],
      "execution_count": null,
      "outputs": []
    },
    {
      "cell_type": "code",
      "metadata": {
        "id": "X1SZYx89yAmK"
      },
      "source": [
        "3 * 1 ** 3"
      ],
      "execution_count": null,
      "outputs": []
    },
    {
      "cell_type": "markdown",
      "metadata": {
        "id": "9U1vUd1ayAmN"
      },
      "source": [
        "**M**ultiplicação e **D**ivisão: têm a mesma precedência, que é maior que **A**dição e **S**ubtração, que também têm a mesma precedência."
      ]
    },
    {
      "cell_type": "code",
      "metadata": {
        "id": "SsDu7MhmyAmO"
      },
      "source": [
        "2 * 3 - 1"
      ],
      "execution_count": null,
      "outputs": []
    },
    {
      "cell_type": "code",
      "metadata": {
        "id": "pmHofaQeyAmQ"
      },
      "source": [
        "6 + 4/2"
      ],
      "execution_count": null,
      "outputs": []
    },
    {
      "cell_type": "markdown",
      "metadata": {
        "id": "cGwkp5A7yAmS"
      },
      "source": [
        "***Na dúvida, use sempre parênteses!***"
      ]
    },
    {
      "cell_type": "markdown",
      "metadata": {
        "id": "LDYykqsryAmT"
      },
      "source": [
        "## Operações com Strings\n",
        "\n",
        "Em geral, **não é possível realizar operações matemáticas em strings**"
      ]
    },
    {
      "cell_type": "code",
      "metadata": {
        "id": "NCV21oC4yAmT"
      },
      "source": [
        "'2' - '1'"
      ],
      "execution_count": null,
      "outputs": []
    },
    {
      "cell_type": "code",
      "metadata": {
        "id": "FieeOYMUyAmV"
      },
      "source": [
        "'quebrar' / 'ovos'"
      ],
      "execution_count": null,
      "outputs": []
    },
    {
      "cell_type": "code",
      "metadata": {
        "id": "rdulv9iIyAmX"
      },
      "source": [
        "'acucar' * 'doce'"
      ],
      "execution_count": null,
      "outputs": []
    },
    {
      "cell_type": "markdown",
      "metadata": {
        "id": "5w0g3eItyAmZ"
      },
      "source": [
        "#### O operador '+' pode ser aplicado a strings: ele realiza **concatenação**, o que significa unir as strings vinculando-as de ponta a ponta."
      ]
    },
    {
      "cell_type": "code",
      "metadata": {
        "id": "RKl-wf3-yAma"
      },
      "source": [
        "primeira_frase = 'mundo, mundo'\n",
        "segunda_frase = ', vasto mundo'\n",
        "print(primeira_frase + segunda_frase)"
      ],
      "execution_count": null,
      "outputs": []
    },
    {
      "cell_type": "markdown",
      "metadata": {
        "id": "t9JkW-fLyAmc"
      },
      "source": [
        "#### O operador '*' também pode ser aplicado a strings. Porém um dos operandos tem que ser uma string e o outro um inteiro:"
      ]
    },
    {
      "cell_type": "code",
      "metadata": {
        "id": "l5H58WxqyAmc"
      },
      "source": [
        "'mundo'*4"
      ],
      "execution_count": null,
      "outputs": []
    },
    {
      "cell_type": "code",
      "metadata": {
        "id": "Hdg05v-2yAme"
      },
      "source": [
        "'mundo, '*2 + 'vasto mundo' "
      ],
      "execution_count": null,
      "outputs": []
    },
    {
      "cell_type": "markdown",
      "metadata": {
        "id": "LIEmLrEiyAmg"
      },
      "source": [
        "## Comentários\n",
        "\n",
        "É recomendável adicionar observações aos seus programas para explicar em linguagem natural o que o programa está fazendo. Essas observações são chamadas de **comentários** e começam com o símbolo **#**.\n",
        "\n",
        "Um comentário é útil quando relata alguma característica não óbvia do programa."
      ]
    },
    {
      "cell_type": "code",
      "metadata": {
        "id": "W-wGB1sgyAmh"
      },
      "source": [
        "# Calcular a velocidade v de um corpo\n",
        "s = 100 # distância em metros\n",
        "t = 10 # tempo em segundos\n",
        "v = s/t\n",
        "print('velocidade = ', v, 'm/s')"
      ],
      "execution_count": null,
      "outputs": []
    },
    {
      "cell_type": "markdown",
      "metadata": {
        "id": "7XRiXmw5yAmj"
      },
      "source": [
        "Exemplo de comentário inútil:"
      ]
    },
    {
      "cell_type": "code",
      "metadata": {
        "id": "4jSqqx_OyAmk"
      },
      "source": [
        "s = 100 # atribui o valor 100 a s. "
      ],
      "execution_count": null,
      "outputs": []
    },
    {
      "cell_type": "markdown",
      "metadata": {
        "id": "gu34FLdpyAmn"
      },
      "source": [
        "A escolha de bons nomes de variáveis, diminui o número de comentários necessários:"
      ]
    },
    {
      "cell_type": "code",
      "metadata": {
        "id": "mP_22gxMyAmo"
      },
      "source": [
        "# Calcular a velocidade em m/s de um corpo\n",
        "distancia = 100 \n",
        "tempo = 10 \n",
        "velocidade = distancia/tempo\n",
        "print(velocidade, 'm/s')"
      ],
      "execution_count": null,
      "outputs": []
    },
    {
      "cell_type": "markdown",
      "metadata": {
        "id": "Pg2nZDTayAmq"
      },
      "source": [
        "## Debugging\n",
        "\n",
        "Os **erros de sintaxe** mais comuns até aqui devem ser:\n",
        "\n",
        "* ***nome de variável ilegal (não permitido)***:\n",
        "   * *class* e *yield*, que são palavras-chave (keyword)\n",
        "   * *meu-nome* e *R$*, que contêm caracteres ilegais.\n",
        "\n",
        "Se você colocar um espaço em um nome de variável, o Python acha que são dois operandos sem um operador:"
      ]
    },
    {
      "cell_type": "code",
      "metadata": {
        "id": "ahiFLzTUyAmr"
      },
      "source": [
        "nome ruim de variavel = 5"
      ],
      "execution_count": null,
      "outputs": []
    },
    {
      "cell_type": "markdown",
      "metadata": {
        "id": "1lACCLu_yAmv"
      },
      "source": [
        "As mensagens mais comuns são SyntaxError: sintaxe inválida e SyntaxError: token inválido, nenhum dos quais é muito informativo.\n",
        "\n",
        "O **erro de execução** que você provavelmente mais encontrará é a de **tentativa de uso de uma variável antes antes de atribuir um valor (*use before def*)**. Isso pode acontecer quando se soletra um nome de variável errado:"
      ]
    },
    {
      "cell_type": "code",
      "metadata": {
        "id": "VExIEYFUyAmv"
      },
      "source": [
        "# cálculo do IMC de um bebê\n",
        "massa = 11 # em Kg\n",
        "altura = 0.70 # m\n",
        "imc = mass/altura**2 \n",
        "print(imc)"
      ],
      "execution_count": null,
      "outputs": []
    },
    {
      "cell_type": "markdown",
      "metadata": {
        "id": "xzrpx4qNyAmz"
      },
      "source": [
        "Os **erros de semântica** mais comuns até aqui devem ser os de precedência de operações matemáticas. Por exemplo, se você quer calcular 1/(2pi):"
      ]
    },
    {
      "cell_type": "code",
      "metadata": {
        "id": "uYtTBiEDyAm0"
      },
      "source": [
        "pi = 3.14\n",
        "1/2*pi"
      ],
      "execution_count": null,
      "outputs": []
    },
    {
      "cell_type": "code",
      "metadata": {
        "id": "FYBKn0PxyAm2"
      },
      "source": [
        "1/(2*pi)"
      ],
      "execution_count": null,
      "outputs": []
    },
    {
      "cell_type": "markdown",
      "metadata": {
        "id": "Vz8GxGVqyAm5"
      },
      "source": [
        "## Exercícios\n",
        "\n",
        "### Exercício 1:\n",
        "Considere as seguintes declarações de atribuições:\n",
        "   * largura = 17 \n",
        "   * altura = 12.0\n",
        "   * delimitador = \".\"\n",
        "   \n",
        "Para cada uma das expressões a seguir, escreva o valor das expressões e o tipo (do valor da expressão):\n",
        "1. largura/2\n",
        "1. largura/2.0\n",
        "1. altura/3\n",
        "1. 1 + 2 * 5\n",
        "1. delimitador*5\n",
        "\n",
        "Use o interpretador de python para verificar suas respostas.\n",
        "\n",
        "### Exercício 2:\n",
        "O volume de uma esfera de raio *r* é $\\frac{4}{3} \\pi r^{3}$ \n",
        "\n",
        "Qual é o volume de uma esfera de raio 5?\n",
        "\n",
        "### Exercício 3:\n",
        "Suponha que o preço de um livro seja 24.95 reais, porém as livrarias têm desconto de 40%. Os custos de envio são de 3.00 reais para o primeiro livro e 0.75 reais para os livros adicionais. Qual é o custo total da compra de 60 livros?  \n",
        "\n",
        "### Exercício 4:\n",
        "Um laser vermelho (com comprimento de onda $\\lambda = 632.8$ nm) incide em uma fenda dupla produzindo um padrão de interferência com franjas claras e escuras, em um anteparo situado a uma distância D = 1.98 m da fenda. Calcule a distância $\\Delta y$ entre dois máximos consecutivos de interferência. Considere o espaçamento entre as fendas, $d$, como sendo igual a 0.250 mm.\n",
        "*Dica: a distância entre dois máximos de interferência consecutivos pode ser aproximada por $\\Delta y = \\frac{\\lambda D}{d}$.*"
      ]
    },
    {
      "cell_type": "markdown",
      "metadata": {
        "id": "ApWStk60yAm4"
      },
      "source": [
        "## Glossário\n",
        "\n",
        "* **valor:** Uma das unidades básicas de dados, como um número ou string, que um programa manipula.\n",
        "* **tipo:** Uma categoria de valores. Os tipos que vimos até agora são inteiros (tipo int), números de ponto flutuante (tipo float) e strings (tipo str).\n",
        "* **inteiro:** Um tipo que representa números inteiros.\n",
        "* **ponto flutuante:** Um tipo que representa números com partes fracionárias.\n",
        "* **string:** Um tipo que representa sequências de caracteres.\n",
        "* **variável:** Um nome que se refere a um valor.\n",
        "* **declaração:** Uma seção de código que representa um comando ou ação. Até agora, as declarações que temos visto são atribuições e declarações impressas.\n",
        "* **atribuição:** Uma declaração que atribui um valor a uma variável.\n",
        "* **palavra chave:** Uma palavra reservada que é usada pelo compilador para analisar um programa; você não pode usar palavras-chave como if, def e while como nomes de variáveis.\n",
        "* **operador:** Um símbolo especial que representa um cálculo simples, como adição, multiplicação ou concatenação de string.\n",
        "* **operando:** Um dos valores nos quais um operador opera.\n",
        "* **divisão de piso:** A operação que divide dois números e corta a parte fracionária.\n",
        "* **expressão:** Uma combinação de variáveis, operadores e valores que representa um único valor de resultado.\n",
        "* **Estimar/calcular:** Simplificar uma expressão executando as operações para gerar um único valor.\n",
        "* **regras de precedência:** O conjunto de regras que governam a ordem na qual as expressões envolvendo vários operadores e operandos são avaliadas.\n",
        "* **concatenar:** Unir dois operandos de ponta a ponta.\n",
        "* **Comentar:** Informações em um programa destinado a outros programadores (ou qualquer pessoa que esteja lendo o código-fonte) e não tem efeito sobre a execução do programa."
      ]
    }
  ]
}