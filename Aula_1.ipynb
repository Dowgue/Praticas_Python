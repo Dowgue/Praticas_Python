{
  "nbformat": 4,
  "nbformat_minor": 0,
  "metadata": {
    "colab": {
      "name": "Aula_1.ipynb",
      "provenance": []
    },
    "kernelspec": {
      "name": "python3",
      "display_name": "Python 3"
    },
    "language_info": {
      "name": "python"
    }
  },
  "cells": [
    {
      "cell_type": "markdown",
      "metadata": {
        "id": "BgeKQdyoa1QL"
      },
      "source": [
        "Exercício 1(Aula) - Escreva na tela do modo prompt: \"mundo, mundo, vasto mundo\"\n",
        "\n"
      ]
    },
    {
      "cell_type": "code",
      "metadata": {
        "colab": {
          "base_uri": "https://localhost:8080/"
        },
        "id": "cOZSqvy1bKvs",
        "outputId": "f163c7e8-7419-4b35-ab05-0930bcb69b93"
      },
      "source": [
        "print(\"mundo, mundo, vasto mundo\")"
      ],
      "execution_count": null,
      "outputs": [
        {
          "output_type": "stream",
          "text": [
            "mundo, mundo, vasto mundo\n"
          ],
          "name": "stdout"
        }
      ]
    },
    {
      "cell_type": "markdown",
      "metadata": {
        "id": "Ln-9amN2bRyt"
      },
      "source": [
        "Exercício 2(Aula) - Imprima na tela a documentação da função print"
      ]
    },
    {
      "cell_type": "code",
      "metadata": {
        "colab": {
          "base_uri": "https://localhost:8080/"
        },
        "id": "Z7qO8GnZbdf0",
        "outputId": "79a7c31d-54ae-4426-8d7a-7dc38541c250"
      },
      "source": [
        "help(print)"
      ],
      "execution_count": null,
      "outputs": [
        {
          "output_type": "stream",
          "text": [
            "Help on built-in function print in module builtins:\n",
            "\n",
            "print(...)\n",
            "    print(value, ..., sep=' ', end='\\n', file=sys.stdout, flush=False)\n",
            "    \n",
            "    Prints the values to a stream, or to sys.stdout by default.\n",
            "    Optional keyword arguments:\n",
            "    file:  a file-like object (stream); defaults to the current sys.stdout.\n",
            "    sep:   string inserted between values, default a space.\n",
            "    end:   string appended after the last value, default a newline.\n",
            "    flush: whether to forcibly flush the stream.\n",
            "\n"
          ],
          "name": "stdout"
        }
      ]
    },
    {
      "cell_type": "markdown",
      "metadata": {
        "id": "viF2Q3cdbhkE"
      },
      "source": [
        "Exercício 3(Aula) - \n",
        "Inicie o interpretador Python e use-o como uma calculadora. A sintaxe do Python para operações matemáticas é quase igual à notação matemática padrão: \n",
        "\n",
        "* adição: + \n",
        "* subtração: - \n",
        "* divisão: /\n",
        "* multiplicação: *\n",
        "   \n",
        "   \n",
        "***Se você fizer uma corrida de 10 quilômetros em 43 minutos e 30 segundos, qual será seu tempo médio por milha? Qual é a sua velocidade média em milhas por hora? (Dica: há 1,61 quilômetros em uma milha).***"
      ]
    },
    {
      "cell_type": "code",
      "metadata": {
        "colab": {
          "base_uri": "https://localhost:8080/"
        },
        "id": "Ar_iGhdccbch",
        "outputId": "aa811d1a-801c-4618-8bee-f81a7a474740"
      },
      "source": [
        "a=10\n",
        "b=1.61\n",
        "\n",
        "print(\"O fator de conversão de 10km para milha é\", a/b , \"milha\")"
      ],
      "execution_count": null,
      "outputs": [
        {
          "output_type": "stream",
          "text": [
            "O fator de conversão de 10km para milha é 6.211180124223602 milha\n"
          ],
          "name": "stdout"
        }
      ]
    },
    {
      "cell_type": "code",
      "metadata": {
        "colab": {
          "base_uri": "https://localhost:8080/"
        },
        "id": "9vFn60hHdAyi",
        "outputId": "f41d53b4-d544-4894-bca7-9a1651133e2e"
      },
      "source": [
        "a=43.5\n",
        "b=10/1.61\n",
        "\n",
        "print(\"O tempo médio por milha será \", a/b , \"min/milha\")"
      ],
      "execution_count": null,
      "outputs": [
        {
          "output_type": "stream",
          "text": [
            "O tempo médio por milha será  7.003500000000001 min*milha**-1\n"
          ],
          "name": "stdout"
        }
      ]
    },
    {
      "cell_type": "code",
      "metadata": {
        "colab": {
          "base_uri": "https://localhost:8080/"
        },
        "id": "j5CWof1hdfYy",
        "outputId": "e1e2e1ef-a01a-4af0-fef8-ffcbbc13e929"
      },
      "source": [
        "a=10/1.61\n",
        "b=(43.5/60)\n",
        "\n",
        "print(\"A velocidade média será\", a/b , \"milha/h\")"
      ],
      "execution_count": null,
      "outputs": [
        {
          "output_type": "stream",
          "text": [
            "A velocidade média será 8.567144998929106 milha/h\n"
          ],
          "name": "stdout"
        }
      ]
    },
    {
      "cell_type": "markdown",
      "metadata": {
        "id": "kbmL2MbGeukb"
      },
      "source": [
        "Exercício 2(Twiki) - Desde sua varanda você escuta o som do primeiro fogo artificial do reveillon 3 segundos depois de ver a luz, qual a distância? (o som tem velocidade 343 m/s e a luz $3\\times 10^8$ m/s).\n"
      ]
    },
    {
      "cell_type": "code",
      "metadata": {
        "colab": {
          "base_uri": "https://localhost:8080/"
        },
        "id": "hgQ8o5rjfdwa",
        "outputId": "af37c6d3-eb9c-4392-a77a-6a3c580e9b26"
      },
      "source": [
        "v=343\n",
        "t=3\n",
        "\n",
        "print(\"A distância entre a varanda é de \", v*t , \"m\")"
      ],
      "execution_count": null,
      "outputs": [
        {
          "output_type": "stream",
          "text": [
            "A distância entre a varanda é de  1029 m\n"
          ],
          "name": "stdout"
        }
      ]
    },
    {
      "cell_type": "markdown",
      "metadata": {
        "id": "pcZNuvIWf8KK"
      },
      "source": [
        "Exercício 3(Twiki) - Ache os zeros da função\n",
        " $y = 3x^2 - 4x -10 $\n",
        "\n",
        "\n",
        "\n"
      ]
    },
    {
      "cell_type": "code",
      "metadata": {
        "colab": {
          "base_uri": "https://localhost:8080/"
        },
        "id": "-0h9C2hBgEA6",
        "outputId": "6270335f-5c17-4d24-bb7a-09777d8f74ad"
      },
      "source": [
        "a=3\n",
        "b=-4\n",
        "c=-10\n",
        "\n",
        "import math\n",
        "\n",
        "x1=(-b + math.sqrt(b**2 - 4*a*c))/(2*a)\n",
        "x2=(-b - math.sqrt(b**2 - 4*a*c))/(2*a)\n",
        "\n",
        "print(\"Os zeros da função é nos pontos\", x1 , \"e\" , x2)\n"
      ],
      "execution_count": null,
      "outputs": [
        {
          "output_type": "stream",
          "text": [
            "Os zeros da função é nos pontos 2.610317298281767 e -1.2769839649484336\n"
          ],
          "name": "stdout"
        }
      ]
    },
    {
      "cell_type": "markdown",
      "metadata": {
        "id": "wCcEBlighcVu"
      },
      "source": [
        "Exercício 4(Twiki) - Se, ao meio dia, a sombra de um poste de 5 m de altura tem apenas 50 cm de comprimento no chão, qual o ângulo zenital do sol?"
      ]
    },
    {
      "cell_type": "code",
      "metadata": {
        "colab": {
          "base_uri": "https://localhost:8080/"
        },
        "id": "qJkXAYosiGbZ",
        "outputId": "0456dbb5-236b-4f9e-e8d0-54d4781a1a1b"
      },
      "source": [
        "import math\n",
        "\n",
        "a=math.degrees(math.atan(0.5/5))\n",
        "\n",
        "print(\"O ângulo zenital é \", a , \"°\")"
      ],
      "execution_count": null,
      "outputs": [
        {
          "output_type": "stream",
          "text": [
            "O ângulo zenital é  5.710593137499643 °\n"
          ],
          "name": "stdout"
        }
      ]
    },
    {
      "cell_type": "markdown",
      "metadata": {
        "id": "ZkuwL1UlkHiI"
      },
      "source": [
        "Exercício 5(Twiki) - Calcule o seu IMC: IMC = $M / A^2 $(com a massa em Kg e a altura em metros). Um valor saudável estara --em geral-- entre 20-25. Um bebê de 6 meses \"gorducho\" tem 70 cm de \"comprimento\" e 11 kg de massa, qual o IMC dele?"
      ]
    },
    {
      "cell_type": "code",
      "metadata": {
        "colab": {
          "base_uri": "https://localhost:8080/"
        },
        "id": "hbUr-Kwdk6N7",
        "outputId": "bcbbe141-2870-4e00-b4b1-1b135d782d47"
      },
      "source": [
        "a=11\n",
        "b=0.7**2\n",
        "\n",
        "c=a/b\n",
        "\n",
        "print(\"O IMC do bebê será\", c )"
      ],
      "execution_count": null,
      "outputs": [
        {
          "output_type": "stream",
          "text": [
            "O IMC do bebê será 22.44897959183674\n"
          ],
          "name": "stdout"
        }
      ]
    },
    {
      "cell_type": "markdown",
      "metadata": {
        "id": "UsGJYW81l4NF"
      },
      "source": [
        "Exercício 6(Twiki) - Calcule a velocidade final de um objeto em queda livre a partir de 3 metros de altura (sem resistencia do ar). Calcule o tempo que esse objeto demora para cair."
      ]
    },
    {
      "cell_type": "code",
      "metadata": {
        "colab": {
          "base_uri": "https://localhost:8080/"
        },
        "id": "Fj_jEc4hl_D9",
        "outputId": "4b3f96fb-928c-4f34-a1c5-b21c9032a72e"
      },
      "source": [
        "import math\n",
        "\n",
        "g=9.8\n",
        "h=3\n",
        "\n",
        "t=math.sqrt((2*h)/g)\n",
        "\n",
        "print(\"O tempo que o objeto demora a cair é \", t , \"s\")\n",
        "\n",
        "v=g*t\n",
        "\n",
        "print(\"A velocidade final do objeto será\", v , \"m/s\")"
      ],
      "execution_count": null,
      "outputs": [
        {
          "output_type": "stream",
          "text": [
            "O tempo que o objeto demora a cair é  0.7824607964359516 s\n",
            "A velocidade final do objeto será 7.6681158050723255 m/s\n"
          ],
          "name": "stdout"
        }
      ]
    }
  ]
}